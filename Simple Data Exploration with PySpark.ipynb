{
 "cells": [
  {
   "cell_type": "markdown",
   "metadata": {},
   "source": [
    "# Simple Data Exploration Using PySpark"
   ]
  },
  {
   "cell_type": "markdown",
   "metadata": {},
   "source": [
    "# The Outputs don't look appealing in this platform, they look normal in the DataBricks Ecosystem."
   ]
  },
  {
   "cell_type": "markdown",
   "metadata": {
    "application/vnd.databricks.v1+cell": {
     "inputWidgets": {},
     "nuid": "2ee7c0a3-4915-44be-8a7f-79110885a61b",
     "showTitle": false,
     "title": ""
    }
   },
   "source": [
    "# SPARK DFs"
   ]
  },
  {
   "cell_type": "code",
   "execution_count": 0,
   "metadata": {
    "application/vnd.databricks.v1+cell": {
     "inputWidgets": {},
     "nuid": "22cf984e-9e91-4d03-a1c2-15a191fae495",
     "showTitle": false,
     "title": ""
    }
   },
   "outputs": [
    {
     "data": {
      "text/html": [
       "<style scoped>\n",
       "  .ansiout {\n",
       "    display: block;\n",
       "    unicode-bidi: embed;\n",
       "    white-space: pre-wrap;\n",
       "    word-wrap: break-word;\n",
       "    word-break: break-all;\n",
       "    font-family: \"Source Code Pro\", \"Menlo\", monospace;;\n",
       "    font-size: 13px;\n",
       "    color: #555;\n",
       "    margin-left: 4px;\n",
       "    line-height: 19px;\n",
       "  }\n",
       "</style>\n",
       "<div class=\"ansiout\"></div>"
      ]
     },
     "metadata": {
      "application/vnd.databricks.v1+output": {
       "addedWidgets": {},
       "arguments": {},
       "data": "<div class=\"ansiout\"></div>",
       "datasetInfos": [],
       "metadata": {},
       "removedWidgets": [],
       "type": "html"
      }
     },
     "output_type": "display_data"
    }
   ],
   "source": [
    "#Importing the necessary libraries\n",
    "\n",
    "from pyspark.sql import SparkSession\n",
    "from pyspark.sql.types import StructType, StructField, StringType, IntegerType\n",
    "from pyspark.sql.functions import col \n",
    "from pyspark.sql.functions import lit\n",
    "from pyspark.sql.functions import sum, avg, max, min, mean, count\n"
   ]
  },
  {
   "cell_type": "code",
   "execution_count": null,
   "metadata": {},
   "outputs": [],
   "source": [
    "spark = SparkSession.builder.appName(\"DataFrame\").getOrCreate()"
   ]
  },
  {
   "cell_type": "code",
   "execution_count": 0,
   "metadata": {
    "application/vnd.databricks.v1+cell": {
     "inputWidgets": {},
     "nuid": "d91bc839-d97a-41b5-ad87-624b02288a50",
     "showTitle": false,
     "title": ""
    }
   },
   "outputs": [
    {
     "data": {
      "text/html": [
       "<style scoped>\n",
       "  .ansiout {\n",
       "    display: block;\n",
       "    unicode-bidi: embed;\n",
       "    white-space: pre-wrap;\n",
       "    word-wrap: break-word;\n",
       "    word-break: break-all;\n",
       "    font-family: \"Source Code Pro\", \"Menlo\", monospace;;\n",
       "    font-size: 13px;\n",
       "    color: #555;\n",
       "    margin-left: 4px;\n",
       "    line-height: 19px;\n",
       "  }\n",
       "</style>\n",
       "<div class=\"ansiout\"></div>"
      ]
     },
     "metadata": {
      "application/vnd.databricks.v1+output": {
       "addedWidgets": {},
       "arguments": {},
       "data": "<div class=\"ansiout\"></div>",
       "datasetInfos": [],
       "metadata": {},
       "removedWidgets": [],
       "type": "html"
      }
     },
     "output_type": "display_data"
    }
   ],
   "source": [
    "# Defining the file path\n",
    "\n",
    "path  = \"/FileStore/tables/taxi_zones.csv\""
   ]
  },
  {
   "cell_type": "code",
   "execution_count": 0,
   "metadata": {
    "application/vnd.databricks.v1+cell": {
     "inputWidgets": {},
     "nuid": "800ce279-9ef5-42db-9ef2-b15345f0ec12",
     "showTitle": false,
     "title": ""
    }
   },
   "outputs": [
    {
     "data": {
      "text/html": [
       "<style scoped>\n",
       "  .ansiout {\n",
       "    display: block;\n",
       "    unicode-bidi: embed;\n",
       "    white-space: pre-wrap;\n",
       "    word-wrap: break-word;\n",
       "    word-break: break-all;\n",
       "    font-family: \"Source Code Pro\", \"Menlo\", monospace;;\n",
       "    font-size: 13px;\n",
       "    color: #555;\n",
       "    margin-left: 4px;\n",
       "    line-height: 19px;\n",
       "  }\n",
       "</style>\n",
       "<div class=\"ansiout\"></div>"
      ]
     },
     "metadata": {
      "application/vnd.databricks.v1+output": {
       "addedWidgets": {},
       "arguments": {},
       "data": "<div class=\"ansiout\"></div>",
       "datasetInfos": [],
       "metadata": {},
       "removedWidgets": [],
       "type": "html"
      }
     },
     "output_type": "display_data"
    }
   ],
   "source": [
    "# Reading the CSV file\n",
    "\n",
    "df = spark.read.csv(path, header=True, inferSchema=True)"
   ]
  },
  {
   "cell_type": "code",
   "execution_count": 0,
   "metadata": {
    "application/vnd.databricks.v1+cell": {
     "inputWidgets": {},
     "nuid": "b2f8b343-8fbc-4881-b09f-2e4499505622",
     "showTitle": false,
     "title": ""
    }
   },
   "outputs": [
    {
     "data": {
      "text/html": [
       "<style scoped>\n",
       "  .ansiout {\n",
       "    display: block;\n",
       "    unicode-bidi: embed;\n",
       "    white-space: pre-wrap;\n",
       "    word-wrap: break-word;\n",
       "    word-break: break-all;\n",
       "    font-family: \"Source Code Pro\", \"Menlo\", monospace;;\n",
       "    font-size: 13px;\n",
       "    color: #555;\n",
       "    margin-left: 4px;\n",
       "    line-height: 19px;\n",
       "  }\n",
       "</style>\n",
       "<div class=\"ansiout\">+-----------------+----------------+--------+---------------+----------------+--------------------+----------+-------------+\n",
       "                X|               Y|OBJECTID|     Shape_Leng|      Shape_Area|                zone|LocationID|      borough|\n",
       "+-----------------+----------------+--------+---------------+----------------+--------------------+----------+-------------+\n",
       "-74.1767857452143|40.6895156480431|       1| 0.116357453189|  7.823067885E-4|      Newark Airport|         1|          EWR|\n",
       "-73.8261257703202|40.6257242377511|       2|  0.43346966679|0.00486634037837|         Jamaica Bay|         2|       Queens|\n",
       "-73.8494789238597|40.8658875419774|       3|0.0843411059012|3.14414156821E-4|Allerton/Pelham G...|         3|        Bronx|\n",
       "-73.9770229219339|40.7241521436714|       4|0.0435665270921|1.11871946192E-4|       Alphabet City|         4|    Manhattan|\n",
       "-74.1899296712375| 40.550340123832|       5|0.0921464898574|4.97957489363E-4|       Arden Heights|         5|Staten Island|\n",
       "-74.0677744607421|40.5990621740821|       6| 0.150490542523|6.06460984581E-4|Arrochar/Fort Wad...|         6|Staten Island|\n",
       "-73.9214905669465| 40.761084729151|       7| 0.107417171123|3.89787989274E-4|             Astoria|         7|       Queens|\n",
       "-73.9232024092836|40.7786069617704|       8|0.0275906911574| 2.6587716279E-5|        Astoria Park|         8|       Queens|\n",
       "-73.7880202487407|40.7544109271114|       9|0.0997840924705|3.38443803197E-4|          Auburndale|         9|       Queens|\n",
       "-73.7916654578906|40.6781247031195|      10|0.0998394794152|4.35823818081E-4|        Baisley Park|        10|       Queens|\n",
       "-74.0106156305362|40.6039777088098|      11|0.0792110389596| 2.6452053504E-4|          Bath Beach|        11|     Brooklyn|\n",
       "-74.0154903292143|40.7024884135418|      12|0.0366613013579|4.15116236727E-5|        Battery Park|        12|    Manhattan|\n",
       "-74.0161196692833|40.7116120831165|      13|0.0502813228631|1.49358592917E-4|   Battery Park City|        13|    Manhattan|\n",
       "-74.0304470508297|40.6235842793089|      14| 0.175213698053|0.00138177826442|           Bay Ridge|        14|     Brooklyn|\n",
       "-73.7879710847436|40.7852195006457|      15|  0.14433622262|9.25219395547E-4|Bay Terrace/Fort ...|        15|       Queens|\n",
       "-73.7716678221165|40.7612088345005|      16| 0.141291873771|8.71889446182E-4|             Bayside|        16|       Queens|\n",
       "-73.9491813010382|40.6919940962748|      17| 0.093522632948|3.22957654799E-4|             Bedford|        17|     Brooklyn|\n",
       "-73.8869219948557|40.8687628819908|      18|0.0697995498569|1.48850163948E-4|        Bedford Park|        18|        Bronx|\n",
       "-73.7278693961567|40.7364724391387|      19| 0.101824875452|5.46661094782E-4|           Bellerose|        19|       Queens|\n",
       "-73.8860348405346|40.8577731142544|      20|0.0514401924362|1.34512633032E-4|             Belmont|        20|        Bronx|\n",
       "+-----------------+----------------+--------+---------------+----------------+--------------------+----------+-------------+\n",
       "only showing top 20 rows\n",
       "\n",
       "</div>"
      ]
     },
     "metadata": {
      "application/vnd.databricks.v1+output": {
       "addedWidgets": {},
       "arguments": {},
       "data": "<div class=\"ansiout\">+-----------------+----------------+--------+---------------+----------------+--------------------+----------+-------------+\n|                X|               Y|OBJECTID|     Shape_Leng|      Shape_Area|                zone|LocationID|      borough|\n+-----------------+----------------+--------+---------------+----------------+--------------------+----------+-------------+\n|-74.1767857452143|40.6895156480431|       1| 0.116357453189|  7.823067885E-4|      Newark Airport|         1|          EWR|\n|-73.8261257703202|40.6257242377511|       2|  0.43346966679|0.00486634037837|         Jamaica Bay|         2|       Queens|\n|-73.8494789238597|40.8658875419774|       3|0.0843411059012|3.14414156821E-4|Allerton/Pelham G...|         3|        Bronx|\n|-73.9770229219339|40.7241521436714|       4|0.0435665270921|1.11871946192E-4|       Alphabet City|         4|    Manhattan|\n|-74.1899296712375| 40.550340123832|       5|0.0921464898574|4.97957489363E-4|       Arden Heights|         5|Staten Island|\n|-74.0677744607421|40.5990621740821|       6| 0.150490542523|6.06460984581E-4|Arrochar/Fort Wad...|         6|Staten Island|\n|-73.9214905669465| 40.761084729151|       7| 0.107417171123|3.89787989274E-4|             Astoria|         7|       Queens|\n|-73.9232024092836|40.7786069617704|       8|0.0275906911574| 2.6587716279E-5|        Astoria Park|         8|       Queens|\n|-73.7880202487407|40.7544109271114|       9|0.0997840924705|3.38443803197E-4|          Auburndale|         9|       Queens|\n|-73.7916654578906|40.6781247031195|      10|0.0998394794152|4.35823818081E-4|        Baisley Park|        10|       Queens|\n|-74.0106156305362|40.6039777088098|      11|0.0792110389596| 2.6452053504E-4|          Bath Beach|        11|     Brooklyn|\n|-74.0154903292143|40.7024884135418|      12|0.0366613013579|4.15116236727E-5|        Battery Park|        12|    Manhattan|\n|-74.0161196692833|40.7116120831165|      13|0.0502813228631|1.49358592917E-4|   Battery Park City|        13|    Manhattan|\n|-74.0304470508297|40.6235842793089|      14| 0.175213698053|0.00138177826442|           Bay Ridge|        14|     Brooklyn|\n|-73.7879710847436|40.7852195006457|      15|  0.14433622262|9.25219395547E-4|Bay Terrace/Fort ...|        15|       Queens|\n|-73.7716678221165|40.7612088345005|      16| 0.141291873771|8.71889446182E-4|             Bayside|        16|       Queens|\n|-73.9491813010382|40.6919940962748|      17| 0.093522632948|3.22957654799E-4|             Bedford|        17|     Brooklyn|\n|-73.8869219948557|40.8687628819908|      18|0.0697995498569|1.48850163948E-4|        Bedford Park|        18|        Bronx|\n|-73.7278693961567|40.7364724391387|      19| 0.101824875452|5.46661094782E-4|           Bellerose|        19|       Queens|\n|-73.8860348405346|40.8577731142544|      20|0.0514401924362|1.34512633032E-4|             Belmont|        20|        Bronx|\n+-----------------+----------------+--------+---------------+----------------+--------------------+----------+-------------+\nonly showing top 20 rows\n\n</div>",
       "datasetInfos": [],
       "metadata": {},
       "removedWidgets": [],
       "type": "html"
      }
     },
     "output_type": "display_data"
    }
   ],
   "source": [
    "# Showing the data frame\n",
    "\n",
    "df.show()"
   ]
  },
  {
   "cell_type": "code",
   "execution_count": 0,
   "metadata": {
    "application/vnd.databricks.v1+cell": {
     "inputWidgets": {},
     "nuid": "0e250288-4315-4f9d-abc9-76b1aa299df0",
     "showTitle": false,
     "title": ""
    },
    "scrolled": true
   },
   "outputs": [
    {
     "data": {
      "text/html": [
       "<style scoped>\n",
       "  .ansiout {\n",
       "    display: block;\n",
       "    unicode-bidi: embed;\n",
       "    white-space: pre-wrap;\n",
       "    word-wrap: break-word;\n",
       "    word-break: break-all;\n",
       "    font-family: \"Source Code Pro\", \"Menlo\", monospace;;\n",
       "    font-size: 13px;\n",
       "    color: #555;\n",
       "    margin-left: 4px;\n",
       "    line-height: 19px;\n",
       "  }\n",
       "</style>\n",
       "<div class=\"ansiout\">root\n",
       "-- X: double (nullable = true)\n",
       "-- Y: double (nullable = true)\n",
       "-- OBJECTID: integer (nullable = true)\n",
       "-- Shape_Leng: double (nullable = true)\n",
       "-- Shape_Area: double (nullable = true)\n",
       "-- zone: string (nullable = true)\n",
       "-- LocationID: integer (nullable = true)\n",
       "-- borough: string (nullable = true)\n",
       "\n",
       "</div>"
      ]
     },
     "metadata": {
      "application/vnd.databricks.v1+output": {
       "addedWidgets": {},
       "arguments": {},
       "data": "<div class=\"ansiout\">root\n |-- X: double (nullable = true)\n |-- Y: double (nullable = true)\n |-- OBJECTID: integer (nullable = true)\n |-- Shape_Leng: double (nullable = true)\n |-- Shape_Area: double (nullable = true)\n |-- zone: string (nullable = true)\n |-- LocationID: integer (nullable = true)\n |-- borough: string (nullable = true)\n\n</div>",
       "datasetInfos": [],
       "metadata": {},
       "removedWidgets": [],
       "type": "html"
      }
     },
     "output_type": "display_data"
    }
   ],
   "source": [
    "# Printing out the dataframe's schema.\n",
    "\n",
    "df.printSchema()"
   ]
  },
  {
   "cell_type": "markdown",
   "metadata": {},
   "source": [
    "# Maually inputing Schema"
   ]
  },
  {
   "cell_type": "code",
   "execution_count": 0,
   "metadata": {
    "application/vnd.databricks.v1+cell": {
     "inputWidgets": {},
     "nuid": "ba9fc29a-e772-46d1-b212-4f97735b9071",
     "showTitle": false,
     "title": ""
    }
   },
   "outputs": [
    {
     "data": {
      "text/html": [
       "<style scoped>\n",
       "  .ansiout {\n",
       "    display: block;\n",
       "    unicode-bidi: embed;\n",
       "    white-space: pre-wrap;\n",
       "    word-wrap: break-word;\n",
       "    word-break: break-all;\n",
       "    font-family: \"Source Code Pro\", \"Menlo\", monospace;;\n",
       "    font-size: 13px;\n",
       "    color: #555;\n",
       "    margin-left: 4px;\n",
       "    line-height: 19px;\n",
       "  }\n",
       "</style>\n",
       "<div class=\"ansiout\"></div>"
      ]
     },
     "metadata": {
      "application/vnd.databricks.v1+output": {
       "addedWidgets": {},
       "arguments": {},
       "data": "<div class=\"ansiout\"></div>",
       "datasetInfos": [],
       "metadata": {},
       "removedWidgets": [],
       "type": "html"
      }
     },
     "output_type": "display_data"
    }
   ],
   "source": [
    "# Manually defining schema of the data frame.\n",
    "\n",
    "Schema = StructType ([\n",
    "  StructField(\"OBJECTID\", IntegerType(), True),\n",
    "  StructField(\"LocationID\", IntegerType(), True),\n",
    "  StructField(\"zone\", StringType(), True),\n",
    "  StructField(\"borough\", StringType(), True)  \n",
    "])"
   ]
  },
  {
   "cell_type": "markdown",
   "metadata": {},
   "source": [
    "# Selecting Columns "
   ]
  },
  {
   "cell_type": "code",
   "execution_count": 0,
   "metadata": {
    "application/vnd.databricks.v1+cell": {
     "inputWidgets": {},
     "nuid": "5f4a0c57-4d0d-4177-a93a-add9952ca992",
     "showTitle": false,
     "title": ""
    }
   },
   "outputs": [
    {
     "data": {
      "text/html": [
       "<style scoped>\n",
       "  .ansiout {\n",
       "    display: block;\n",
       "    unicode-bidi: embed;\n",
       "    white-space: pre-wrap;\n",
       "    word-wrap: break-word;\n",
       "    word-break: break-all;\n",
       "    font-family: \"Source Code Pro\", \"Menlo\", monospace;;\n",
       "    font-size: 13px;\n",
       "    color: #555;\n",
       "    margin-left: 4px;\n",
       "    line-height: 19px;\n",
       "  }\n",
       "</style>\n",
       "<div class=\"ansiout\">+--------------------+-------------+\n",
       "                zone|      borough|\n",
       "+--------------------+-------------+\n",
       "      Newark Airport|          EWR|\n",
       "         Jamaica Bay|       Queens|\n",
       "Allerton/Pelham G...|        Bronx|\n",
       "       Alphabet City|    Manhattan|\n",
       "       Arden Heights|Staten Island|\n",
       "Arrochar/Fort Wad...|Staten Island|\n",
       "             Astoria|       Queens|\n",
       "        Astoria Park|       Queens|\n",
       "          Auburndale|       Queens|\n",
       "        Baisley Park|       Queens|\n",
       "          Bath Beach|     Brooklyn|\n",
       "        Battery Park|    Manhattan|\n",
       "   Battery Park City|    Manhattan|\n",
       "           Bay Ridge|     Brooklyn|\n",
       "Bay Terrace/Fort ...|       Queens|\n",
       "             Bayside|       Queens|\n",
       "             Bedford|     Brooklyn|\n",
       "        Bedford Park|        Bronx|\n",
       "           Bellerose|       Queens|\n",
       "             Belmont|        Bronx|\n",
       "+--------------------+-------------+\n",
       "only showing top 20 rows\n",
       "\n",
       "</div>"
      ]
     },
     "metadata": {
      "application/vnd.databricks.v1+output": {
       "addedWidgets": {},
       "arguments": {},
       "data": "<div class=\"ansiout\">+--------------------+-------------+\n|                zone|      borough|\n+--------------------+-------------+\n|      Newark Airport|          EWR|\n|         Jamaica Bay|       Queens|\n|Allerton/Pelham G...|        Bronx|\n|       Alphabet City|    Manhattan|\n|       Arden Heights|Staten Island|\n|Arrochar/Fort Wad...|Staten Island|\n|             Astoria|       Queens|\n|        Astoria Park|       Queens|\n|          Auburndale|       Queens|\n|        Baisley Park|       Queens|\n|          Bath Beach|     Brooklyn|\n|        Battery Park|    Manhattan|\n|   Battery Park City|    Manhattan|\n|           Bay Ridge|     Brooklyn|\n|Bay Terrace/Fort ...|       Queens|\n|             Bayside|       Queens|\n|             Bedford|     Brooklyn|\n|        Bedford Park|        Bronx|\n|           Bellerose|       Queens|\n|             Belmont|        Bronx|\n+--------------------+-------------+\nonly showing top 20 rows\n\n</div>",
       "datasetInfos": [],
       "metadata": {},
       "removedWidgets": [],
       "type": "html"
      }
     },
     "output_type": "display_data"
    }
   ],
   "source": [
    "# Selecting and showing 2 columns (zone and borough)\n",
    "\n",
    "df.select(df[\"zone\"],df[\"borough\"]).show()"
   ]
  },
  {
   "cell_type": "code",
   "execution_count": 0,
   "metadata": {
    "application/vnd.databricks.v1+cell": {
     "inputWidgets": {},
     "nuid": "585582f0-1c24-4288-a392-9849454ec245",
     "showTitle": false,
     "title": ""
    }
   },
   "outputs": [
    {
     "data": {
      "text/html": [
       "<style scoped>\n",
       "  .ansiout {\n",
       "    display: block;\n",
       "    unicode-bidi: embed;\n",
       "    white-space: pre-wrap;\n",
       "    word-wrap: break-word;\n",
       "    word-break: break-all;\n",
       "    font-family: \"Source Code Pro\", \"Menlo\", monospace;;\n",
       "    font-size: 13px;\n",
       "    color: #555;\n",
       "    margin-left: 4px;\n",
       "    line-height: 19px;\n",
       "  }\n",
       "</style>\n",
       "<div class=\"ansiout\">+--------------------+\n",
       "                zone|\n",
       "+--------------------+\n",
       "      Newark Airport|\n",
       "         Jamaica Bay|\n",
       "Allerton/Pelham G...|\n",
       "       Alphabet City|\n",
       "       Arden Heights|\n",
       "Arrochar/Fort Wad...|\n",
       "             Astoria|\n",
       "        Astoria Park|\n",
       "          Auburndale|\n",
       "        Baisley Park|\n",
       "          Bath Beach|\n",
       "        Battery Park|\n",
       "   Battery Park City|\n",
       "           Bay Ridge|\n",
       "Bay Terrace/Fort ...|\n",
       "             Bayside|\n",
       "             Bedford|\n",
       "        Bedford Park|\n",
       "           Bellerose|\n",
       "             Belmont|\n",
       "+--------------------+\n",
       "only showing top 20 rows\n",
       "\n",
       "</div>"
      ]
     },
     "metadata": {
      "application/vnd.databricks.v1+output": {
       "addedWidgets": {},
       "arguments": {},
       "data": "<div class=\"ansiout\">+--------------------+\n|                zone|\n+--------------------+\n|      Newark Airport|\n|         Jamaica Bay|\n|Allerton/Pelham G...|\n|       Alphabet City|\n|       Arden Heights|\n|Arrochar/Fort Wad...|\n|             Astoria|\n|        Astoria Park|\n|          Auburndale|\n|        Baisley Park|\n|          Bath Beach|\n|        Battery Park|\n|   Battery Park City|\n|           Bay Ridge|\n|Bay Terrace/Fort ...|\n|             Bayside|\n|             Bedford|\n|        Bedford Park|\n|           Bellerose|\n|             Belmont|\n+--------------------+\nonly showing top 20 rows\n\n</div>",
       "datasetInfos": [],
       "metadata": {},
       "removedWidgets": [],
       "type": "html"
      }
     },
     "output_type": "display_data"
    }
   ],
   "source": [
    "# Showing one column\n",
    "\n",
    "df.select(\"zone\").show()"
   ]
  },
  {
   "cell_type": "code",
   "execution_count": 0,
   "metadata": {
    "application/vnd.databricks.v1+cell": {
     "inputWidgets": {},
     "nuid": "427dd786-be66-44ee-9a30-49b8b53c9238",
     "showTitle": false,
     "title": ""
    }
   },
   "outputs": [
    {
     "data": {
      "text/html": [
       "<style scoped>\n",
       "  .ansiout {\n",
       "    display: block;\n",
       "    unicode-bidi: embed;\n",
       "    white-space: pre-wrap;\n",
       "    word-wrap: break-word;\n",
       "    word-break: break-all;\n",
       "    font-family: \"Source Code Pro\", \"Menlo\", monospace;;\n",
       "    font-size: 13px;\n",
       "    color: #555;\n",
       "    margin-left: 4px;\n",
       "    line-height: 19px;\n",
       "  }\n",
       "</style>\n",
       "<div class=\"ansiout\">Out[17]: [&#39;X&#39;, &#39;Y&#39;]</div>"
      ]
     },
     "metadata": {
      "application/vnd.databricks.v1+output": {
       "addedWidgets": {},
       "arguments": {},
       "data": "<div class=\"ansiout\">Out[17]: [&#39;X&#39;, &#39;Y&#39;]</div>",
       "datasetInfos": [],
       "metadata": {},
       "removedWidgets": [],
       "type": "html"
      }
     },
     "output_type": "display_data"
    }
   ],
   "source": [
    "# Selecting columns  \n",
    "\n",
    "df.columns[:2]"
   ]
  },
  {
   "cell_type": "markdown",
   "metadata": {},
   "source": [
    "# withColumns"
   ]
  },
  {
   "cell_type": "code",
   "execution_count": 0,
   "metadata": {
    "application/vnd.databricks.v1+cell": {
     "inputWidgets": {},
     "nuid": "8f0c35ed-e011-4362-a035-e91a5d937b64",
     "showTitle": false,
     "title": ""
    }
   },
   "outputs": [
    {
     "data": {
      "text/html": [
       "<style scoped>\n",
       "  .ansiout {\n",
       "    display: block;\n",
       "    unicode-bidi: embed;\n",
       "    white-space: pre-wrap;\n",
       "    word-wrap: break-word;\n",
       "    word-break: break-all;\n",
       "    font-family: \"Source Code Pro\", \"Menlo\", monospace;;\n",
       "    font-size: 13px;\n",
       "    color: #555;\n",
       "    margin-left: 4px;\n",
       "    line-height: 19px;\n",
       "  }\n",
       "</style>\n",
       "<div class=\"ansiout\"></div>"
      ]
     },
     "metadata": {
      "application/vnd.databricks.v1+output": {
       "addedWidgets": {},
       "arguments": {},
       "data": "<div class=\"ansiout\"></div>",
       "datasetInfos": [],
       "metadata": {},
       "removedWidgets": [],
       "type": "html"
      }
     },
     "output_type": "display_data"
    }
   ],
   "source": [
    "# Changing the locationID column-type from \"integer\" to \"double\".\n",
    "\n",
    "df = df.withColumn(\"locationID\", col(\"locationID\").cast('double'))"
   ]
  },
  {
   "cell_type": "code",
   "execution_count": 0,
   "metadata": {
    "application/vnd.databricks.v1+cell": {
     "inputWidgets": {},
     "nuid": "dce8fbec-20df-4c79-9148-0d95630ad808",
     "showTitle": false,
     "title": ""
    }
   },
   "outputs": [
    {
     "data": {
      "text/html": [
       "<style scoped>\n",
       "  .ansiout {\n",
       "    display: block;\n",
       "    unicode-bidi: embed;\n",
       "    white-space: pre-wrap;\n",
       "    word-wrap: break-word;\n",
       "    word-break: break-all;\n",
       "    font-family: \"Source Code Pro\", \"Menlo\", monospace;;\n",
       "    font-size: 13px;\n",
       "    color: #555;\n",
       "    margin-left: 4px;\n",
       "    line-height: 19px;\n",
       "  }\n",
       "</style>\n",
       "<div class=\"ansiout\">root\n",
       "-- X: double (nullable = true)\n",
       "-- Y: double (nullable = true)\n",
       "-- OBJECTID: integer (nullable = true)\n",
       "-- Shape_Leng: double (nullable = true)\n",
       "-- Shape_Area: double (nullable = true)\n",
       "-- zone: string (nullable = true)\n",
       "-- locationID: double (nullable = true)\n",
       "-- borough: string (nullable = true)\n",
       "\n",
       "</div>"
      ]
     },
     "metadata": {
      "application/vnd.databricks.v1+output": {
       "addedWidgets": {},
       "arguments": {},
       "data": "<div class=\"ansiout\">root\n |-- X: double (nullable = true)\n |-- Y: double (nullable = true)\n |-- OBJECTID: integer (nullable = true)\n |-- Shape_Leng: double (nullable = true)\n |-- Shape_Area: double (nullable = true)\n |-- zone: string (nullable = true)\n |-- locationID: double (nullable = true)\n |-- borough: string (nullable = true)\n\n</div>",
       "datasetInfos": [],
       "metadata": {},
       "removedWidgets": [],
       "type": "html"
      }
     },
     "output_type": "display_data"
    }
   ],
   "source": [
    "df.printSchema()"
   ]
  },
  {
   "cell_type": "code",
   "execution_count": 0,
   "metadata": {
    "application/vnd.databricks.v1+cell": {
     "inputWidgets": {},
     "nuid": "c88d7139-521a-4663-8c20-898196cbb3c0",
     "showTitle": false,
     "title": ""
    }
   },
   "outputs": [
    {
     "data": {
      "text/html": [
       "<style scoped>\n",
       "  .ansiout {\n",
       "    display: block;\n",
       "    unicode-bidi: embed;\n",
       "    white-space: pre-wrap;\n",
       "    word-wrap: break-word;\n",
       "    word-break: break-all;\n",
       "    font-family: \"Source Code Pro\", \"Menlo\", monospace;;\n",
       "    font-size: 13px;\n",
       "    color: #555;\n",
       "    margin-left: 4px;\n",
       "    line-height: 19px;\n",
       "  }\n",
       "</style>\n",
       "<div class=\"ansiout\"></div>"
      ]
     },
     "metadata": {
      "application/vnd.databricks.v1+output": {
       "addedWidgets": {},
       "arguments": {},
       "data": "<div class=\"ansiout\"></div>",
       "datasetInfos": [],
       "metadata": {},
       "removedWidgets": [],
       "type": "html"
      }
     },
     "output_type": "display_data"
    }
   ],
   "source": [
    "# Adding (20) to a column \"ObjectID\" and creating a new column \"new-ObjID\" to fill with the results.\n",
    "\n",
    "df = df.withColumn(\"new_ObjID\", col('ObjectID')+ 20)"
   ]
  },
  {
   "cell_type": "code",
   "execution_count": 0,
   "metadata": {
    "application/vnd.databricks.v1+cell": {
     "inputWidgets": {},
     "nuid": "3df5ab25-5c92-4da3-b153-9bc1f2cb1895",
     "showTitle": false,
     "title": ""
    }
   },
   "outputs": [
    {
     "data": {
      "text/html": [
       "<style scoped>\n",
       "  .ansiout {\n",
       "    display: block;\n",
       "    unicode-bidi: embed;\n",
       "    white-space: pre-wrap;\n",
       "    word-wrap: break-word;\n",
       "    word-break: break-all;\n",
       "    font-family: \"Source Code Pro\", \"Menlo\", monospace;;\n",
       "    font-size: 13px;\n",
       "    color: #555;\n",
       "    margin-left: 4px;\n",
       "    line-height: 19px;\n",
       "  }\n",
       "</style>\n",
       "<div class=\"ansiout\">+-----------------+----------------+--------+---------------+----------------+--------------------+----------+-------------+--------------+---------+\n",
       "                X|               Y|OBJECTID|     Shape_Leng|      Shape_Area|                zone|locationID|      borough|Upgraded_ObjID|new_ObjID|\n",
       "+-----------------+----------------+--------+---------------+----------------+--------------------+----------+-------------+--------------+---------+\n",
       "-74.1767857452143|40.6895156480431|       1| 0.116357453189|  7.823067885E-4|      Newark Airport|       1.0|          EWR|            21|       21|\n",
       "-73.8261257703202|40.6257242377511|       2|  0.43346966679|0.00486634037837|         Jamaica Bay|       2.0|       Queens|            22|       22|\n",
       "-73.8494789238597|40.8658875419774|       3|0.0843411059012|3.14414156821E-4|Allerton/Pelham G...|       3.0|        Bronx|            23|       23|\n",
       "-73.9770229219339|40.7241521436714|       4|0.0435665270921|1.11871946192E-4|       Alphabet City|       4.0|    Manhattan|            24|       24|\n",
       "-74.1899296712375| 40.550340123832|       5|0.0921464898574|4.97957489363E-4|       Arden Heights|       5.0|Staten Island|            25|       25|\n",
       "-74.0677744607421|40.5990621740821|       6| 0.150490542523|6.06460984581E-4|Arrochar/Fort Wad...|       6.0|Staten Island|            26|       26|\n",
       "-73.9214905669465| 40.761084729151|       7| 0.107417171123|3.89787989274E-4|             Astoria|       7.0|       Queens|            27|       27|\n",
       "-73.9232024092836|40.7786069617704|       8|0.0275906911574| 2.6587716279E-5|        Astoria Park|       8.0|       Queens|            28|       28|\n",
       "-73.7880202487407|40.7544109271114|       9|0.0997840924705|3.38443803197E-4|          Auburndale|       9.0|       Queens|            29|       29|\n",
       "-73.7916654578906|40.6781247031195|      10|0.0998394794152|4.35823818081E-4|        Baisley Park|      10.0|       Queens|            30|       30|\n",
       "-74.0106156305362|40.6039777088098|      11|0.0792110389596| 2.6452053504E-4|          Bath Beach|      11.0|     Brooklyn|            31|       31|\n",
       "-74.0154903292143|40.7024884135418|      12|0.0366613013579|4.15116236727E-5|        Battery Park|      12.0|    Manhattan|            32|       32|\n",
       "-74.0161196692833|40.7116120831165|      13|0.0502813228631|1.49358592917E-4|   Battery Park City|      13.0|    Manhattan|            33|       33|\n",
       "-74.0304470508297|40.6235842793089|      14| 0.175213698053|0.00138177826442|           Bay Ridge|      14.0|     Brooklyn|            34|       34|\n",
       "-73.7879710847436|40.7852195006457|      15|  0.14433622262|9.25219395547E-4|Bay Terrace/Fort ...|      15.0|       Queens|            35|       35|\n",
       "-73.7716678221165|40.7612088345005|      16| 0.141291873771|8.71889446182E-4|             Bayside|      16.0|       Queens|            36|       36|\n",
       "-73.9491813010382|40.6919940962748|      17| 0.093522632948|3.22957654799E-4|             Bedford|      17.0|     Brooklyn|            37|       37|\n",
       "-73.8869219948557|40.8687628819908|      18|0.0697995498569|1.48850163948E-4|        Bedford Park|      18.0|        Bronx|            38|       38|\n",
       "-73.7278693961567|40.7364724391387|      19| 0.101824875452|5.46661094782E-4|           Bellerose|      19.0|       Queens|            39|       39|\n",
       "-73.8860348405346|40.8577731142544|      20|0.0514401924362|1.34512633032E-4|             Belmont|      20.0|        Bronx|            40|       40|\n",
       "+-----------------+----------------+--------+---------------+----------------+--------------------+----------+-------------+--------------+---------+\n",
       "only showing top 20 rows\n",
       "\n",
       "</div>"
      ]
     },
     "metadata": {
      "application/vnd.databricks.v1+output": {
       "addedWidgets": {},
       "arguments": {},
       "data": "<div class=\"ansiout\">+-----------------+----------------+--------+---------------+----------------+--------------------+----------+-------------+--------------+---------+\n|                X|               Y|OBJECTID|     Shape_Leng|      Shape_Area|                zone|locationID|      borough|Upgraded_ObjID|new_ObjID|\n+-----------------+----------------+--------+---------------+----------------+--------------------+----------+-------------+--------------+---------+\n|-74.1767857452143|40.6895156480431|       1| 0.116357453189|  7.823067885E-4|      Newark Airport|       1.0|          EWR|            21|       21|\n|-73.8261257703202|40.6257242377511|       2|  0.43346966679|0.00486634037837|         Jamaica Bay|       2.0|       Queens|            22|       22|\n|-73.8494789238597|40.8658875419774|       3|0.0843411059012|3.14414156821E-4|Allerton/Pelham G...|       3.0|        Bronx|            23|       23|\n|-73.9770229219339|40.7241521436714|       4|0.0435665270921|1.11871946192E-4|       Alphabet City|       4.0|    Manhattan|            24|       24|\n|-74.1899296712375| 40.550340123832|       5|0.0921464898574|4.97957489363E-4|       Arden Heights|       5.0|Staten Island|            25|       25|\n|-74.0677744607421|40.5990621740821|       6| 0.150490542523|6.06460984581E-4|Arrochar/Fort Wad...|       6.0|Staten Island|            26|       26|\n|-73.9214905669465| 40.761084729151|       7| 0.107417171123|3.89787989274E-4|             Astoria|       7.0|       Queens|            27|       27|\n|-73.9232024092836|40.7786069617704|       8|0.0275906911574| 2.6587716279E-5|        Astoria Park|       8.0|       Queens|            28|       28|\n|-73.7880202487407|40.7544109271114|       9|0.0997840924705|3.38443803197E-4|          Auburndale|       9.0|       Queens|            29|       29|\n|-73.7916654578906|40.6781247031195|      10|0.0998394794152|4.35823818081E-4|        Baisley Park|      10.0|       Queens|            30|       30|\n|-74.0106156305362|40.6039777088098|      11|0.0792110389596| 2.6452053504E-4|          Bath Beach|      11.0|     Brooklyn|            31|       31|\n|-74.0154903292143|40.7024884135418|      12|0.0366613013579|4.15116236727E-5|        Battery Park|      12.0|    Manhattan|            32|       32|\n|-74.0161196692833|40.7116120831165|      13|0.0502813228631|1.49358592917E-4|   Battery Park City|      13.0|    Manhattan|            33|       33|\n|-74.0304470508297|40.6235842793089|      14| 0.175213698053|0.00138177826442|           Bay Ridge|      14.0|     Brooklyn|            34|       34|\n|-73.7879710847436|40.7852195006457|      15|  0.14433622262|9.25219395547E-4|Bay Terrace/Fort ...|      15.0|       Queens|            35|       35|\n|-73.7716678221165|40.7612088345005|      16| 0.141291873771|8.71889446182E-4|             Bayside|      16.0|       Queens|            36|       36|\n|-73.9491813010382|40.6919940962748|      17| 0.093522632948|3.22957654799E-4|             Bedford|      17.0|     Brooklyn|            37|       37|\n|-73.8869219948557|40.8687628819908|      18|0.0697995498569|1.48850163948E-4|        Bedford Park|      18.0|        Bronx|            38|       38|\n|-73.7278693961567|40.7364724391387|      19| 0.101824875452|5.46661094782E-4|           Bellerose|      19.0|       Queens|            39|       39|\n|-73.8860348405346|40.8577731142544|      20|0.0514401924362|1.34512633032E-4|             Belmont|      20.0|        Bronx|            40|       40|\n+-----------------+----------------+--------+---------------+----------------+--------------------+----------+-------------+--------------+---------+\nonly showing top 20 rows\n\n</div>",
       "datasetInfos": [],
       "metadata": {},
       "removedWidgets": [],
       "type": "html"
      }
     },
     "output_type": "display_data"
    }
   ],
   "source": [
    "df.show()"
   ]
  },
  {
   "cell_type": "code",
   "execution_count": 0,
   "metadata": {
    "application/vnd.databricks.v1+cell": {
     "inputWidgets": {},
     "nuid": "1c646396-d462-4e12-839e-81f9e19f5f12",
     "showTitle": false,
     "title": ""
    }
   },
   "outputs": [
    {
     "data": {
      "text/html": [
       "<style scoped>\n",
       "  .ansiout {\n",
       "    display: block;\n",
       "    unicode-bidi: embed;\n",
       "    white-space: pre-wrap;\n",
       "    word-wrap: break-word;\n",
       "    word-break: break-all;\n",
       "    font-family: \"Source Code Pro\", \"Menlo\", monospace;;\n",
       "    font-size: 13px;\n",
       "    color: #555;\n",
       "    margin-left: 4px;\n",
       "    line-height: 19px;\n",
       "  }\n",
       "</style>\n",
       "<div class=\"ansiout\"></div>"
      ]
     },
     "metadata": {
      "application/vnd.databricks.v1+output": {
       "addedWidgets": {},
       "arguments": {},
       "data": "<div class=\"ansiout\"></div>",
       "datasetInfos": [],
       "metadata": {},
       "removedWidgets": [],
       "type": "html"
      }
     },
     "output_type": "display_data"
    }
   ],
   "source": [
    "# Creating a new column and filling it with nothing\n",
    "\n",
    "df = df.withColumn(\"New_Column\", lit(\"\"))"
   ]
  },
  {
   "cell_type": "code",
   "execution_count": 0,
   "metadata": {
    "application/vnd.databricks.v1+cell": {
     "inputWidgets": {},
     "nuid": "896f78a9-00d8-4d51-add3-b4d1f5887e96",
     "showTitle": false,
     "title": ""
    }
   },
   "outputs": [
    {
     "data": {
      "text/html": [
       "<style scoped>\n",
       "  .ansiout {\n",
       "    display: block;\n",
       "    unicode-bidi: embed;\n",
       "    white-space: pre-wrap;\n",
       "    word-wrap: break-word;\n",
       "    word-break: break-all;\n",
       "    font-family: \"Source Code Pro\", \"Menlo\", monospace;;\n",
       "    font-size: 13px;\n",
       "    color: #555;\n",
       "    margin-left: 4px;\n",
       "    line-height: 19px;\n",
       "  }\n",
       "</style>\n",
       "<div class=\"ansiout\">+-----------------+----------------+--------+---------------+----------------+--------------------+----------+-------------+--------------+---------+----------+\n",
       "                X|               Y|OBJECTID|     Shape_Leng|      Shape_Area|                zone|locationID|      borough|Upgraded_ObjID|new_ObjID|New_Column|\n",
       "+-----------------+----------------+--------+---------------+----------------+--------------------+----------+-------------+--------------+---------+----------+\n",
       "-74.1767857452143|40.6895156480431|       1| 0.116357453189|  7.823067885E-4|      Newark Airport|       1.0|          EWR|            21|       21|          |\n",
       "-73.8261257703202|40.6257242377511|       2|  0.43346966679|0.00486634037837|         Jamaica Bay|       2.0|       Queens|            22|       22|          |\n",
       "-73.8494789238597|40.8658875419774|       3|0.0843411059012|3.14414156821E-4|Allerton/Pelham G...|       3.0|        Bronx|            23|       23|          |\n",
       "-73.9770229219339|40.7241521436714|       4|0.0435665270921|1.11871946192E-4|       Alphabet City|       4.0|    Manhattan|            24|       24|          |\n",
       "-74.1899296712375| 40.550340123832|       5|0.0921464898574|4.97957489363E-4|       Arden Heights|       5.0|Staten Island|            25|       25|          |\n",
       "-74.0677744607421|40.5990621740821|       6| 0.150490542523|6.06460984581E-4|Arrochar/Fort Wad...|       6.0|Staten Island|            26|       26|          |\n",
       "-73.9214905669465| 40.761084729151|       7| 0.107417171123|3.89787989274E-4|             Astoria|       7.0|       Queens|            27|       27|          |\n",
       "-73.9232024092836|40.7786069617704|       8|0.0275906911574| 2.6587716279E-5|        Astoria Park|       8.0|       Queens|            28|       28|          |\n",
       "-73.7880202487407|40.7544109271114|       9|0.0997840924705|3.38443803197E-4|          Auburndale|       9.0|       Queens|            29|       29|          |\n",
       "-73.7916654578906|40.6781247031195|      10|0.0998394794152|4.35823818081E-4|        Baisley Park|      10.0|       Queens|            30|       30|          |\n",
       "-74.0106156305362|40.6039777088098|      11|0.0792110389596| 2.6452053504E-4|          Bath Beach|      11.0|     Brooklyn|            31|       31|          |\n",
       "-74.0154903292143|40.7024884135418|      12|0.0366613013579|4.15116236727E-5|        Battery Park|      12.0|    Manhattan|            32|       32|          |\n",
       "-74.0161196692833|40.7116120831165|      13|0.0502813228631|1.49358592917E-4|   Battery Park City|      13.0|    Manhattan|            33|       33|          |\n",
       "-74.0304470508297|40.6235842793089|      14| 0.175213698053|0.00138177826442|           Bay Ridge|      14.0|     Brooklyn|            34|       34|          |\n",
       "-73.7879710847436|40.7852195006457|      15|  0.14433622262|9.25219395547E-4|Bay Terrace/Fort ...|      15.0|       Queens|            35|       35|          |\n",
       "-73.7716678221165|40.7612088345005|      16| 0.141291873771|8.71889446182E-4|             Bayside|      16.0|       Queens|            36|       36|          |\n",
       "-73.9491813010382|40.6919940962748|      17| 0.093522632948|3.22957654799E-4|             Bedford|      17.0|     Brooklyn|            37|       37|          |\n",
       "-73.8869219948557|40.8687628819908|      18|0.0697995498569|1.48850163948E-4|        Bedford Park|      18.0|        Bronx|            38|       38|          |\n",
       "-73.7278693961567|40.7364724391387|      19| 0.101824875452|5.46661094782E-4|           Bellerose|      19.0|       Queens|            39|       39|          |\n",
       "-73.8860348405346|40.8577731142544|      20|0.0514401924362|1.34512633032E-4|             Belmont|      20.0|        Bronx|            40|       40|          |\n",
       "+-----------------+----------------+--------+---------------+----------------+--------------------+----------+-------------+--------------+---------+----------+\n",
       "only showing top 20 rows\n",
       "\n",
       "</div>"
      ]
     },
     "metadata": {
      "application/vnd.databricks.v1+output": {
       "addedWidgets": {},
       "arguments": {},
       "data": "<div class=\"ansiout\">+-----------------+----------------+--------+---------------+----------------+--------------------+----------+-------------+--------------+---------+----------+\n|                X|               Y|OBJECTID|     Shape_Leng|      Shape_Area|                zone|locationID|      borough|Upgraded_ObjID|new_ObjID|New_Column|\n+-----------------+----------------+--------+---------------+----------------+--------------------+----------+-------------+--------------+---------+----------+\n|-74.1767857452143|40.6895156480431|       1| 0.116357453189|  7.823067885E-4|      Newark Airport|       1.0|          EWR|            21|       21|          |\n|-73.8261257703202|40.6257242377511|       2|  0.43346966679|0.00486634037837|         Jamaica Bay|       2.0|       Queens|            22|       22|          |\n|-73.8494789238597|40.8658875419774|       3|0.0843411059012|3.14414156821E-4|Allerton/Pelham G...|       3.0|        Bronx|            23|       23|          |\n|-73.9770229219339|40.7241521436714|       4|0.0435665270921|1.11871946192E-4|       Alphabet City|       4.0|    Manhattan|            24|       24|          |\n|-74.1899296712375| 40.550340123832|       5|0.0921464898574|4.97957489363E-4|       Arden Heights|       5.0|Staten Island|            25|       25|          |\n|-74.0677744607421|40.5990621740821|       6| 0.150490542523|6.06460984581E-4|Arrochar/Fort Wad...|       6.0|Staten Island|            26|       26|          |\n|-73.9214905669465| 40.761084729151|       7| 0.107417171123|3.89787989274E-4|             Astoria|       7.0|       Queens|            27|       27|          |\n|-73.9232024092836|40.7786069617704|       8|0.0275906911574| 2.6587716279E-5|        Astoria Park|       8.0|       Queens|            28|       28|          |\n|-73.7880202487407|40.7544109271114|       9|0.0997840924705|3.38443803197E-4|          Auburndale|       9.0|       Queens|            29|       29|          |\n|-73.7916654578906|40.6781247031195|      10|0.0998394794152|4.35823818081E-4|        Baisley Park|      10.0|       Queens|            30|       30|          |\n|-74.0106156305362|40.6039777088098|      11|0.0792110389596| 2.6452053504E-4|          Bath Beach|      11.0|     Brooklyn|            31|       31|          |\n|-74.0154903292143|40.7024884135418|      12|0.0366613013579|4.15116236727E-5|        Battery Park|      12.0|    Manhattan|            32|       32|          |\n|-74.0161196692833|40.7116120831165|      13|0.0502813228631|1.49358592917E-4|   Battery Park City|      13.0|    Manhattan|            33|       33|          |\n|-74.0304470508297|40.6235842793089|      14| 0.175213698053|0.00138177826442|           Bay Ridge|      14.0|     Brooklyn|            34|       34|          |\n|-73.7879710847436|40.7852195006457|      15|  0.14433622262|9.25219395547E-4|Bay Terrace/Fort ...|      15.0|       Queens|            35|       35|          |\n|-73.7716678221165|40.7612088345005|      16| 0.141291873771|8.71889446182E-4|             Bayside|      16.0|       Queens|            36|       36|          |\n|-73.9491813010382|40.6919940962748|      17| 0.093522632948|3.22957654799E-4|             Bedford|      17.0|     Brooklyn|            37|       37|          |\n|-73.8869219948557|40.8687628819908|      18|0.0697995498569|1.48850163948E-4|        Bedford Park|      18.0|        Bronx|            38|       38|          |\n|-73.7278693961567|40.7364724391387|      19| 0.101824875452|5.46661094782E-4|           Bellerose|      19.0|       Queens|            39|       39|          |\n|-73.8860348405346|40.8577731142544|      20|0.0514401924362|1.34512633032E-4|             Belmont|      20.0|        Bronx|            40|       40|          |\n+-----------------+----------------+--------+---------------+----------------+--------------------+----------+-------------+--------------+---------+----------+\nonly showing top 20 rows\n\n</div>",
       "datasetInfos": [],
       "metadata": {},
       "removedWidgets": [],
       "type": "html"
      }
     },
     "output_type": "display_data"
    }
   ],
   "source": [
    "df.show()"
   ]
  },
  {
   "cell_type": "markdown",
   "metadata": {},
   "source": [
    "# withColumnRenamed : To rename column"
   ]
  },
  {
   "cell_type": "code",
   "execution_count": 0,
   "metadata": {
    "application/vnd.databricks.v1+cell": {
     "inputWidgets": {},
     "nuid": "19adcbb0-3528-4aa8-ba88-f7cbe597af2f",
     "showTitle": false,
     "title": ""
    }
   },
   "outputs": [
    {
     "data": {
      "text/html": [
       "<style scoped>\n",
       "  .ansiout {\n",
       "    display: block;\n",
       "    unicode-bidi: embed;\n",
       "    white-space: pre-wrap;\n",
       "    word-wrap: break-word;\n",
       "    word-break: break-all;\n",
       "    font-family: \"Source Code Pro\", \"Menlo\", monospace;;\n",
       "    font-size: 13px;\n",
       "    color: #555;\n",
       "    margin-left: 4px;\n",
       "    line-height: 19px;\n",
       "  }\n",
       "</style>\n",
       "<div class=\"ansiout\">+-----------------+----------------+--------+---------------+----------------+--------------------+----------+-------------+--------------+---------+----------+\n",
       "             Long|               Y|OBJECTID|     Shape_Leng|      Shape_Area|                zone|locationID|      borough|Upgraded_ObjID|new_ObjID|New_Column|\n",
       "+-----------------+----------------+--------+---------------+----------------+--------------------+----------+-------------+--------------+---------+----------+\n",
       "-74.1767857452143|40.6895156480431|       1| 0.116357453189|  7.823067885E-4|      Newark Airport|       1.0|          EWR|            21|       21|          |\n",
       "-73.8261257703202|40.6257242377511|       2|  0.43346966679|0.00486634037837|         Jamaica Bay|       2.0|       Queens|            22|       22|          |\n",
       "-73.8494789238597|40.8658875419774|       3|0.0843411059012|3.14414156821E-4|Allerton/Pelham G...|       3.0|        Bronx|            23|       23|          |\n",
       "-73.9770229219339|40.7241521436714|       4|0.0435665270921|1.11871946192E-4|       Alphabet City|       4.0|    Manhattan|            24|       24|          |\n",
       "-74.1899296712375| 40.550340123832|       5|0.0921464898574|4.97957489363E-4|       Arden Heights|       5.0|Staten Island|            25|       25|          |\n",
       "-74.0677744607421|40.5990621740821|       6| 0.150490542523|6.06460984581E-4|Arrochar/Fort Wad...|       6.0|Staten Island|            26|       26|          |\n",
       "-73.9214905669465| 40.761084729151|       7| 0.107417171123|3.89787989274E-4|             Astoria|       7.0|       Queens|            27|       27|          |\n",
       "-73.9232024092836|40.7786069617704|       8|0.0275906911574| 2.6587716279E-5|        Astoria Park|       8.0|       Queens|            28|       28|          |\n",
       "-73.7880202487407|40.7544109271114|       9|0.0997840924705|3.38443803197E-4|          Auburndale|       9.0|       Queens|            29|       29|          |\n",
       "-73.7916654578906|40.6781247031195|      10|0.0998394794152|4.35823818081E-4|        Baisley Park|      10.0|       Queens|            30|       30|          |\n",
       "-74.0106156305362|40.6039777088098|      11|0.0792110389596| 2.6452053504E-4|          Bath Beach|      11.0|     Brooklyn|            31|       31|          |\n",
       "-74.0154903292143|40.7024884135418|      12|0.0366613013579|4.15116236727E-5|        Battery Park|      12.0|    Manhattan|            32|       32|          |\n",
       "-74.0161196692833|40.7116120831165|      13|0.0502813228631|1.49358592917E-4|   Battery Park City|      13.0|    Manhattan|            33|       33|          |\n",
       "-74.0304470508297|40.6235842793089|      14| 0.175213698053|0.00138177826442|           Bay Ridge|      14.0|     Brooklyn|            34|       34|          |\n",
       "-73.7879710847436|40.7852195006457|      15|  0.14433622262|9.25219395547E-4|Bay Terrace/Fort ...|      15.0|       Queens|            35|       35|          |\n",
       "-73.7716678221165|40.7612088345005|      16| 0.141291873771|8.71889446182E-4|             Bayside|      16.0|       Queens|            36|       36|          |\n",
       "-73.9491813010382|40.6919940962748|      17| 0.093522632948|3.22957654799E-4|             Bedford|      17.0|     Brooklyn|            37|       37|          |\n",
       "-73.8869219948557|40.8687628819908|      18|0.0697995498569|1.48850163948E-4|        Bedford Park|      18.0|        Bronx|            38|       38|          |\n",
       "-73.7278693961567|40.7364724391387|      19| 0.101824875452|5.46661094782E-4|           Bellerose|      19.0|       Queens|            39|       39|          |\n",
       "-73.8860348405346|40.8577731142544|      20|0.0514401924362|1.34512633032E-4|             Belmont|      20.0|        Bronx|            40|       40|          |\n",
       "+-----------------+----------------+--------+---------------+----------------+--------------------+----------+-------------+--------------+---------+----------+\n",
       "only showing top 20 rows\n",
       "\n",
       "</div>"
      ]
     },
     "metadata": {
      "application/vnd.databricks.v1+output": {
       "addedWidgets": {},
       "arguments": {},
       "data": "<div class=\"ansiout\">+-----------------+----------------+--------+---------------+----------------+--------------------+----------+-------------+--------------+---------+----------+\n|             Long|               Y|OBJECTID|     Shape_Leng|      Shape_Area|                zone|locationID|      borough|Upgraded_ObjID|new_ObjID|New_Column|\n+-----------------+----------------+--------+---------------+----------------+--------------------+----------+-------------+--------------+---------+----------+\n|-74.1767857452143|40.6895156480431|       1| 0.116357453189|  7.823067885E-4|      Newark Airport|       1.0|          EWR|            21|       21|          |\n|-73.8261257703202|40.6257242377511|       2|  0.43346966679|0.00486634037837|         Jamaica Bay|       2.0|       Queens|            22|       22|          |\n|-73.8494789238597|40.8658875419774|       3|0.0843411059012|3.14414156821E-4|Allerton/Pelham G...|       3.0|        Bronx|            23|       23|          |\n|-73.9770229219339|40.7241521436714|       4|0.0435665270921|1.11871946192E-4|       Alphabet City|       4.0|    Manhattan|            24|       24|          |\n|-74.1899296712375| 40.550340123832|       5|0.0921464898574|4.97957489363E-4|       Arden Heights|       5.0|Staten Island|            25|       25|          |\n|-74.0677744607421|40.5990621740821|       6| 0.150490542523|6.06460984581E-4|Arrochar/Fort Wad...|       6.0|Staten Island|            26|       26|          |\n|-73.9214905669465| 40.761084729151|       7| 0.107417171123|3.89787989274E-4|             Astoria|       7.0|       Queens|            27|       27|          |\n|-73.9232024092836|40.7786069617704|       8|0.0275906911574| 2.6587716279E-5|        Astoria Park|       8.0|       Queens|            28|       28|          |\n|-73.7880202487407|40.7544109271114|       9|0.0997840924705|3.38443803197E-4|          Auburndale|       9.0|       Queens|            29|       29|          |\n|-73.7916654578906|40.6781247031195|      10|0.0998394794152|4.35823818081E-4|        Baisley Park|      10.0|       Queens|            30|       30|          |\n|-74.0106156305362|40.6039777088098|      11|0.0792110389596| 2.6452053504E-4|          Bath Beach|      11.0|     Brooklyn|            31|       31|          |\n|-74.0154903292143|40.7024884135418|      12|0.0366613013579|4.15116236727E-5|        Battery Park|      12.0|    Manhattan|            32|       32|          |\n|-74.0161196692833|40.7116120831165|      13|0.0502813228631|1.49358592917E-4|   Battery Park City|      13.0|    Manhattan|            33|       33|          |\n|-74.0304470508297|40.6235842793089|      14| 0.175213698053|0.00138177826442|           Bay Ridge|      14.0|     Brooklyn|            34|       34|          |\n|-73.7879710847436|40.7852195006457|      15|  0.14433622262|9.25219395547E-4|Bay Terrace/Fort ...|      15.0|       Queens|            35|       35|          |\n|-73.7716678221165|40.7612088345005|      16| 0.141291873771|8.71889446182E-4|             Bayside|      16.0|       Queens|            36|       36|          |\n|-73.9491813010382|40.6919940962748|      17| 0.093522632948|3.22957654799E-4|             Bedford|      17.0|     Brooklyn|            37|       37|          |\n|-73.8869219948557|40.8687628819908|      18|0.0697995498569|1.48850163948E-4|        Bedford Park|      18.0|        Bronx|            38|       38|          |\n|-73.7278693961567|40.7364724391387|      19| 0.101824875452|5.46661094782E-4|           Bellerose|      19.0|       Queens|            39|       39|          |\n|-73.8860348405346|40.8577731142544|      20|0.0514401924362|1.34512633032E-4|             Belmont|      20.0|        Bronx|            40|       40|          |\n+-----------------+----------------+--------+---------------+----------------+--------------------+----------+-------------+--------------+---------+----------+\nonly showing top 20 rows\n\n</div>",
       "datasetInfos": [],
       "metadata": {},
       "removedWidgets": [],
       "type": "html"
      }
     },
     "output_type": "display_data"
    }
   ],
   "source": [
    "# Renaming column \"X\" with \"Long\"\n",
    "\n",
    "df = df.withColumnRenamed(\"X\",\"Long\")\n",
    "df.show()"
   ]
  },
  {
   "cell_type": "markdown",
   "metadata": {},
   "source": [
    "# Filter"
   ]
  },
  {
   "cell_type": "code",
   "execution_count": 0,
   "metadata": {
    "application/vnd.databricks.v1+cell": {
     "inputWidgets": {},
     "nuid": "3cbe108b-a415-492b-a770-d77290b6627d",
     "showTitle": false,
     "title": ""
    }
   },
   "outputs": [
    {
     "data": {
      "text/html": [
       "<style scoped>\n",
       "  .ansiout {\n",
       "    display: block;\n",
       "    unicode-bidi: embed;\n",
       "    white-space: pre-wrap;\n",
       "    word-wrap: break-word;\n",
       "    word-break: break-all;\n",
       "    font-family: \"Source Code Pro\", \"Menlo\", monospace;;\n",
       "    font-size: 13px;\n",
       "    color: #555;\n",
       "    margin-left: 4px;\n",
       "    line-height: 19px;\n",
       "  }\n",
       "</style>\n",
       "<div class=\"ansiout\"></div>"
      ]
     },
     "metadata": {
      "application/vnd.databricks.v1+output": {
       "addedWidgets": {},
       "arguments": {},
       "data": "<div class=\"ansiout\"></div>",
       "datasetInfos": [],
       "metadata": {},
       "removedWidgets": [],
       "type": "html"
      }
     },
     "output_type": "display_data"
    }
   ],
   "source": [
    "# Filter out \"Queens\" borough\n",
    "\n",
    "queens =  df.filter(df.borough == \"Queens\")"
   ]
  },
  {
   "cell_type": "code",
   "execution_count": 0,
   "metadata": {
    "application/vnd.databricks.v1+cell": {
     "inputWidgets": {},
     "nuid": "7edc7dd7-0242-40f3-abda-c2052145eddb",
     "showTitle": false,
     "title": ""
    }
   },
   "outputs": [
    {
     "data": {
      "text/html": [
       "<style scoped>\n",
       "  .ansiout {\n",
       "    display: block;\n",
       "    unicode-bidi: embed;\n",
       "    white-space: pre-wrap;\n",
       "    word-wrap: break-word;\n",
       "    word-break: break-all;\n",
       "    font-family: \"Source Code Pro\", \"Menlo\", monospace;;\n",
       "    font-size: 13px;\n",
       "    color: #555;\n",
       "    margin-left: 4px;\n",
       "    line-height: 19px;\n",
       "  }\n",
       "</style>\n",
       "<div class=\"ansiout\">+-----------------+----------------+--------+---------------+----------------+--------------------+----------+-------+--------------+---------+----------+\n",
       "             Long|               Y|OBJECTID|     Shape_Leng|      Shape_Area|                zone|locationID|borough|Upgraded_ObjID|new_ObjID|New_Column|\n",
       "+-----------------+----------------+--------+---------------+----------------+--------------------+----------+-------+--------------+---------+----------+\n",
       "-73.8261257703202|40.6257242377511|       2|  0.43346966679|0.00486634037837|         Jamaica Bay|       2.0| Queens|            22|       22|          |\n",
       "-73.9214905669465| 40.761084729151|       7| 0.107417171123|3.89787989274E-4|             Astoria|       7.0| Queens|            27|       27|          |\n",
       "-73.9232024092836|40.7786069617704|       8|0.0275906911574| 2.6587716279E-5|        Astoria Park|       8.0| Queens|            28|       28|          |\n",
       "-73.7880202487407|40.7544109271114|       9|0.0997840924705|3.38443803197E-4|          Auburndale|       9.0| Queens|            29|       29|          |\n",
       "-73.7916654578906|40.6781247031195|      10|0.0998394794152|4.35823818081E-4|        Baisley Park|      10.0| Queens|            30|       30|          |\n",
       "-73.7879710847436|40.7852195006457|      15|  0.14433622262|9.25219395547E-4|Bay Terrace/Fort ...|      15.0| Queens|            35|       35|          |\n",
       "-73.7716678221165|40.7612088345005|      16| 0.141291873771|8.71889446182E-4|             Bayside|      16.0| Queens|            36|       36|          |\n",
       "-73.7278693961567|40.7364724391387|      19| 0.101824875452|5.46661094782E-4|           Bellerose|      19.0| Queens|            39|       39|          |\n",
       "-73.9097811978144|40.5589500919216|      27| 0.202508808518|0.00134088762746|Breezy Point/Fort...|      27.0| Queens|            47|       47|          |\n",
       "  -73.80732908405| 40.710852781755|      28| 0.097960782214|2.91203927662E-4|Briarwood/Jamaica...|      28.0| Queens|            48|       48|          |\n",
       "-73.8200975464803|40.6048721837899|      30|0.0945097669793|1.45862107626E-4|       Broad Channel|      30.0| Queens|            50|       50|          |\n",
       "-73.7355495585459|40.6932955704325|      38|0.0832175685234|3.27392684821E-4|     Cambria Heights|      38.0| Queens|            58|       58|          |\n",
       "-73.8440703458857|40.7819879584294|      53| 0.161500913385|9.47530980821E-4|       College Point|      53.0| Queens|            73|       73|          |\n",
       "-73.8590533534623|40.7415986155017|      56|0.0568478126677|1.80907844436E-4|              Corona|      56.0| Queens|            76|       76|          |\n",
       " -73.853384474855|40.7523160392058|      57|0.0192705048557|1.80259807917E-5|              Corona|      56.0| Queens|            77|       77|          |\n",
       "-73.7313921625056| 40.760631276033|      64|  0.18445188474|0.00105790284614|          Douglaston|      64.0| Queens|            84|       84|          |\n",
       "-73.8684029143644|40.7639478203254|      70|0.0638403183367|1.95458476728E-4|       East Elmhurst|      70.0| Queens|            90|       90|          |\n",
       "-73.8065843331469|40.7536974869459|      73|0.0853020209129|2.91799754395E-4|       East Flushing|      73.0| Queens|            93|       93|          |\n",
       "-73.8723440095934|40.7384639203673|      82| 0.119875649697|3.23601079994E-4|            Elmhurst|      82.0| Queens|           102|      102|          |\n",
       " -73.889221829475|40.7401456031773|      83| 0.105984933269|2.17463718718E-4|    Elmhurst/Maspeth|      83.0| Queens|           103|      103|          |\n",
       "+-----------------+----------------+--------+---------------+----------------+--------------------+----------+-------+--------------+---------+----------+\n",
       "only showing top 20 rows\n",
       "\n",
       "</div>"
      ]
     },
     "metadata": {
      "application/vnd.databricks.v1+output": {
       "addedWidgets": {},
       "arguments": {},
       "data": "<div class=\"ansiout\">+-----------------+----------------+--------+---------------+----------------+--------------------+----------+-------+--------------+---------+----------+\n|             Long|               Y|OBJECTID|     Shape_Leng|      Shape_Area|                zone|locationID|borough|Upgraded_ObjID|new_ObjID|New_Column|\n+-----------------+----------------+--------+---------------+----------------+--------------------+----------+-------+--------------+---------+----------+\n|-73.8261257703202|40.6257242377511|       2|  0.43346966679|0.00486634037837|         Jamaica Bay|       2.0| Queens|            22|       22|          |\n|-73.9214905669465| 40.761084729151|       7| 0.107417171123|3.89787989274E-4|             Astoria|       7.0| Queens|            27|       27|          |\n|-73.9232024092836|40.7786069617704|       8|0.0275906911574| 2.6587716279E-5|        Astoria Park|       8.0| Queens|            28|       28|          |\n|-73.7880202487407|40.7544109271114|       9|0.0997840924705|3.38443803197E-4|          Auburndale|       9.0| Queens|            29|       29|          |\n|-73.7916654578906|40.6781247031195|      10|0.0998394794152|4.35823818081E-4|        Baisley Park|      10.0| Queens|            30|       30|          |\n|-73.7879710847436|40.7852195006457|      15|  0.14433622262|9.25219395547E-4|Bay Terrace/Fort ...|      15.0| Queens|            35|       35|          |\n|-73.7716678221165|40.7612088345005|      16| 0.141291873771|8.71889446182E-4|             Bayside|      16.0| Queens|            36|       36|          |\n|-73.7278693961567|40.7364724391387|      19| 0.101824875452|5.46661094782E-4|           Bellerose|      19.0| Queens|            39|       39|          |\n|-73.9097811978144|40.5589500919216|      27| 0.202508808518|0.00134088762746|Breezy Point/Fort...|      27.0| Queens|            47|       47|          |\n|  -73.80732908405| 40.710852781755|      28| 0.097960782214|2.91203927662E-4|Briarwood/Jamaica...|      28.0| Queens|            48|       48|          |\n|-73.8200975464803|40.6048721837899|      30|0.0945097669793|1.45862107626E-4|       Broad Channel|      30.0| Queens|            50|       50|          |\n|-73.7355495585459|40.6932955704325|      38|0.0832175685234|3.27392684821E-4|     Cambria Heights|      38.0| Queens|            58|       58|          |\n|-73.8440703458857|40.7819879584294|      53| 0.161500913385|9.47530980821E-4|       College Point|      53.0| Queens|            73|       73|          |\n|-73.8590533534623|40.7415986155017|      56|0.0568478126677|1.80907844436E-4|              Corona|      56.0| Queens|            76|       76|          |\n| -73.853384474855|40.7523160392058|      57|0.0192705048557|1.80259807917E-5|              Corona|      56.0| Queens|            77|       77|          |\n|-73.7313921625056| 40.760631276033|      64|  0.18445188474|0.00105790284614|          Douglaston|      64.0| Queens|            84|       84|          |\n|-73.8684029143644|40.7639478203254|      70|0.0638403183367|1.95458476728E-4|       East Elmhurst|      70.0| Queens|            90|       90|          |\n|-73.8065843331469|40.7536974869459|      73|0.0853020209129|2.91799754395E-4|       East Flushing|      73.0| Queens|            93|       93|          |\n|-73.8723440095934|40.7384639203673|      82| 0.119875649697|3.23601079994E-4|            Elmhurst|      82.0| Queens|           102|      102|          |\n| -73.889221829475|40.7401456031773|      83| 0.105984933269|2.17463718718E-4|    Elmhurst/Maspeth|      83.0| Queens|           103|      103|          |\n+-----------------+----------------+--------+---------------+----------------+--------------------+----------+-------+--------------+---------+----------+\nonly showing top 20 rows\n\n</div>",
       "datasetInfos": [],
       "metadata": {},
       "removedWidgets": [],
       "type": "html"
      }
     },
     "output_type": "display_data"
    }
   ],
   "source": [
    "queens.show()"
   ]
  },
  {
   "cell_type": "code",
   "execution_count": 0,
   "metadata": {
    "application/vnd.databricks.v1+cell": {
     "inputWidgets": {},
     "nuid": "b630c4be-8646-43d0-a0f0-c9fb1961c652",
     "showTitle": false,
     "title": ""
    }
   },
   "outputs": [
    {
     "data": {
      "text/html": [
       "<style scoped>\n",
       "  .ansiout {\n",
       "    display: block;\n",
       "    unicode-bidi: embed;\n",
       "    white-space: pre-wrap;\n",
       "    word-wrap: break-word;\n",
       "    word-break: break-all;\n",
       "    font-family: \"Source Code Pro\", \"Menlo\", monospace;;\n",
       "    font-size: 13px;\n",
       "    color: #555;\n",
       "    margin-left: 4px;\n",
       "    line-height: 19px;\n",
       "  }\n",
       "</style>\n",
       "<div class=\"ansiout\">+-----------------+----------------+--------+---------------+----------------+--------------------+----------+-------+--------------+---------+----------+\n",
       "             Long|               Y|OBJECTID|     Shape_Leng|      Shape_Area|                zone|locationID|borough|Upgraded_ObjID|new_ObjID|New_Column|\n",
       "+-----------------+----------------+--------+---------------+----------------+--------------------+----------+-------+--------------+---------+----------+\n",
       "-73.8200975464803|40.6048721837899|      30|0.0945097669793|1.45862107626E-4|       Broad Channel|      30.0| Queens|            50|       50|          |\n",
       "-73.7355495585459|40.6932955704325|      38|0.0832175685234|3.27392684821E-4|     Cambria Heights|      38.0| Queens|            58|       58|          |\n",
       "-73.8440703458857|40.7819879584294|      53| 0.161500913385|9.47530980821E-4|       College Point|      53.0| Queens|            73|       73|          |\n",
       "-73.8590533534623|40.7415986155017|      56|0.0568478126677|1.80907844436E-4|              Corona|      56.0| Queens|            76|       76|          |\n",
       " -73.853384474855|40.7523160392058|      57|0.0192705048557|1.80259807917E-5|              Corona|      56.0| Queens|            77|       77|          |\n",
       "-73.7313921625056| 40.760631276033|      64|  0.18445188474|0.00105790284614|          Douglaston|      64.0| Queens|            84|       84|          |\n",
       "-73.8684029143644|40.7639478203254|      70|0.0638403183367|1.95458476728E-4|       East Elmhurst|      70.0| Queens|            90|       90|          |\n",
       "-73.8065843331469|40.7536974869459|      73|0.0853020209129|2.91799754395E-4|       East Flushing|      73.0| Queens|            93|       93|          |\n",
       "-73.8723440095934|40.7384639203673|      82| 0.119875649697|3.23601079994E-4|            Elmhurst|      82.0| Queens|           102|      102|          |\n",
       " -73.889221829475|40.7401456031773|      83| 0.105984933269|2.17463718718E-4|    Elmhurst/Maspeth|      83.0| Queens|           103|      103|          |\n",
       "-73.7541867292922|40.6025539265615|      86| 0.134245282582|6.23278815249E-4|        Far Rockaway|      86.0| Queens|           106|      106|          |\n",
       "-73.8304471275476|40.7641272834135|      92| 0.117830066799|3.74946617289E-4|            Flushing|      92.0| Queens|           112|      112|          |\n",
       "-73.8418927550086|40.7392346574674|      93| 0.170998027597|5.94278183978E-4|Flushing Meadows-...|      93.0| Queens|           113|      113|          |\n",
       "-73.8482199362705|40.7234652723597|      95| 0.113629605476| 5.7277033803E-4|        Forest Hills|      95.0| Queens|           115|      115|          |\n",
       "-73.8760122181239|40.6957609903045|      96| 0.185180248095|5.47566253402E-4|Forest Park/Highl...|      96.0| Queens|           116|      116|          |\n",
       "-73.7795502346253|40.7338412186621|      98| 0.121661018278|4.85773020954E-4|       Fresh Meadows|      98.0| Queens|           118|      118|          |\n",
       "-73.7090705910379|40.7437217835813|     101| 0.101709836277|4.52342528877E-4|           Glen Oaks|     101.0| Queens|           121|      121|          |\n",
       "-73.8819987296701|40.7026793599143|     102| 0.136900484646|2.96595466345E-4|            Glendale|     102.0| Queens|           122|      122|          |\n",
       "-73.7760841015511|40.5960558298222|     117| 0.169885857987| 9.0429427072E-4|     Hammels/Arverne|     117.0| Queens|           137|      137|          |\n",
       "-73.7996883075716|40.7273471948519|     121|0.0969153373445|3.84563286473E-4|   Hillcrest/Pomonok|     121.0| Queens|           141|      141|          |\n",
       "+-----------------+----------------+--------+---------------+----------------+--------------------+----------+-------+--------------+---------+----------+\n",
       "only showing top 20 rows\n",
       "\n",
       "</div>"
      ]
     },
     "metadata": {
      "application/vnd.databricks.v1+output": {
       "addedWidgets": {},
       "arguments": {},
       "data": "<div class=\"ansiout\">+-----------------+----------------+--------+---------------+----------------+--------------------+----------+-------+--------------+---------+----------+\n|             Long|               Y|OBJECTID|     Shape_Leng|      Shape_Area|                zone|locationID|borough|Upgraded_ObjID|new_ObjID|New_Column|\n+-----------------+----------------+--------+---------------+----------------+--------------------+----------+-------+--------------+---------+----------+\n|-73.8200975464803|40.6048721837899|      30|0.0945097669793|1.45862107626E-4|       Broad Channel|      30.0| Queens|            50|       50|          |\n|-73.7355495585459|40.6932955704325|      38|0.0832175685234|3.27392684821E-4|     Cambria Heights|      38.0| Queens|            58|       58|          |\n|-73.8440703458857|40.7819879584294|      53| 0.161500913385|9.47530980821E-4|       College Point|      53.0| Queens|            73|       73|          |\n|-73.8590533534623|40.7415986155017|      56|0.0568478126677|1.80907844436E-4|              Corona|      56.0| Queens|            76|       76|          |\n| -73.853384474855|40.7523160392058|      57|0.0192705048557|1.80259807917E-5|              Corona|      56.0| Queens|            77|       77|          |\n|-73.7313921625056| 40.760631276033|      64|  0.18445188474|0.00105790284614|          Douglaston|      64.0| Queens|            84|       84|          |\n|-73.8684029143644|40.7639478203254|      70|0.0638403183367|1.95458476728E-4|       East Elmhurst|      70.0| Queens|            90|       90|          |\n|-73.8065843331469|40.7536974869459|      73|0.0853020209129|2.91799754395E-4|       East Flushing|      73.0| Queens|            93|       93|          |\n|-73.8723440095934|40.7384639203673|      82| 0.119875649697|3.23601079994E-4|            Elmhurst|      82.0| Queens|           102|      102|          |\n| -73.889221829475|40.7401456031773|      83| 0.105984933269|2.17463718718E-4|    Elmhurst/Maspeth|      83.0| Queens|           103|      103|          |\n|-73.7541867292922|40.6025539265615|      86| 0.134245282582|6.23278815249E-4|        Far Rockaway|      86.0| Queens|           106|      106|          |\n|-73.8304471275476|40.7641272834135|      92| 0.117830066799|3.74946617289E-4|            Flushing|      92.0| Queens|           112|      112|          |\n|-73.8418927550086|40.7392346574674|      93| 0.170998027597|5.94278183978E-4|Flushing Meadows-...|      93.0| Queens|           113|      113|          |\n|-73.8482199362705|40.7234652723597|      95| 0.113629605476| 5.7277033803E-4|        Forest Hills|      95.0| Queens|           115|      115|          |\n|-73.8760122181239|40.6957609903045|      96| 0.185180248095|5.47566253402E-4|Forest Park/Highl...|      96.0| Queens|           116|      116|          |\n|-73.7795502346253|40.7338412186621|      98| 0.121661018278|4.85773020954E-4|       Fresh Meadows|      98.0| Queens|           118|      118|          |\n|-73.7090705910379|40.7437217835813|     101| 0.101709836277|4.52342528877E-4|           Glen Oaks|     101.0| Queens|           121|      121|          |\n|-73.8819987296701|40.7026793599143|     102| 0.136900484646|2.96595466345E-4|            Glendale|     102.0| Queens|           122|      122|          |\n|-73.7760841015511|40.5960558298222|     117| 0.169885857987| 9.0429427072E-4|     Hammels/Arverne|     117.0| Queens|           137|      137|          |\n|-73.7996883075716|40.7273471948519|     121|0.0969153373445|3.84563286473E-4|   Hillcrest/Pomonok|     121.0| Queens|           141|      141|          |\n+-----------------+----------------+--------+---------------+----------------+--------------------+----------+-------+--------------+---------+----------+\nonly showing top 20 rows\n\n</div>",
       "datasetInfos": [],
       "metadata": {},
       "removedWidgets": [],
       "type": "html"
      }
     },
     "output_type": "display_data"
    }
   ],
   "source": [
    "# Filtering 2 columns \"Borough\" and \"ObjectID\"\n",
    "\n",
    "df.filter( (df.borough == \"Queens\") & (df.OBJECTID >= 30)).show()"
   ]
  },
  {
   "cell_type": "code",
   "execution_count": 0,
   "metadata": {
    "application/vnd.databricks.v1+cell": {
     "inputWidgets": {},
     "nuid": "85e43e01-9135-4337-aa17-2b7d9634a7fe",
     "showTitle": false,
     "title": ""
    }
   },
   "outputs": [
    {
     "data": {
      "text/html": [
       "<style scoped>\n",
       "  .ansiout {\n",
       "    display: block;\n",
       "    unicode-bidi: embed;\n",
       "    white-space: pre-wrap;\n",
       "    word-wrap: break-word;\n",
       "    word-break: break-all;\n",
       "    font-family: \"Source Code Pro\", \"Menlo\", monospace;;\n",
       "    font-size: 13px;\n",
       "    color: #555;\n",
       "    margin-left: 4px;\n",
       "    line-height: 19px;\n",
       "  }\n",
       "</style>\n",
       "<div class=\"ansiout\">+-----------------+----------------+--------+---------------+----------------+--------------------+----------+-------------+--------------+---------+----------+\n",
       "             Long|               Y|OBJECTID|     Shape_Leng|      Shape_Area|                zone|locationID|      borough|Upgraded_ObjID|new_ObjID|New_Column|\n",
       "+-----------------+----------------+--------+---------------+----------------+--------------------+----------+-------------+--------------+---------+----------+\n",
       "-74.1767857452143|40.6895156480431|       1| 0.116357453189|  7.823067885E-4|      Newark Airport|       1.0|          EWR|            21|       21|          |\n",
       "-74.1899296712375| 40.550340123832|       5|0.0921464898574|4.97957489363E-4|       Arden Heights|       5.0|Staten Island|            25|       25|          |\n",
       "-74.0677744607421|40.5990621740821|       6| 0.150490542523|6.06460984581E-4|Arrochar/Fort Wad...|       6.0|Staten Island|            26|       26|          |\n",
       "-74.1594432875648| 40.607504219542|      23| 0.290556028962|0.00219556576201|Bloomfield/Emerso...|      23.0|Staten Island|            43|       43|          |\n",
       "-74.2295465457844| 40.527298175003|      44| 0.235688967594|0.00194465649192|Charleston/Totten...|      44.0|Staten Island|            64|       64|          |\n",
       "-74.1739373269384|40.5320172010873|      84| 0.233623987032|0.00207375572052|Eltingville/Annad...|      84.0|Staten Island|           104|      104|          |\n",
       " -74.187702737221|40.5796179453647|      99|   0.1833714893|0.00121016463877|     Freshkills Park|      99.0|Staten Island|           119|      119|          |\n",
       "-74.1527146857649|40.5488307159092|     109| 0.178267819599|0.00116960076185|         Great Kills|     109.0|Staten Island|           129|      129|          |\n",
       "-74.1258464065771|40.5432675249983|     110| 0.103946292913|5.25745098785E-4|    Great Kills Park|     110.0|Staten Island|           130|      130|          |\n",
       "-74.0924861023209|40.6201275450588|     115| 0.116169413964|3.73168991958E-4| Grymes Hill/Clifton|     115.0|Staten Island|           135|      135|          |\n",
       "-74.1370701313217|40.5856310621159|     118| 0.243966217692|0.00182693922711|Heartland Village...|     118.0|Staten Island|           138|      138|          |\n",
       "-74.1648593047613|40.6287483754853|     156| 0.144476890476| 0.0010521217443|     Mariners Harbor|     156.0|Staten Island|           176|      176|          |\n",
       "-74.1039265024817|40.5724654201423|     172| 0.118476116148|6.58402501406E-4|New Dorp/Midland ...|     172.0|Staten Island|           192|      192|          |\n",
       "-74.1196124324174|40.5620606070131|     176| 0.151995190703|6.57782126267E-4|             Oakwood|     176.0|Staten Island|           196|      196|          |\n",
       "-74.1411524820629|40.6254537199379|     187| 0.126868431324|4.21195755741E-4|       Port Richmond|     187.0|Staten Island|           207|      207|          |\n",
       "-74.2069729508607|40.5407426890056|     204| 0.101912418311|6.41384265972E-4|   Rossville/Woodrow|     204.0|Staten Island|           224|      224|          |\n",
       "-74.1231637564731|40.6359593979133|     206| 0.212756793386|9.44392507762E-4|Saint George/New ...|     206.0|Staten Island|           226|      226|          |\n",
       "-74.0858854521269|40.5866190655298|     214| 0.135300314246|8.11976523012E-4|South Beach/Donga...|     214.0|Staten Island|           234|      234|          |\n",
       "-74.0813347613662|40.6202239775881|     221| 0.166218220846|8.90111567051E-4|           Stapleton|     221.0|Staten Island|           241|      241|          |\n",
       "-74.1031706067521| 40.628478475102|     245|0.0959830596604|4.66175414294E-4|       West Brighton|     245.0|Staten Island|           265|      265|          |\n",
       "+-----------------+----------------+--------+---------------+----------------+--------------------+----------+-------------+--------------+---------+----------+\n",
       "only showing top 20 rows\n",
       "\n",
       "</div>"
      ]
     },
     "metadata": {
      "application/vnd.databricks.v1+output": {
       "addedWidgets": {},
       "arguments": {},
       "data": "<div class=\"ansiout\">+-----------------+----------------+--------+---------------+----------------+--------------------+----------+-------------+--------------+---------+----------+\n|             Long|               Y|OBJECTID|     Shape_Leng|      Shape_Area|                zone|locationID|      borough|Upgraded_ObjID|new_ObjID|New_Column|\n+-----------------+----------------+--------+---------------+----------------+--------------------+----------+-------------+--------------+---------+----------+\n|-74.1767857452143|40.6895156480431|       1| 0.116357453189|  7.823067885E-4|      Newark Airport|       1.0|          EWR|            21|       21|          |\n|-74.1899296712375| 40.550340123832|       5|0.0921464898574|4.97957489363E-4|       Arden Heights|       5.0|Staten Island|            25|       25|          |\n|-74.0677744607421|40.5990621740821|       6| 0.150490542523|6.06460984581E-4|Arrochar/Fort Wad...|       6.0|Staten Island|            26|       26|          |\n|-74.1594432875648| 40.607504219542|      23| 0.290556028962|0.00219556576201|Bloomfield/Emerso...|      23.0|Staten Island|            43|       43|          |\n|-74.2295465457844| 40.527298175003|      44| 0.235688967594|0.00194465649192|Charleston/Totten...|      44.0|Staten Island|            64|       64|          |\n|-74.1739373269384|40.5320172010873|      84| 0.233623987032|0.00207375572052|Eltingville/Annad...|      84.0|Staten Island|           104|      104|          |\n| -74.187702737221|40.5796179453647|      99|   0.1833714893|0.00121016463877|     Freshkills Park|      99.0|Staten Island|           119|      119|          |\n|-74.1527146857649|40.5488307159092|     109| 0.178267819599|0.00116960076185|         Great Kills|     109.0|Staten Island|           129|      129|          |\n|-74.1258464065771|40.5432675249983|     110| 0.103946292913|5.25745098785E-4|    Great Kills Park|     110.0|Staten Island|           130|      130|          |\n|-74.0924861023209|40.6201275450588|     115| 0.116169413964|3.73168991958E-4| Grymes Hill/Clifton|     115.0|Staten Island|           135|      135|          |\n|-74.1370701313217|40.5856310621159|     118| 0.243966217692|0.00182693922711|Heartland Village...|     118.0|Staten Island|           138|      138|          |\n|-74.1648593047613|40.6287483754853|     156| 0.144476890476| 0.0010521217443|     Mariners Harbor|     156.0|Staten Island|           176|      176|          |\n|-74.1039265024817|40.5724654201423|     172| 0.118476116148|6.58402501406E-4|New Dorp/Midland ...|     172.0|Staten Island|           192|      192|          |\n|-74.1196124324174|40.5620606070131|     176| 0.151995190703|6.57782126267E-4|             Oakwood|     176.0|Staten Island|           196|      196|          |\n|-74.1411524820629|40.6254537199379|     187| 0.126868431324|4.21195755741E-4|       Port Richmond|     187.0|Staten Island|           207|      207|          |\n|-74.2069729508607|40.5407426890056|     204| 0.101912418311|6.41384265972E-4|   Rossville/Woodrow|     204.0|Staten Island|           224|      224|          |\n|-74.1231637564731|40.6359593979133|     206| 0.212756793386|9.44392507762E-4|Saint George/New ...|     206.0|Staten Island|           226|      226|          |\n|-74.0858854521269|40.5866190655298|     214| 0.135300314246|8.11976523012E-4|South Beach/Donga...|     214.0|Staten Island|           234|      234|          |\n|-74.0813347613662|40.6202239775881|     221| 0.166218220846|8.90111567051E-4|           Stapleton|     221.0|Staten Island|           241|      241|          |\n|-74.1031706067521| 40.628478475102|     245|0.0959830596604|4.66175414294E-4|       West Brighton|     245.0|Staten Island|           265|      265|          |\n+-----------------+----------------+--------+---------------+----------------+--------------------+----------+-------------+--------------+---------+----------+\nonly showing top 20 rows\n\n</div>",
       "datasetInfos": [],
       "metadata": {},
       "removedWidgets": [],
       "type": "html"
      }
     },
     "output_type": "display_data"
    }
   ],
   "source": [
    "# Multiple Filtering with (isin)\n",
    "\n",
    "vals = [\"EWR\", \"Staten Island\"]\n",
    "df.filter(df.borough.isin(vals)).show()"
   ]
  },
  {
   "cell_type": "code",
   "execution_count": 0,
   "metadata": {
    "application/vnd.databricks.v1+cell": {
     "inputWidgets": {},
     "nuid": "6e1dfa99-e98e-4a32-94d8-c0227f0f8180",
     "showTitle": false,
     "title": ""
    }
   },
   "outputs": [
    {
     "data": {
      "text/html": [
       "<style scoped>\n",
       "  .ansiout {\n",
       "    display: block;\n",
       "    unicode-bidi: embed;\n",
       "    white-space: pre-wrap;\n",
       "    word-wrap: break-word;\n",
       "    word-break: break-all;\n",
       "    font-family: \"Source Code Pro\", \"Menlo\", monospace;;\n",
       "    font-size: 13px;\n",
       "    color: #555;\n",
       "    margin-left: 4px;\n",
       "    line-height: 19px;\n",
       "  }\n",
       "</style>\n",
       "<div class=\"ansiout\">+----+---+--------+----------+----------+----+----------+-------+--------------+---------+----------+\n",
       "Long|  Y|OBJECTID|Shape_Leng|Shape_Area|zone|locationID|borough|Upgraded_ObjID|new_ObjID|New_Column|\n",
       "+----+---+--------+----------+----------+----+----------+-------+--------------+---------+----------+\n",
       "+----+---+--------+----------+----------+----+----------+-------+--------------+---------+----------+\n",
       "\n",
       "</div>"
      ]
     },
     "metadata": {
      "application/vnd.databricks.v1+output": {
       "addedWidgets": {},
       "arguments": {},
       "data": "<div class=\"ansiout\">+----+---+--------+----------+----------+----+----------+-------+--------------+---------+----------+\n|Long|  Y|OBJECTID|Shape_Leng|Shape_Area|zone|locationID|borough|Upgraded_ObjID|new_ObjID|New_Column|\n+----+---+--------+----------+----------+----+----------+-------+--------------+---------+----------+\n+----+---+--------+----------+----------+----+----------+-------+--------------+---------+----------+\n\n</div>",
       "datasetInfos": [],
       "metadata": {},
       "removedWidgets": [],
       "type": "html"
      }
     },
     "output_type": "display_data"
    }
   ],
   "source": [
    "# Filtering with (startswith)\n",
    "\n",
    "df.filter(df.borough.startswith('a')).show()"
   ]
  },
  {
   "cell_type": "code",
   "execution_count": 0,
   "metadata": {
    "application/vnd.databricks.v1+cell": {
     "inputWidgets": {},
     "nuid": "9ceae8b0-0e2e-44cf-bdc7-936b9f5017ae",
     "showTitle": false,
     "title": ""
    }
   },
   "outputs": [
    {
     "data": {
      "text/html": [
       "<style scoped>\n",
       "  .ansiout {\n",
       "    display: block;\n",
       "    unicode-bidi: embed;\n",
       "    white-space: pre-wrap;\n",
       "    word-wrap: break-word;\n",
       "    word-break: break-all;\n",
       "    font-family: \"Source Code Pro\", \"Menlo\", monospace;;\n",
       "    font-size: 13px;\n",
       "    color: #555;\n",
       "    margin-left: 4px;\n",
       "    line-height: 19px;\n",
       "  }\n",
       "</style>\n",
       "<div class=\"ansiout\">+-----------------+----------------+--------+--------------+--------------+--------------+----------+-------+--------------+---------+----------+\n",
       "             Long|               Y|OBJECTID|    Shape_Leng|    Shape_Area|          zone|locationID|borough|Upgraded_ObjID|new_ObjID|New_Column|\n",
       "+-----------------+----------------+--------+--------------+--------------+--------------+----------+-------+--------------+---------+----------+\n",
       "-74.1767857452143|40.6895156480431|       1|0.116357453189|7.823067885E-4|Newark Airport|       1.0|    EWR|            21|       21|          |\n",
       "+-----------------+----------------+--------+--------------+--------------+--------------+----------+-------+--------------+---------+----------+\n",
       "\n",
       "</div>"
      ]
     },
     "metadata": {
      "application/vnd.databricks.v1+output": {
       "addedWidgets": {},
       "arguments": {},
       "data": "<div class=\"ansiout\">+-----------------+----------------+--------+--------------+--------------+--------------+----------+-------+--------------+---------+----------+\n|             Long|               Y|OBJECTID|    Shape_Leng|    Shape_Area|          zone|locationID|borough|Upgraded_ObjID|new_ObjID|New_Column|\n+-----------------+----------------+--------+--------------+--------------+--------------+----------+-------+--------------+---------+----------+\n|-74.1767857452143|40.6895156480431|       1|0.116357453189|7.823067885E-4|Newark Airport|       1.0|    EWR|            21|       21|          |\n+-----------------+----------------+--------+--------------+--------------+--------------+----------+-------+--------------+---------+----------+\n\n</div>",
       "datasetInfos": [],
       "metadata": {},
       "removedWidgets": [],
       "type": "html"
      }
     },
     "output_type": "display_data"
    }
   ],
   "source": [
    "df.filter(df.borough.startswith('E')).show()"
   ]
  },
  {
   "cell_type": "code",
   "execution_count": 0,
   "metadata": {
    "application/vnd.databricks.v1+cell": {
     "inputWidgets": {},
     "nuid": "04ed59d3-dc91-4eb8-8bd5-37b008f6c75f",
     "showTitle": false,
     "title": ""
    }
   },
   "outputs": [
    {
     "data": {
      "text/html": [
       "<style scoped>\n",
       "  .ansiout {\n",
       "    display: block;\n",
       "    unicode-bidi: embed;\n",
       "    white-space: pre-wrap;\n",
       "    word-wrap: break-word;\n",
       "    word-break: break-all;\n",
       "    font-family: \"Source Code Pro\", \"Menlo\", monospace;;\n",
       "    font-size: 13px;\n",
       "    color: #555;\n",
       "    margin-left: 4px;\n",
       "    line-height: 19px;\n",
       "  }\n",
       "</style>\n",
       "<div class=\"ansiout\">+-----------------+----------------+--------+---------------+----------------+--------------------+----------+-------+--------------+---------+----------+\n",
       "             Long|               Y|OBJECTID|     Shape_Leng|      Shape_Area|                zone|locationID|borough|Upgraded_ObjID|new_ObjID|New_Column|\n",
       "+-----------------+----------------+--------+---------------+----------------+--------------------+----------+-------+--------------+---------+----------+\n",
       "-73.8494789238597|40.8658875419774|       3|0.0843411059012|3.14414156821E-4|Allerton/Pelham G...|       3.0|  Bronx|            23|       23|          |\n",
       "-73.8869219948557|40.8687628819908|      18|0.0697995498569|1.48850163948E-4|        Bedford Park|      18.0|  Bronx|            38|       38|          |\n",
       "-73.8860348405346|40.8577731142544|      20|0.0514401924362|1.34512633032E-4|             Belmont|      20.0|  Bronx|            40|       40|          |\n",
       " -73.875722045295|  40.85992052114|      31|0.0964245666516|3.33975927329E-4|          Bronx Park|      31.0|  Bronx|            51|       51|          |\n",
       "-73.8646241408313|40.8644517064252|      32|  0.05426721601|1.50879171971E-4|           Bronxdale|      32.0|  Bronx|            52|       52|          |\n",
       "-73.7864863118305|40.8474998984855|      46| 0.134475429879|9.26391677672E-4|         City Island|      46.0|  Bronx|            66|       66|          |\n",
       "-73.8969291492323|40.8457549453718|      47|0.0898275563294|1.63198117339E-4|  Claremont/Bathgate|      47.0|  Bronx|            67|       67|          |\n",
       "-73.8304236318969| 40.874061550909|      51|0.0953613442277|3.95756553505E-4|          Co-Op City|      51.0|  Bronx|            71|       71|          |\n",
       "-73.8207053822972|40.8414754987567|      58|0.0598554094851|2.04980931361E-4|        Country Club|      58.0|  Bronx|            78|       78|          |\n",
       "-73.8930744338338|40.8388599905968|      59|0.0377948070893|6.28765230648E-5|        Crotona Park|      59.0|  Bronx|            79|       79|          |\n",
       "-73.8897822026553|40.8312941187883|      60|0.0786482878226|1.61833284912E-4|   Crotona Park East|      60.0|  Bronx|            80|       80|          |\n",
       "-73.9153662202336|40.8306076776139|      69|0.0789896450483| 1.9905160381E-4|East Concourse/Co...|      69.0|  Bronx|            89|       89|          |\n",
       "-73.8866455940689|40.8460302771125|      78|0.0935944495806|1.91114419551E-4|        East Tremont|      78.0|  Bronx|            98|       98|          |\n",
       "-73.8455325663154|40.8773588281637|      81| 0.197592771731| 3.9956655019E-4|         Eastchester|      81.0|  Bronx|           101|      101|          |\n",
       " -73.900591010865|40.8582607643596|      94|0.0498326083147|6.25819407393E-5|       Fordham South|      94.0|  Bronx|           114|      114|          |\n",
       "-73.9269662109924|40.8367300313346|     119|0.0835070355744|1.85779447534E-4|          Highbridge|     119.0|  Bronx|           139|      139|          |\n",
       "-73.8849772729363| 40.813918192187|     126|  0.12994872606|  7.032738273E-4|         Hunts Point|     126.0|  Bronx|           146|      146|          |\n",
       "-73.9057199662352|40.8648027310875|     136|0.0906287154122|1.48524994129E-4| Kingsbridge Heights|     136.0|  Bronx|           156|      156|          |\n",
       "-73.8981929347315|40.8191985303455|     147|0.0587654949268|1.06418172757E-4|            Longwood|     147.0|  Bronx|           167|      167|          |\n",
       "-73.9135829897644|40.8182594605072|     159| 0.064363233206| 1.7124910387E-4|       Melrose South|     159.0|  Bronx|           179|      179|          |\n",
       "+-----------------+----------------+--------+---------------+----------------+--------------------+----------+-------+--------------+---------+----------+\n",
       "only showing top 20 rows\n",
       "\n",
       "</div>"
      ]
     },
     "metadata": {
      "application/vnd.databricks.v1+output": {
       "addedWidgets": {},
       "arguments": {},
       "data": "<div class=\"ansiout\">+-----------------+----------------+--------+---------------+----------------+--------------------+----------+-------+--------------+---------+----------+\n|             Long|               Y|OBJECTID|     Shape_Leng|      Shape_Area|                zone|locationID|borough|Upgraded_ObjID|new_ObjID|New_Column|\n+-----------------+----------------+--------+---------------+----------------+--------------------+----------+-------+--------------+---------+----------+\n|-73.8494789238597|40.8658875419774|       3|0.0843411059012|3.14414156821E-4|Allerton/Pelham G...|       3.0|  Bronx|            23|       23|          |\n|-73.8869219948557|40.8687628819908|      18|0.0697995498569|1.48850163948E-4|        Bedford Park|      18.0|  Bronx|            38|       38|          |\n|-73.8860348405346|40.8577731142544|      20|0.0514401924362|1.34512633032E-4|             Belmont|      20.0|  Bronx|            40|       40|          |\n| -73.875722045295|  40.85992052114|      31|0.0964245666516|3.33975927329E-4|          Bronx Park|      31.0|  Bronx|            51|       51|          |\n|-73.8646241408313|40.8644517064252|      32|  0.05426721601|1.50879171971E-4|           Bronxdale|      32.0|  Bronx|            52|       52|          |\n|-73.7864863118305|40.8474998984855|      46| 0.134475429879|9.26391677672E-4|         City Island|      46.0|  Bronx|            66|       66|          |\n|-73.8969291492323|40.8457549453718|      47|0.0898275563294|1.63198117339E-4|  Claremont/Bathgate|      47.0|  Bronx|            67|       67|          |\n|-73.8304236318969| 40.874061550909|      51|0.0953613442277|3.95756553505E-4|          Co-Op City|      51.0|  Bronx|            71|       71|          |\n|-73.8207053822972|40.8414754987567|      58|0.0598554094851|2.04980931361E-4|        Country Club|      58.0|  Bronx|            78|       78|          |\n|-73.8930744338338|40.8388599905968|      59|0.0377948070893|6.28765230648E-5|        Crotona Park|      59.0|  Bronx|            79|       79|          |\n|-73.8897822026553|40.8312941187883|      60|0.0786482878226|1.61833284912E-4|   Crotona Park East|      60.0|  Bronx|            80|       80|          |\n|-73.9153662202336|40.8306076776139|      69|0.0789896450483| 1.9905160381E-4|East Concourse/Co...|      69.0|  Bronx|            89|       89|          |\n|-73.8866455940689|40.8460302771125|      78|0.0935944495806|1.91114419551E-4|        East Tremont|      78.0|  Bronx|            98|       98|          |\n|-73.8455325663154|40.8773588281637|      81| 0.197592771731| 3.9956655019E-4|         Eastchester|      81.0|  Bronx|           101|      101|          |\n| -73.900591010865|40.8582607643596|      94|0.0498326083147|6.25819407393E-5|       Fordham South|      94.0|  Bronx|           114|      114|          |\n|-73.9269662109924|40.8367300313346|     119|0.0835070355744|1.85779447534E-4|          Highbridge|     119.0|  Bronx|           139|      139|          |\n|-73.8849772729363| 40.813918192187|     126|  0.12994872606|  7.032738273E-4|         Hunts Point|     126.0|  Bronx|           146|      146|          |\n|-73.9057199662352|40.8648027310875|     136|0.0906287154122|1.48524994129E-4| Kingsbridge Heights|     136.0|  Bronx|           156|      156|          |\n|-73.8981929347315|40.8191985303455|     147|0.0587654949268|1.06418172757E-4|            Longwood|     147.0|  Bronx|           167|      167|          |\n|-73.9135829897644|40.8182594605072|     159| 0.064363233206| 1.7124910387E-4|       Melrose South|     159.0|  Bronx|           179|      179|          |\n+-----------------+----------------+--------+---------------+----------------+--------------------+----------+-------+--------------+---------+----------+\nonly showing top 20 rows\n\n</div>",
       "datasetInfos": [],
       "metadata": {},
       "removedWidgets": [],
       "type": "html"
      }
     },
     "output_type": "display_data"
    }
   ],
   "source": [
    "# Filtering with (contains)\n",
    "\n",
    "df.filter(df.borough.contains('nx')).show()"
   ]
  },
  {
   "cell_type": "markdown",
   "metadata": {
    "application/vnd.databricks.v1+cell": {
     "inputWidgets": {},
     "nuid": "a3c9e290-b5c3-4ef6-af8a-d41e7c829681",
     "showTitle": false,
     "title": ""
    }
   },
   "source": [
    "# Count, Distinct and Duplicate"
   ]
  },
  {
   "cell_type": "code",
   "execution_count": 0,
   "metadata": {
    "application/vnd.databricks.v1+cell": {
     "inputWidgets": {},
     "nuid": "863ed60d-d70c-4589-9071-83e18e14e393",
     "showTitle": false,
     "title": ""
    }
   },
   "outputs": [
    {
     "data": {
      "text/html": [
       "<style scoped>\n",
       "  .ansiout {\n",
       "    display: block;\n",
       "    unicode-bidi: embed;\n",
       "    white-space: pre-wrap;\n",
       "    word-wrap: break-word;\n",
       "    word-break: break-all;\n",
       "    font-family: \"Source Code Pro\", \"Menlo\", monospace;;\n",
       "    font-size: 13px;\n",
       "    color: #555;\n",
       "    margin-left: 4px;\n",
       "    line-height: 19px;\n",
       "  }\n",
       "</style>\n",
       "<div class=\"ansiout\">Out[65]: 263</div>"
      ]
     },
     "metadata": {
      "application/vnd.databricks.v1+output": {
       "addedWidgets": {},
       "arguments": {},
       "data": "<div class=\"ansiout\">Out[65]: 263</div>",
       "datasetInfos": [],
       "metadata": {},
       "removedWidgets": [],
       "type": "html"
      }
     },
     "output_type": "display_data"
    }
   ],
   "source": [
    "# Counts the number of rows in the dataframe\n",
    "\n",
    "df.count()"
   ]
  },
  {
   "cell_type": "code",
   "execution_count": 0,
   "metadata": {
    "application/vnd.databricks.v1+cell": {
     "inputWidgets": {},
     "nuid": "8f516a05-37d6-41b6-aa7d-7ebf73d257ee",
     "showTitle": false,
     "title": ""
    }
   },
   "outputs": [
    {
     "data": {
      "text/html": [
       "<style scoped>\n",
       "  .ansiout {\n",
       "    display: block;\n",
       "    unicode-bidi: embed;\n",
       "    white-space: pre-wrap;\n",
       "    word-wrap: break-word;\n",
       "    word-break: break-all;\n",
       "    font-family: \"Source Code Pro\", \"Menlo\", monospace;;\n",
       "    font-size: 13px;\n",
       "    color: #555;\n",
       "    margin-left: 4px;\n",
       "    line-height: 19px;\n",
       "  }\n",
       "</style>\n",
       "<div class=\"ansiout\">Out[66]: 43</div>"
      ]
     },
     "metadata": {
      "application/vnd.databricks.v1+output": {
       "addedWidgets": {},
       "arguments": {},
       "data": "<div class=\"ansiout\">Out[66]: 43</div>",
       "datasetInfos": [],
       "metadata": {},
       "removedWidgets": [],
       "type": "html"
      }
     },
     "output_type": "display_data"
    }
   ],
   "source": [
    "# Counts the number of Bronx row in the dataframe\n",
    "\n",
    "df.filter(df.borough == \"Bronx\").count()"
   ]
  },
  {
   "cell_type": "code",
   "execution_count": 0,
   "metadata": {
    "application/vnd.databricks.v1+cell": {
     "inputWidgets": {},
     "nuid": "d01f8d39-162e-49ba-85d0-693a6a687bb2",
     "showTitle": false,
     "title": ""
    }
   },
   "outputs": [
    {
     "data": {
      "text/html": [
       "<style scoped>\n",
       "  .ansiout {\n",
       "    display: block;\n",
       "    unicode-bidi: embed;\n",
       "    white-space: pre-wrap;\n",
       "    word-wrap: break-word;\n",
       "    word-break: break-all;\n",
       "    font-family: \"Source Code Pro\", \"Menlo\", monospace;;\n",
       "    font-size: 13px;\n",
       "    color: #555;\n",
       "    margin-left: 4px;\n",
       "    line-height: 19px;\n",
       "  }\n",
       "</style>\n",
       "<div class=\"ansiout\">+-------------+\n",
       "      borough|\n",
       "+-------------+\n",
       "       Queens|\n",
       "          EWR|\n",
       "     Brooklyn|\n",
       "Staten Island|\n",
       "    Manhattan|\n",
       "        Bronx|\n",
       "+-------------+\n",
       "\n",
       "</div>"
      ]
     },
     "metadata": {
      "application/vnd.databricks.v1+output": {
       "addedWidgets": {},
       "arguments": {},
       "data": "<div class=\"ansiout\">+-------------+\n|      borough|\n+-------------+\n|       Queens|\n|          EWR|\n|     Brooklyn|\n|Staten Island|\n|    Manhattan|\n|        Bronx|\n+-------------+\n\n</div>",
       "datasetInfos": [],
       "metadata": {},
       "removedWidgets": [],
       "type": "html"
      }
     },
     "output_type": "display_data"
    }
   ],
   "source": [
    "# Filters out the distinct values of the borough column\n",
    "\n",
    "df.select(df.borough).distinct().show()"
   ]
  },
  {
   "cell_type": "code",
   "execution_count": 0,
   "metadata": {
    "application/vnd.databricks.v1+cell": {
     "inputWidgets": {},
     "nuid": "e596d9cc-df1a-4c57-b1a6-9023970cd85b",
     "showTitle": false,
     "title": ""
    }
   },
   "outputs": [
    {
     "data": {
      "text/html": [
       "<style scoped>\n",
       "  .ansiout {\n",
       "    display: block;\n",
       "    unicode-bidi: embed;\n",
       "    white-space: pre-wrap;\n",
       "    word-wrap: break-word;\n",
       "    word-break: break-all;\n",
       "    font-family: \"Source Code Pro\", \"Menlo\", monospace;;\n",
       "    font-size: 13px;\n",
       "    color: #555;\n",
       "    margin-left: 4px;\n",
       "    line-height: 19px;\n",
       "  }\n",
       "</style>\n",
       "<div class=\"ansiout\">+--------------------+\n",
       "                zone|\n",
       "+--------------------+\n",
       "      Newark Airport|\n",
       "             Bayside|\n",
       "        Bedford Park|\n",
       "          Bath Beach|\n",
       "             Astoria|\n",
       "   Battery Park City|\n",
       "             Bedford|\n",
       "        Baisley Park|\n",
       "        Astoria Park|\n",
       "         Jamaica Bay|\n",
       "             Belmont|\n",
       "       Alphabet City|\n",
       "          Auburndale|\n",
       "           Bay Ridge|\n",
       "    Bensonhurst East|\n",
       "           Bellerose|\n",
       "Arrochar/Fort Wad...|\n",
       "Bay Terrace/Fort ...|\n",
       "        Battery Park|\n",
       "Allerton/Pelham G...|\n",
       "+--------------------+\n",
       "only showing top 20 rows\n",
       "\n",
       "</div>"
      ]
     },
     "metadata": {
      "application/vnd.databricks.v1+output": {
       "addedWidgets": {},
       "arguments": {},
       "data": "<div class=\"ansiout\">+--------------------+\n|                zone|\n+--------------------+\n|      Newark Airport|\n|             Bayside|\n|        Bedford Park|\n|          Bath Beach|\n|             Astoria|\n|   Battery Park City|\n|             Bedford|\n|        Baisley Park|\n|        Astoria Park|\n|         Jamaica Bay|\n|             Belmont|\n|       Alphabet City|\n|          Auburndale|\n|           Bay Ridge|\n|    Bensonhurst East|\n|           Bellerose|\n|Arrochar/Fort Wad...|\n|Bay Terrace/Fort ...|\n|        Battery Park|\n|Allerton/Pelham G...|\n+--------------------+\nonly showing top 20 rows\n\n</div>",
       "datasetInfos": [],
       "metadata": {},
       "removedWidgets": [],
       "type": "html"
      }
     },
     "output_type": "display_data"
    }
   ],
   "source": [
    "# Filters out the distinct values of the zone column\n",
    "\n",
    "df.select(df.zone).distinct().show()"
   ]
  },
  {
   "cell_type": "code",
   "execution_count": 0,
   "metadata": {
    "application/vnd.databricks.v1+cell": {
     "inputWidgets": {},
     "nuid": "f232dc84-bb80-47b5-857b-99459cdf0239",
     "showTitle": false,
     "title": ""
    }
   },
   "outputs": [
    {
     "data": {
      "text/html": [
       "<style scoped>\n",
       "  .ansiout {\n",
       "    display: block;\n",
       "    unicode-bidi: embed;\n",
       "    white-space: pre-wrap;\n",
       "    word-wrap: break-word;\n",
       "    word-break: break-all;\n",
       "    font-family: \"Source Code Pro\", \"Menlo\", monospace;;\n",
       "    font-size: 13px;\n",
       "    color: #555;\n",
       "    margin-left: 4px;\n",
       "    line-height: 19px;\n",
       "  }\n",
       "</style>\n",
       "<div class=\"ansiout\">+--------------------+-------------+\n",
       "                zone|      borough|\n",
       "+--------------------+-------------+\n",
       "   Battery Park City|    Manhattan|\n",
       "             Bayside|       Queens|\n",
       "Arrochar/Fort Wad...|Staten Island|\n",
       "             Astoria|       Queens|\n",
       "    Bensonhurst East|     Brooklyn|\n",
       "         Jamaica Bay|       Queens|\n",
       "           Bellerose|       Queens|\n",
       "       Arden Heights|Staten Island|\n",
       "             Bedford|     Brooklyn|\n",
       "          Bath Beach|     Brooklyn|\n",
       "       Alphabet City|    Manhattan|\n",
       "           Bay Ridge|     Brooklyn|\n",
       "Allerton/Pelham G...|        Bronx|\n",
       "      Newark Airport|          EWR|\n",
       "        Baisley Park|       Queens|\n",
       "        Astoria Park|       Queens|\n",
       "Bay Terrace/Fort ...|       Queens|\n",
       "          Auburndale|       Queens|\n",
       "        Bedford Park|        Bronx|\n",
       "             Belmont|        Bronx|\n",
       "+--------------------+-------------+\n",
       "only showing top 20 rows\n",
       "\n",
       "</div>"
      ]
     },
     "metadata": {
      "application/vnd.databricks.v1+output": {
       "addedWidgets": {},
       "arguments": {},
       "data": "<div class=\"ansiout\">+--------------------+-------------+\n|                zone|      borough|\n+--------------------+-------------+\n|   Battery Park City|    Manhattan|\n|             Bayside|       Queens|\n|Arrochar/Fort Wad...|Staten Island|\n|             Astoria|       Queens|\n|    Bensonhurst East|     Brooklyn|\n|         Jamaica Bay|       Queens|\n|           Bellerose|       Queens|\n|       Arden Heights|Staten Island|\n|             Bedford|     Brooklyn|\n|          Bath Beach|     Brooklyn|\n|       Alphabet City|    Manhattan|\n|           Bay Ridge|     Brooklyn|\n|Allerton/Pelham G...|        Bronx|\n|      Newark Airport|          EWR|\n|        Baisley Park|       Queens|\n|        Astoria Park|       Queens|\n|Bay Terrace/Fort ...|       Queens|\n|          Auburndale|       Queens|\n|        Bedford Park|        Bronx|\n|             Belmont|        Bronx|\n+--------------------+-------------+\nonly showing top 20 rows\n\n</div>",
       "datasetInfos": [],
       "metadata": {},
       "removedWidgets": [],
       "type": "html"
      }
     },
     "output_type": "display_data"
    }
   ],
   "source": [
    "df.select(df['zone'],df['borough']).distinct().show()"
   ]
  },
  {
   "cell_type": "code",
   "execution_count": 0,
   "metadata": {
    "application/vnd.databricks.v1+cell": {
     "inputWidgets": {},
     "nuid": "815bc43c-5be9-4b79-a737-9b6c515795a4",
     "showTitle": false,
     "title": ""
    }
   },
   "outputs": [
    {
     "data": {
      "text/html": [
       "<style scoped>\n",
       "  .ansiout {\n",
       "    display: block;\n",
       "    unicode-bidi: embed;\n",
       "    white-space: pre-wrap;\n",
       "    word-wrap: break-word;\n",
       "    word-break: break-all;\n",
       "    font-family: \"Source Code Pro\", \"Menlo\", monospace;;\n",
       "    font-size: 13px;\n",
       "    color: #555;\n",
       "    margin-left: 4px;\n",
       "    line-height: 19px;\n",
       "  }\n",
       "</style>\n",
       "<div class=\"ansiout\">+-----------------+----------------+--------+---------------+----------------+--------------------+----------+-------+--------------+---------+----------+\n",
       "             Long|               Y|OBJECTID|     Shape_Leng|      Shape_Area|                zone|locationID|borough|Upgraded_ObjID|new_ObjID|New_Column|\n",
       "+-----------------+----------------+--------+---------------+----------------+--------------------+----------+-------+--------------+---------+----------+\n",
       "-73.8494789238597|40.8658875419774|       3|0.0843411059012|3.14414156821E-4|Allerton/Pelham G...|       3.0|  Bronx|            23|       23|          |\n",
       "-73.8869219948557|40.8687628819908|      18|0.0697995498569|1.48850163948E-4|        Bedford Park|      18.0|  Bronx|            38|       38|          |\n",
       "-73.8860348405346|40.8577731142544|      20|0.0514401924362|1.34512633032E-4|             Belmont|      20.0|  Bronx|            40|       40|          |\n",
       " -73.875722045295|  40.85992052114|      31|0.0964245666516|3.33975927329E-4|          Bronx Park|      31.0|  Bronx|            51|       51|          |\n",
       "-73.8646241408313|40.8644517064252|      32|  0.05426721601|1.50879171971E-4|           Bronxdale|      32.0|  Bronx|            52|       52|          |\n",
       "-73.7864863118305|40.8474998984855|      46| 0.134475429879|9.26391677672E-4|         City Island|      46.0|  Bronx|            66|       66|          |\n",
       "-73.8969291492323|40.8457549453718|      47|0.0898275563294|1.63198117339E-4|  Claremont/Bathgate|      47.0|  Bronx|            67|       67|          |\n",
       "-73.8304236318969| 40.874061550909|      51|0.0953613442277|3.95756553505E-4|          Co-Op City|      51.0|  Bronx|            71|       71|          |\n",
       "-73.8207053822972|40.8414754987567|      58|0.0598554094851|2.04980931361E-4|        Country Club|      58.0|  Bronx|            78|       78|          |\n",
       "-73.8930744338338|40.8388599905968|      59|0.0377948070893|6.28765230648E-5|        Crotona Park|      59.0|  Bronx|            79|       79|          |\n",
       "-73.8897822026553|40.8312941187883|      60|0.0786482878226|1.61833284912E-4|   Crotona Park East|      60.0|  Bronx|            80|       80|          |\n",
       "-73.9153662202336|40.8306076776139|      69|0.0789896450483| 1.9905160381E-4|East Concourse/Co...|      69.0|  Bronx|            89|       89|          |\n",
       "-73.8866455940689|40.8460302771125|      78|0.0935944495806|1.91114419551E-4|        East Tremont|      78.0|  Bronx|            98|       98|          |\n",
       "-73.8455325663154|40.8773588281637|      81| 0.197592771731| 3.9956655019E-4|         Eastchester|      81.0|  Bronx|           101|      101|          |\n",
       " -73.900591010865|40.8582607643596|      94|0.0498326083147|6.25819407393E-5|       Fordham South|      94.0|  Bronx|           114|      114|          |\n",
       "-73.9269662109924|40.8367300313346|     119|0.0835070355744|1.85779447534E-4|          Highbridge|     119.0|  Bronx|           139|      139|          |\n",
       "-73.8849772729363| 40.813918192187|     126|  0.12994872606|  7.032738273E-4|         Hunts Point|     126.0|  Bronx|           146|      146|          |\n",
       "-73.9057199662352|40.8648027310875|     136|0.0906287154122|1.48524994129E-4| Kingsbridge Heights|     136.0|  Bronx|           156|      156|          |\n",
       "-73.8981929347315|40.8191985303455|     147|0.0587654949268|1.06418172757E-4|            Longwood|     147.0|  Bronx|           167|      167|          |\n",
       "-73.9135829897644|40.8182594605072|     159| 0.064363233206| 1.7124910387E-4|       Melrose South|     159.0|  Bronx|           179|      179|          |\n",
       "+-----------------+----------------+--------+---------------+----------------+--------------------+----------+-------+--------------+---------+----------+\n",
       "only showing top 20 rows\n",
       "\n",
       "</div>"
      ]
     },
     "metadata": {
      "application/vnd.databricks.v1+output": {
       "addedWidgets": {},
       "arguments": {},
       "data": "<div class=\"ansiout\">+-----------------+----------------+--------+---------------+----------------+--------------------+----------+-------+--------------+---------+----------+\n|             Long|               Y|OBJECTID|     Shape_Leng|      Shape_Area|                zone|locationID|borough|Upgraded_ObjID|new_ObjID|New_Column|\n+-----------------+----------------+--------+---------------+----------------+--------------------+----------+-------+--------------+---------+----------+\n|-73.8494789238597|40.8658875419774|       3|0.0843411059012|3.14414156821E-4|Allerton/Pelham G...|       3.0|  Bronx|            23|       23|          |\n|-73.8869219948557|40.8687628819908|      18|0.0697995498569|1.48850163948E-4|        Bedford Park|      18.0|  Bronx|            38|       38|          |\n|-73.8860348405346|40.8577731142544|      20|0.0514401924362|1.34512633032E-4|             Belmont|      20.0|  Bronx|            40|       40|          |\n| -73.875722045295|  40.85992052114|      31|0.0964245666516|3.33975927329E-4|          Bronx Park|      31.0|  Bronx|            51|       51|          |\n|-73.8646241408313|40.8644517064252|      32|  0.05426721601|1.50879171971E-4|           Bronxdale|      32.0|  Bronx|            52|       52|          |\n|-73.7864863118305|40.8474998984855|      46| 0.134475429879|9.26391677672E-4|         City Island|      46.0|  Bronx|            66|       66|          |\n|-73.8969291492323|40.8457549453718|      47|0.0898275563294|1.63198117339E-4|  Claremont/Bathgate|      47.0|  Bronx|            67|       67|          |\n|-73.8304236318969| 40.874061550909|      51|0.0953613442277|3.95756553505E-4|          Co-Op City|      51.0|  Bronx|            71|       71|          |\n|-73.8207053822972|40.8414754987567|      58|0.0598554094851|2.04980931361E-4|        Country Club|      58.0|  Bronx|            78|       78|          |\n|-73.8930744338338|40.8388599905968|      59|0.0377948070893|6.28765230648E-5|        Crotona Park|      59.0|  Bronx|            79|       79|          |\n|-73.8897822026553|40.8312941187883|      60|0.0786482878226|1.61833284912E-4|   Crotona Park East|      60.0|  Bronx|            80|       80|          |\n|-73.9153662202336|40.8306076776139|      69|0.0789896450483| 1.9905160381E-4|East Concourse/Co...|      69.0|  Bronx|            89|       89|          |\n|-73.8866455940689|40.8460302771125|      78|0.0935944495806|1.91114419551E-4|        East Tremont|      78.0|  Bronx|            98|       98|          |\n|-73.8455325663154|40.8773588281637|      81| 0.197592771731| 3.9956655019E-4|         Eastchester|      81.0|  Bronx|           101|      101|          |\n| -73.900591010865|40.8582607643596|      94|0.0498326083147|6.25819407393E-5|       Fordham South|      94.0|  Bronx|           114|      114|          |\n|-73.9269662109924|40.8367300313346|     119|0.0835070355744|1.85779447534E-4|          Highbridge|     119.0|  Bronx|           139|      139|          |\n|-73.8849772729363| 40.813918192187|     126|  0.12994872606|  7.032738273E-4|         Hunts Point|     126.0|  Bronx|           146|      146|          |\n|-73.9057199662352|40.8648027310875|     136|0.0906287154122|1.48524994129E-4| Kingsbridge Heights|     136.0|  Bronx|           156|      156|          |\n|-73.8981929347315|40.8191985303455|     147|0.0587654949268|1.06418172757E-4|            Longwood|     147.0|  Bronx|           167|      167|          |\n|-73.9135829897644|40.8182594605072|     159| 0.064363233206| 1.7124910387E-4|       Melrose South|     159.0|  Bronx|           179|      179|          |\n+-----------------+----------------+--------+---------------+----------------+--------------------+----------+-------+--------------+---------+----------+\nonly showing top 20 rows\n\n</div>",
       "datasetInfos": [],
       "metadata": {},
       "removedWidgets": [],
       "type": "html"
      }
     },
     "output_type": "display_data"
    }
   ],
   "source": [
    "# Shows unique values of zone and borough \n",
    "\n",
    "df.dropDuplicates([\"borough\",\"zone\"]).show()"
   ]
  },
  {
   "cell_type": "markdown",
   "metadata": {
    "application/vnd.databricks.v1+cell": {
     "inputWidgets": {},
     "nuid": "1320fad5-9a5a-4aa7-9859-d6916b0637c9",
     "showTitle": false,
     "title": ""
    }
   },
   "source": [
    "# sort and orderBy"
   ]
  },
  {
   "cell_type": "code",
   "execution_count": 0,
   "metadata": {
    "application/vnd.databricks.v1+cell": {
     "inputWidgets": {},
     "nuid": "06039ba8-839a-4e55-a808-470442283972",
     "showTitle": false,
     "title": ""
    }
   },
   "outputs": [
    {
     "data": {
      "text/html": [
       "<style scoped>\n",
       "  .ansiout {\n",
       "    display: block;\n",
       "    unicode-bidi: embed;\n",
       "    white-space: pre-wrap;\n",
       "    word-wrap: break-word;\n",
       "    word-break: break-all;\n",
       "    font-family: \"Source Code Pro\", \"Menlo\", monospace;;\n",
       "    font-size: 13px;\n",
       "    color: #555;\n",
       "    margin-left: 4px;\n",
       "    line-height: 19px;\n",
       "  }\n",
       "</style>\n",
       "<div class=\"ansiout\">+-----------------+----------------+--------+---------------+----------------+--------------------+----------+-------------+--------------+---------+----------+\n",
       "             Long|               Y|OBJECTID|     Shape_Leng|      Shape_Area|                zone|locationID|      borough|Upgraded_ObjID|new_ObjID|New_Column|\n",
       "+-----------------+----------------+--------+---------------+----------------+--------------------+----------+-------------+--------------+---------+----------+\n",
       "-74.1767857452143|40.6895156480431|       1| 0.116357453189|  7.823067885E-4|      Newark Airport|       1.0|          EWR|            21|       21|          |\n",
       "-73.8261257703202|40.6257242377511|       2|  0.43346966679|0.00486634037837|         Jamaica Bay|       2.0|       Queens|            22|       22|          |\n",
       "-73.8494789238597|40.8658875419774|       3|0.0843411059012|3.14414156821E-4|Allerton/Pelham G...|       3.0|        Bronx|            23|       23|          |\n",
       "-73.9770229219339|40.7241521436714|       4|0.0435665270921|1.11871946192E-4|       Alphabet City|       4.0|    Manhattan|            24|       24|          |\n",
       "-74.1899296712375| 40.550340123832|       5|0.0921464898574|4.97957489363E-4|       Arden Heights|       5.0|Staten Island|            25|       25|          |\n",
       "-74.0677744607421|40.5990621740821|       6| 0.150490542523|6.06460984581E-4|Arrochar/Fort Wad...|       6.0|Staten Island|            26|       26|          |\n",
       "-73.9214905669465| 40.761084729151|       7| 0.107417171123|3.89787989274E-4|             Astoria|       7.0|       Queens|            27|       27|          |\n",
       "-73.9232024092836|40.7786069617704|       8|0.0275906911574| 2.6587716279E-5|        Astoria Park|       8.0|       Queens|            28|       28|          |\n",
       "-73.7880202487407|40.7544109271114|       9|0.0997840924705|3.38443803197E-4|          Auburndale|       9.0|       Queens|            29|       29|          |\n",
       "-73.7916654578906|40.6781247031195|      10|0.0998394794152|4.35823818081E-4|        Baisley Park|      10.0|       Queens|            30|       30|          |\n",
       "-74.0106156305362|40.6039777088098|      11|0.0792110389596| 2.6452053504E-4|          Bath Beach|      11.0|     Brooklyn|            31|       31|          |\n",
       "-74.0154903292143|40.7024884135418|      12|0.0366613013579|4.15116236727E-5|        Battery Park|      12.0|    Manhattan|            32|       32|          |\n",
       "-74.0161196692833|40.7116120831165|      13|0.0502813228631|1.49358592917E-4|   Battery Park City|      13.0|    Manhattan|            33|       33|          |\n",
       "-74.0304470508297|40.6235842793089|      14| 0.175213698053|0.00138177826442|           Bay Ridge|      14.0|     Brooklyn|            34|       34|          |\n",
       "-73.7879710847436|40.7852195006457|      15|  0.14433622262|9.25219395547E-4|Bay Terrace/Fort ...|      15.0|       Queens|            35|       35|          |\n",
       "-73.7716678221165|40.7612088345005|      16| 0.141291873771|8.71889446182E-4|             Bayside|      16.0|       Queens|            36|       36|          |\n",
       "-73.9491813010382|40.6919940962748|      17| 0.093522632948|3.22957654799E-4|             Bedford|      17.0|     Brooklyn|            37|       37|          |\n",
       "-73.8869219948557|40.8687628819908|      18|0.0697995498569|1.48850163948E-4|        Bedford Park|      18.0|        Bronx|            38|       38|          |\n",
       "-73.7278693961567|40.7364724391387|      19| 0.101824875452|5.46661094782E-4|           Bellerose|      19.0|       Queens|            39|       39|          |\n",
       "-73.8860348405346|40.8577731142544|      20|0.0514401924362|1.34512633032E-4|             Belmont|      20.0|        Bronx|            40|       40|          |\n",
       "+-----------------+----------------+--------+---------------+----------------+--------------------+----------+-------------+--------------+---------+----------+\n",
       "only showing top 20 rows\n",
       "\n",
       "</div>"
      ]
     },
     "metadata": {
      "application/vnd.databricks.v1+output": {
       "addedWidgets": {},
       "arguments": {},
       "data": "<div class=\"ansiout\">+-----------------+----------------+--------+---------------+----------------+--------------------+----------+-------------+--------------+---------+----------+\n|             Long|               Y|OBJECTID|     Shape_Leng|      Shape_Area|                zone|locationID|      borough|Upgraded_ObjID|new_ObjID|New_Column|\n+-----------------+----------------+--------+---------------+----------------+--------------------+----------+-------------+--------------+---------+----------+\n|-74.1767857452143|40.6895156480431|       1| 0.116357453189|  7.823067885E-4|      Newark Airport|       1.0|          EWR|            21|       21|          |\n|-73.8261257703202|40.6257242377511|       2|  0.43346966679|0.00486634037837|         Jamaica Bay|       2.0|       Queens|            22|       22|          |\n|-73.8494789238597|40.8658875419774|       3|0.0843411059012|3.14414156821E-4|Allerton/Pelham G...|       3.0|        Bronx|            23|       23|          |\n|-73.9770229219339|40.7241521436714|       4|0.0435665270921|1.11871946192E-4|       Alphabet City|       4.0|    Manhattan|            24|       24|          |\n|-74.1899296712375| 40.550340123832|       5|0.0921464898574|4.97957489363E-4|       Arden Heights|       5.0|Staten Island|            25|       25|          |\n|-74.0677744607421|40.5990621740821|       6| 0.150490542523|6.06460984581E-4|Arrochar/Fort Wad...|       6.0|Staten Island|            26|       26|          |\n|-73.9214905669465| 40.761084729151|       7| 0.107417171123|3.89787989274E-4|             Astoria|       7.0|       Queens|            27|       27|          |\n|-73.9232024092836|40.7786069617704|       8|0.0275906911574| 2.6587716279E-5|        Astoria Park|       8.0|       Queens|            28|       28|          |\n|-73.7880202487407|40.7544109271114|       9|0.0997840924705|3.38443803197E-4|          Auburndale|       9.0|       Queens|            29|       29|          |\n|-73.7916654578906|40.6781247031195|      10|0.0998394794152|4.35823818081E-4|        Baisley Park|      10.0|       Queens|            30|       30|          |\n|-74.0106156305362|40.6039777088098|      11|0.0792110389596| 2.6452053504E-4|          Bath Beach|      11.0|     Brooklyn|            31|       31|          |\n|-74.0154903292143|40.7024884135418|      12|0.0366613013579|4.15116236727E-5|        Battery Park|      12.0|    Manhattan|            32|       32|          |\n|-74.0161196692833|40.7116120831165|      13|0.0502813228631|1.49358592917E-4|   Battery Park City|      13.0|    Manhattan|            33|       33|          |\n|-74.0304470508297|40.6235842793089|      14| 0.175213698053|0.00138177826442|           Bay Ridge|      14.0|     Brooklyn|            34|       34|          |\n|-73.7879710847436|40.7852195006457|      15|  0.14433622262|9.25219395547E-4|Bay Terrace/Fort ...|      15.0|       Queens|            35|       35|          |\n|-73.7716678221165|40.7612088345005|      16| 0.141291873771|8.71889446182E-4|             Bayside|      16.0|       Queens|            36|       36|          |\n|-73.9491813010382|40.6919940962748|      17| 0.093522632948|3.22957654799E-4|             Bedford|      17.0|     Brooklyn|            37|       37|          |\n|-73.8869219948557|40.8687628819908|      18|0.0697995498569|1.48850163948E-4|        Bedford Park|      18.0|        Bronx|            38|       38|          |\n|-73.7278693961567|40.7364724391387|      19| 0.101824875452|5.46661094782E-4|           Bellerose|      19.0|       Queens|            39|       39|          |\n|-73.8860348405346|40.8577731142544|      20|0.0514401924362|1.34512633032E-4|             Belmont|      20.0|        Bronx|            40|       40|          |\n+-----------------+----------------+--------+---------------+----------------+--------------------+----------+-------------+--------------+---------+----------+\nonly showing top 20 rows\n\n</div>",
       "datasetInfos": [],
       "metadata": {},
       "removedWidgets": [],
       "type": "html"
      }
     },
     "output_type": "display_data"
    }
   ],
   "source": [
    "# Using \"sort\" to sort the dataframe based on LocationID\n",
    "\n",
    "df.sort('LOCATIONID').show()"
   ]
  },
  {
   "cell_type": "code",
   "execution_count": 0,
   "metadata": {
    "application/vnd.databricks.v1+cell": {
     "inputWidgets": {},
     "nuid": "4baec546-0675-4366-83fd-eb792cb2d2dc",
     "showTitle": false,
     "title": ""
    }
   },
   "outputs": [
    {
     "data": {
      "text/html": [
       "<style scoped>\n",
       "  .ansiout {\n",
       "    display: block;\n",
       "    unicode-bidi: embed;\n",
       "    white-space: pre-wrap;\n",
       "    word-wrap: break-word;\n",
       "    word-break: break-all;\n",
       "    font-family: \"Source Code Pro\", \"Menlo\", monospace;;\n",
       "    font-size: 13px;\n",
       "    color: #555;\n",
       "    margin-left: 4px;\n",
       "    line-height: 19px;\n",
       "  }\n",
       "</style>\n",
       "<div class=\"ansiout\">+-----------------+----------------+--------+---------------+----------------+--------------------+----------+-------------+--------------+---------+----------+\n",
       "             Long|               Y|OBJECTID|     Shape_Leng|      Shape_Area|                zone|locationID|      borough|Upgraded_ObjID|new_ObjID|New_Column|\n",
       "+-----------------+----------------+--------+---------------+----------------+--------------------+----------+-------------+--------------+---------+----------+\n",
       "-74.1767857452143|40.6895156480431|       1| 0.116357453189|  7.823067885E-4|      Newark Airport|       1.0|          EWR|            21|       21|          |\n",
       "-73.8261257703202|40.6257242377511|       2|  0.43346966679|0.00486634037837|         Jamaica Bay|       2.0|       Queens|            22|       22|          |\n",
       "-73.8494789238597|40.8658875419774|       3|0.0843411059012|3.14414156821E-4|Allerton/Pelham G...|       3.0|        Bronx|            23|       23|          |\n",
       "-73.9770229219339|40.7241521436714|       4|0.0435665270921|1.11871946192E-4|       Alphabet City|       4.0|    Manhattan|            24|       24|          |\n",
       "-74.1899296712375| 40.550340123832|       5|0.0921464898574|4.97957489363E-4|       Arden Heights|       5.0|Staten Island|            25|       25|          |\n",
       "-74.0677744607421|40.5990621740821|       6| 0.150490542523|6.06460984581E-4|Arrochar/Fort Wad...|       6.0|Staten Island|            26|       26|          |\n",
       "-73.9214905669465| 40.761084729151|       7| 0.107417171123|3.89787989274E-4|             Astoria|       7.0|       Queens|            27|       27|          |\n",
       "-73.9232024092836|40.7786069617704|       8|0.0275906911574| 2.6587716279E-5|        Astoria Park|       8.0|       Queens|            28|       28|          |\n",
       "-73.7880202487407|40.7544109271114|       9|0.0997840924705|3.38443803197E-4|          Auburndale|       9.0|       Queens|            29|       29|          |\n",
       "-73.7916654578906|40.6781247031195|      10|0.0998394794152|4.35823818081E-4|        Baisley Park|      10.0|       Queens|            30|       30|          |\n",
       "-74.0106156305362|40.6039777088098|      11|0.0792110389596| 2.6452053504E-4|          Bath Beach|      11.0|     Brooklyn|            31|       31|          |\n",
       "-74.0154903292143|40.7024884135418|      12|0.0366613013579|4.15116236727E-5|        Battery Park|      12.0|    Manhattan|            32|       32|          |\n",
       "-74.0161196692833|40.7116120831165|      13|0.0502813228631|1.49358592917E-4|   Battery Park City|      13.0|    Manhattan|            33|       33|          |\n",
       "-74.0304470508297|40.6235842793089|      14| 0.175213698053|0.00138177826442|           Bay Ridge|      14.0|     Brooklyn|            34|       34|          |\n",
       "-73.7879710847436|40.7852195006457|      15|  0.14433622262|9.25219395547E-4|Bay Terrace/Fort ...|      15.0|       Queens|            35|       35|          |\n",
       "-73.7716678221165|40.7612088345005|      16| 0.141291873771|8.71889446182E-4|             Bayside|      16.0|       Queens|            36|       36|          |\n",
       "-73.9491813010382|40.6919940962748|      17| 0.093522632948|3.22957654799E-4|             Bedford|      17.0|     Brooklyn|            37|       37|          |\n",
       "-73.8869219948557|40.8687628819908|      18|0.0697995498569|1.48850163948E-4|        Bedford Park|      18.0|        Bronx|            38|       38|          |\n",
       "-73.7278693961567|40.7364724391387|      19| 0.101824875452|5.46661094782E-4|           Bellerose|      19.0|       Queens|            39|       39|          |\n",
       "-73.8860348405346|40.8577731142544|      20|0.0514401924362|1.34512633032E-4|             Belmont|      20.0|        Bronx|            40|       40|          |\n",
       "+-----------------+----------------+--------+---------------+----------------+--------------------+----------+-------------+--------------+---------+----------+\n",
       "only showing top 20 rows\n",
       "\n",
       "</div>"
      ]
     },
     "metadata": {
      "application/vnd.databricks.v1+output": {
       "addedWidgets": {},
       "arguments": {},
       "data": "<div class=\"ansiout\">+-----------------+----------------+--------+---------------+----------------+--------------------+----------+-------------+--------------+---------+----------+\n|             Long|               Y|OBJECTID|     Shape_Leng|      Shape_Area|                zone|locationID|      borough|Upgraded_ObjID|new_ObjID|New_Column|\n+-----------------+----------------+--------+---------------+----------------+--------------------+----------+-------------+--------------+---------+----------+\n|-74.1767857452143|40.6895156480431|       1| 0.116357453189|  7.823067885E-4|      Newark Airport|       1.0|          EWR|            21|       21|          |\n|-73.8261257703202|40.6257242377511|       2|  0.43346966679|0.00486634037837|         Jamaica Bay|       2.0|       Queens|            22|       22|          |\n|-73.8494789238597|40.8658875419774|       3|0.0843411059012|3.14414156821E-4|Allerton/Pelham G...|       3.0|        Bronx|            23|       23|          |\n|-73.9770229219339|40.7241521436714|       4|0.0435665270921|1.11871946192E-4|       Alphabet City|       4.0|    Manhattan|            24|       24|          |\n|-74.1899296712375| 40.550340123832|       5|0.0921464898574|4.97957489363E-4|       Arden Heights|       5.0|Staten Island|            25|       25|          |\n|-74.0677744607421|40.5990621740821|       6| 0.150490542523|6.06460984581E-4|Arrochar/Fort Wad...|       6.0|Staten Island|            26|       26|          |\n|-73.9214905669465| 40.761084729151|       7| 0.107417171123|3.89787989274E-4|             Astoria|       7.0|       Queens|            27|       27|          |\n|-73.9232024092836|40.7786069617704|       8|0.0275906911574| 2.6587716279E-5|        Astoria Park|       8.0|       Queens|            28|       28|          |\n|-73.7880202487407|40.7544109271114|       9|0.0997840924705|3.38443803197E-4|          Auburndale|       9.0|       Queens|            29|       29|          |\n|-73.7916654578906|40.6781247031195|      10|0.0998394794152|4.35823818081E-4|        Baisley Park|      10.0|       Queens|            30|       30|          |\n|-74.0106156305362|40.6039777088098|      11|0.0792110389596| 2.6452053504E-4|          Bath Beach|      11.0|     Brooklyn|            31|       31|          |\n|-74.0154903292143|40.7024884135418|      12|0.0366613013579|4.15116236727E-5|        Battery Park|      12.0|    Manhattan|            32|       32|          |\n|-74.0161196692833|40.7116120831165|      13|0.0502813228631|1.49358592917E-4|   Battery Park City|      13.0|    Manhattan|            33|       33|          |\n|-74.0304470508297|40.6235842793089|      14| 0.175213698053|0.00138177826442|           Bay Ridge|      14.0|     Brooklyn|            34|       34|          |\n|-73.7879710847436|40.7852195006457|      15|  0.14433622262|9.25219395547E-4|Bay Terrace/Fort ...|      15.0|       Queens|            35|       35|          |\n|-73.7716678221165|40.7612088345005|      16| 0.141291873771|8.71889446182E-4|             Bayside|      16.0|       Queens|            36|       36|          |\n|-73.9491813010382|40.6919940962748|      17| 0.093522632948|3.22957654799E-4|             Bedford|      17.0|     Brooklyn|            37|       37|          |\n|-73.8869219948557|40.8687628819908|      18|0.0697995498569|1.48850163948E-4|        Bedford Park|      18.0|        Bronx|            38|       38|          |\n|-73.7278693961567|40.7364724391387|      19| 0.101824875452|5.46661094782E-4|           Bellerose|      19.0|       Queens|            39|       39|          |\n|-73.8860348405346|40.8577731142544|      20|0.0514401924362|1.34512633032E-4|             Belmont|      20.0|        Bronx|            40|       40|          |\n+-----------------+----------------+--------+---------------+----------------+--------------------+----------+-------------+--------------+---------+----------+\nonly showing top 20 rows\n\n</div>",
       "datasetInfos": [],
       "metadata": {},
       "removedWidgets": [],
       "type": "html"
      }
     },
     "output_type": "display_data"
    }
   ],
   "source": [
    "# Using \"orderBy\" to sort the data\n",
    "\n",
    "df.orderBy('LOCATIONID').show()"
   ]
  },
  {
   "cell_type": "code",
   "execution_count": 0,
   "metadata": {
    "application/vnd.databricks.v1+cell": {
     "inputWidgets": {},
     "nuid": "8c437ac6-e30d-4e7a-91fe-c73568654949",
     "showTitle": false,
     "title": ""
    }
   },
   "outputs": [
    {
     "data": {
      "text/html": [
       "<style scoped>\n",
       "  .ansiout {\n",
       "    display: block;\n",
       "    unicode-bidi: embed;\n",
       "    white-space: pre-wrap;\n",
       "    word-wrap: break-word;\n",
       "    word-break: break-all;\n",
       "    font-family: \"Source Code Pro\", \"Menlo\", monospace;;\n",
       "    font-size: 13px;\n",
       "    color: #555;\n",
       "    margin-left: 4px;\n",
       "    line-height: 19px;\n",
       "  }\n",
       "</style>\n",
       "<div class=\"ansiout\">+-----------------+----------------+--------+---------------+----------------+--------------------+----------+-------------+--------------+---------+----------+\n",
       "             Long|               Y|OBJECTID|     Shape_Leng|      Shape_Area|                zone|locationID|      borough|Upgraded_ObjID|new_ObjID|New_Column|\n",
       "+-----------------+----------------+--------+---------------+----------------+--------------------+----------+-------------+--------------+---------+----------+\n",
       "-73.9512079916544|40.7784958687768|     263|0.0370166252994|6.57697664169E-5|      Yorkville West|     263.0|    Manhattan|           283|      283|          |\n",
       "-73.9458298180079|40.7765342289951|     262|0.0490636231541|1.22330270966E-4|      Yorkville East|     262.0|    Manhattan|           282|      282|          |\n",
       "-74.0129193755126| 40.708975618892|     261|0.0271204563616|3.43423231652E-5|  World Trade Center|     261.0|    Manhattan|           281|      281|          |\n",
       "-73.9037132789432|40.7467977944692|     260| 0.133514154636|4.22345326907E-4|            Woodside|     260.0|       Queens|           280|      280|          |\n",
       "-73.8563511172889|40.8991027731978|     259| 0.126750305191|3.94552487366E-4|  Woodlawn/Wakefield|     259.0|        Bronx|           279|      279|          |\n",
       "-73.8566390530717|40.6901263678129|     258|0.0890133787693|3.66209617143E-4|           Woodhaven|     258.0|       Queens|           278|      278|          |\n",
       "-73.9772393111852|40.6536644952118|     257|0.0586690259793| 1.3890947321E-4|     Windsor Terrace|     257.0|     Brooklyn|           277|      277|          |\n",
       "-73.9591078838642|40.7109771296904|     256|0.0679149669603|1.68611097013E-4|Williamsburg (Sou...|     256.0|     Brooklyn|           276|      276|          |\n",
       "-73.9571337756889|40.7188341922346|     255|0.0623841997664|1.72309184842E-4|Williamsburg (Nor...|     255.0|     Brooklyn|           275|      275|          |\n",
       "-73.8582696518177|40.8832233292992|     254|0.0858863754861|3.60040216032E-4|Williamsbridge/Ol...|     254.0|        Bronx|           274|      274|          |\n",
       "-73.8414745485909|40.7600863368444|     253|0.0360514998192|7.83395761191E-5|       Willets Point|     253.0|       Queens|           273|      273|          |\n",
       "-73.8153942986072| 40.788360648021|     252| 0.158004373564|0.00102526406057|          Whitestone|     252.0|       Queens|           272|      272|          |\n",
       "-74.1232368409925|40.6196055161537|     251|   0.1377111611|6.25754983157E-4|         Westerleigh|     251.0|Staten Island|           271|      271|          |\n",
       "-73.8494786753898|40.8324906886295|     250|0.0796263465454|2.40975845956E-4|Westchester Villa...|     250.0|        Bronx|           270|      270|          |\n",
       "-74.0024969086272|40.7346115559814|     249|  0.03638434365|7.22155957729E-5|        West Village|     249.0|    Manhattan|           269|      269|          |\n",
       "-73.8710104534108|40.8346771999308|     248|0.0569191167671|1.49592769799E-4|West Farms/Bronx ...|     248.0|        Bronx|           268|      268|          |\n",
       "-73.9250591826957|40.8292114745072|     247|0.0929678582271|2.05617157843E-4|      West Concourse|     247.0|        Bronx|           267|      267|          |\n",
       " -74.004512572075|40.7524372519647|     246|0.0694671937437|2.81298327076E-4|West Chelsea/Huds...|     246.0|    Manhattan|           266|      266|          |\n",
       "-74.1031706067521| 40.628478475102|     245|0.0959830596604|4.66175414294E-4|       West Brighton|     245.0|Staten Island|           265|      265|          |\n",
       "-73.9416668140575|40.8412186698664|     244|0.0805686044599|3.59702747951E-4|Washington Height...|     244.0|    Manhattan|           264|      264|          |\n",
       "+-----------------+----------------+--------+---------------+----------------+--------------------+----------+-------------+--------------+---------+----------+\n",
       "only showing top 20 rows\n",
       "\n",
       "</div>"
      ]
     },
     "metadata": {
      "application/vnd.databricks.v1+output": {
       "addedWidgets": {},
       "arguments": {},
       "data": "<div class=\"ansiout\">+-----------------+----------------+--------+---------------+----------------+--------------------+----------+-------------+--------------+---------+----------+\n|             Long|               Y|OBJECTID|     Shape_Leng|      Shape_Area|                zone|locationID|      borough|Upgraded_ObjID|new_ObjID|New_Column|\n+-----------------+----------------+--------+---------------+----------------+--------------------+----------+-------------+--------------+---------+----------+\n|-73.9512079916544|40.7784958687768|     263|0.0370166252994|6.57697664169E-5|      Yorkville West|     263.0|    Manhattan|           283|      283|          |\n|-73.9458298180079|40.7765342289951|     262|0.0490636231541|1.22330270966E-4|      Yorkville East|     262.0|    Manhattan|           282|      282|          |\n|-74.0129193755126| 40.708975618892|     261|0.0271204563616|3.43423231652E-5|  World Trade Center|     261.0|    Manhattan|           281|      281|          |\n|-73.9037132789432|40.7467977944692|     260| 0.133514154636|4.22345326907E-4|            Woodside|     260.0|       Queens|           280|      280|          |\n|-73.8563511172889|40.8991027731978|     259| 0.126750305191|3.94552487366E-4|  Woodlawn/Wakefield|     259.0|        Bronx|           279|      279|          |\n|-73.8566390530717|40.6901263678129|     258|0.0890133787693|3.66209617143E-4|           Woodhaven|     258.0|       Queens|           278|      278|          |\n|-73.9772393111852|40.6536644952118|     257|0.0586690259793| 1.3890947321E-4|     Windsor Terrace|     257.0|     Brooklyn|           277|      277|          |\n|-73.9591078838642|40.7109771296904|     256|0.0679149669603|1.68611097013E-4|Williamsburg (Sou...|     256.0|     Brooklyn|           276|      276|          |\n|-73.9571337756889|40.7188341922346|     255|0.0623841997664|1.72309184842E-4|Williamsburg (Nor...|     255.0|     Brooklyn|           275|      275|          |\n|-73.8582696518177|40.8832233292992|     254|0.0858863754861|3.60040216032E-4|Williamsbridge/Ol...|     254.0|        Bronx|           274|      274|          |\n|-73.8414745485909|40.7600863368444|     253|0.0360514998192|7.83395761191E-5|       Willets Point|     253.0|       Queens|           273|      273|          |\n|-73.8153942986072| 40.788360648021|     252| 0.158004373564|0.00102526406057|          Whitestone|     252.0|       Queens|           272|      272|          |\n|-74.1232368409925|40.6196055161537|     251|   0.1377111611|6.25754983157E-4|         Westerleigh|     251.0|Staten Island|           271|      271|          |\n|-73.8494786753898|40.8324906886295|     250|0.0796263465454|2.40975845956E-4|Westchester Villa...|     250.0|        Bronx|           270|      270|          |\n|-74.0024969086272|40.7346115559814|     249|  0.03638434365|7.22155957729E-5|        West Village|     249.0|    Manhattan|           269|      269|          |\n|-73.8710104534108|40.8346771999308|     248|0.0569191167671|1.49592769799E-4|West Farms/Bronx ...|     248.0|        Bronx|           268|      268|          |\n|-73.9250591826957|40.8292114745072|     247|0.0929678582271|2.05617157843E-4|      West Concourse|     247.0|        Bronx|           267|      267|          |\n| -74.004512572075|40.7524372519647|     246|0.0694671937437|2.81298327076E-4|West Chelsea/Huds...|     246.0|    Manhattan|           266|      266|          |\n|-74.1031706067521| 40.628478475102|     245|0.0959830596604|4.66175414294E-4|       West Brighton|     245.0|Staten Island|           265|      265|          |\n|-73.9416668140575|40.8412186698664|     244|0.0805686044599|3.59702747951E-4|Washington Height...|     244.0|    Manhattan|           264|      264|          |\n+-----------------+----------------+--------+---------------+----------------+--------------------+----------+-------------+--------------+---------+----------+\nonly showing top 20 rows\n\n</div>",
       "datasetInfos": [],
       "metadata": {},
       "removedWidgets": [],
       "type": "html"
      }
     },
     "output_type": "display_data"
    }
   ],
   "source": [
    "# Sorting based on ascending and descending order\n",
    "\n",
    "df.sort(df.locationID.desc()).show()"
   ]
  },
  {
   "cell_type": "markdown",
   "metadata": {
    "application/vnd.databricks.v1+cell": {
     "inputWidgets": {},
     "nuid": "e2595a56-705a-4350-ae16-582b954391e2",
     "showTitle": false,
     "title": ""
    }
   },
   "source": [
    "# groupBy"
   ]
  },
  {
   "cell_type": "code",
   "execution_count": 0,
   "metadata": {
    "application/vnd.databricks.v1+cell": {
     "inputWidgets": {},
     "nuid": "a24a5e5e-a584-4d89-9873-8c6a4d4c9d6c",
     "showTitle": false,
     "title": ""
    }
   },
   "outputs": [
    {
     "data": {
      "text/html": [
       "<style scoped>\n",
       "  .ansiout {\n",
       "    display: block;\n",
       "    unicode-bidi: embed;\n",
       "    white-space: pre-wrap;\n",
       "    word-wrap: break-word;\n",
       "    word-break: break-all;\n",
       "    font-family: \"Source Code Pro\", \"Menlo\", monospace;;\n",
       "    font-size: 13px;\n",
       "    color: #555;\n",
       "    margin-left: 4px;\n",
       "    line-height: 19px;\n",
       "  }\n",
       "</style>\n",
       "<div class=\"ansiout\">+--------------------+-----+\n",
       "                zone|count|\n",
       "+--------------------+-----+\n",
       "Governor&#39;s Island...|    3|\n",
       "           Homecrest|    1|\n",
       "              Corona|    2|\n",
       "    Bensonhurst West|    1|\n",
       "         Westerleigh|    1|\n",
       "      Newark Airport|    1|\n",
       "Charleston/Totten...|    1|\n",
       "          Douglaston|    1|\n",
       "East Concourse/Co...|    1|\n",
       "          Mount Hope|    1|\n",
       "      Pelham Parkway|    1|\n",
       "         Marble Hill|    1|\n",
       "           Rego Park|    1|\n",
       "       Dyker Heights|    1|\n",
       "Heartland Village...|    1|\n",
       "Upper East Side S...|    1|\n",
       "   Kew Gardens Hills|    1|\n",
       "       Rikers Island|    1|\n",
       "             Bayside|    1|\n",
       "     Jackson Heights|    1|\n",
       "+--------------------+-----+\n",
       "only showing top 20 rows\n",
       "\n",
       "</div>"
      ]
     },
     "metadata": {
      "application/vnd.databricks.v1+output": {
       "addedWidgets": {},
       "arguments": {},
       "data": "<div class=\"ansiout\">+--------------------+-----+\n|                zone|count|\n+--------------------+-----+\n|Governor&#39;s Island...|    3|\n|           Homecrest|    1|\n|              Corona|    2|\n|    Bensonhurst West|    1|\n|         Westerleigh|    1|\n|      Newark Airport|    1|\n|Charleston/Totten...|    1|\n|          Douglaston|    1|\n|East Concourse/Co...|    1|\n|          Mount Hope|    1|\n|      Pelham Parkway|    1|\n|         Marble Hill|    1|\n|           Rego Park|    1|\n|       Dyker Heights|    1|\n|Heartland Village...|    1|\n|Upper East Side S...|    1|\n|   Kew Gardens Hills|    1|\n|       Rikers Island|    1|\n|             Bayside|    1|\n|     Jackson Heights|    1|\n+--------------------+-----+\nonly showing top 20 rows\n\n</div>",
       "datasetInfos": [],
       "metadata": {},
       "removedWidgets": [],
       "type": "html"
      }
     },
     "output_type": "display_data"
    }
   ],
   "source": [
    "# Grouping the dataframe by zone \n",
    "\n",
    "df.groupBy(\"zone\").count().show()"
   ]
  },
  {
   "cell_type": "code",
   "execution_count": 0,
   "metadata": {
    "application/vnd.databricks.v1+cell": {
     "inputWidgets": {},
     "nuid": "1efae884-b113-4aae-b2fa-6520fa22db75",
     "showTitle": false,
     "title": ""
    }
   },
   "outputs": [
    {
     "data": {
      "text/html": [
       "<style scoped>\n",
       "  .ansiout {\n",
       "    display: block;\n",
       "    unicode-bidi: embed;\n",
       "    white-space: pre-wrap;\n",
       "    word-wrap: break-word;\n",
       "    word-break: break-all;\n",
       "    font-family: \"Source Code Pro\", \"Menlo\", monospace;;\n",
       "    font-size: 13px;\n",
       "    color: #555;\n",
       "    margin-left: 4px;\n",
       "    line-height: 19px;\n",
       "  }\n",
       "</style>\n",
       "<div class=\"ansiout\">+-------------+-----+\n",
       "      borough|count|\n",
       "+-------------+-----+\n",
       "       Queens|   69|\n",
       "          EWR|    1|\n",
       "     Brooklyn|   61|\n",
       "Staten Island|   20|\n",
       "    Manhattan|   69|\n",
       "        Bronx|   43|\n",
       "+-------------+-----+\n",
       "\n",
       "</div>"
      ]
     },
     "metadata": {
      "application/vnd.databricks.v1+output": {
       "addedWidgets": {},
       "arguments": {},
       "data": "<div class=\"ansiout\">+-------------+-----+\n|      borough|count|\n+-------------+-----+\n|       Queens|   69|\n|          EWR|    1|\n|     Brooklyn|   61|\n|Staten Island|   20|\n|    Manhattan|   69|\n|        Bronx|   43|\n+-------------+-----+\n\n</div>",
       "datasetInfos": [],
       "metadata": {},
       "removedWidgets": [],
       "type": "html"
      }
     },
     "output_type": "display_data"
    }
   ],
   "source": [
    "df.groupBy(\"borough\").count().show()"
   ]
  },
  {
   "cell_type": "code",
   "execution_count": 0,
   "metadata": {
    "application/vnd.databricks.v1+cell": {
     "inputWidgets": {},
     "nuid": "19231315-d403-48c8-a9bd-89538a2425ba",
     "showTitle": false,
     "title": ""
    }
   },
   "outputs": [
    {
     "data": {
      "text/html": [
       "<style scoped>\n",
       "  .ansiout {\n",
       "    display: block;\n",
       "    unicode-bidi: embed;\n",
       "    white-space: pre-wrap;\n",
       "    word-wrap: break-word;\n",
       "    word-break: break-all;\n",
       "    font-family: \"Source Code Pro\", \"Menlo\", monospace;;\n",
       "    font-size: 13px;\n",
       "    color: #555;\n",
       "    margin-left: 4px;\n",
       "    line-height: 19px;\n",
       "  }\n",
       "</style>\n",
       "<div class=\"ansiout\">+-------------+--------+-------------+---------------+\n",
       "      borough|count(1)|max(objectid)|min(locationid)|\n",
       "+-------------+--------+-------------+---------------+\n",
       "       Queens|      69|          260|            2.0|\n",
       "          EWR|       1|            1|            1.0|\n",
       "     Brooklyn|      61|          257|           11.0|\n",
       "Staten Island|      20|          251|            5.0|\n",
       "    Manhattan|      69|          263|            4.0|\n",
       "        Bronx|      43|          259|            3.0|\n",
       "+-------------+--------+-------------+---------------+\n",
       "\n",
       "</div>"
      ]
     },
     "metadata": {
      "application/vnd.databricks.v1+output": {
       "addedWidgets": {},
       "arguments": {},
       "data": "<div class=\"ansiout\">+-------------+--------+-------------+---------------+\n|      borough|count(1)|max(objectid)|min(locationid)|\n+-------------+--------+-------------+---------------+\n|       Queens|      69|          260|            2.0|\n|          EWR|       1|            1|            1.0|\n|     Brooklyn|      61|          257|           11.0|\n|Staten Island|      20|          251|            5.0|\n|    Manhattan|      69|          263|            4.0|\n|        Bronx|      43|          259|            3.0|\n+-------------+--------+-------------+---------------+\n\n</div>",
       "datasetInfos": [],
       "metadata": {},
       "removedWidgets": [],
       "type": "html"
      }
     },
     "output_type": "display_data"
    }
   ],
   "source": [
    "df.groupBy('borough').agg(count(\"*\"), max(\"objectid\"), min(\"locationid\")).show()"
   ]
  },
  {
   "cell_type": "code",
   "execution_count": 0,
   "metadata": {
    "application/vnd.databricks.v1+cell": {
     "inputWidgets": {},
     "nuid": "6d7cc159-e153-4a6d-9550-13fee17343a1",
     "showTitle": false,
     "title": ""
    },
    "scrolled": true
   },
   "outputs": [
    {
     "data": {
      "text/html": [
       "<style scoped>\n",
       "  .ansiout {\n",
       "    display: block;\n",
       "    unicode-bidi: embed;\n",
       "    white-space: pre-wrap;\n",
       "    word-wrap: break-word;\n",
       "    word-break: break-all;\n",
       "    font-family: \"Source Code Pro\", \"Menlo\", monospace;;\n",
       "    font-size: 13px;\n",
       "    color: #555;\n",
       "    margin-left: 4px;\n",
       "    line-height: 19px;\n",
       "  }\n",
       "</style>\n",
       "<div class=\"ansiout\">+--------------------+----------+--------+\n",
       "                zone|locationid|count(1)|\n",
       "+--------------------+----------+--------+\n",
       "          Mount Hope|     169.0|       1|\n",
       "  Soundview/Bruckner|     212.0|       1|\n",
       "      West Concourse|     247.0|       1|\n",
       "Van Cortlandt Vil...|     241.0|       1|\n",
       "     Pelham Bay Park|     184.0|       1|\n",
       "        East Tremont|      78.0|       1|\n",
       "East Concourse/Co...|      69.0|       1|\n",
       "            Longwood|     147.0|       1|\n",
       "Riverdale/North R...|     200.0|       1|\n",
       "      Pelham Parkway|     185.0|       1|\n",
       "         Parkchester|     182.0|       1|\n",
       "          Pelham Bay|     183.0|       1|\n",
       "Soundview/Castle ...|     213.0|       1|\n",
       "Williamsbridge/Ol...|     254.0|       1|\n",
       "         Eastchester|      81.0|       1|\n",
       "   Crotona Park East|      60.0|       1|\n",
       "Spuyten Duyvil/Ki...|     220.0|       1|\n",
       "West Farms/Bronx ...|     248.0|       1|\n",
       "          Highbridge|     119.0|       1|\n",
       "             Norwood|     174.0|       1|\n",
       "+--------------------+----------+--------+\n",
       "only showing top 20 rows\n",
       "\n",
       "</div>"
      ]
     },
     "metadata": {
      "application/vnd.databricks.v1+output": {
       "addedWidgets": {},
       "arguments": {},
       "data": "<div class=\"ansiout\">+--------------------+----------+--------+\n|                zone|locationid|count(1)|\n+--------------------+----------+--------+\n|          Mount Hope|     169.0|       1|\n|  Soundview/Bruckner|     212.0|       1|\n|      West Concourse|     247.0|       1|\n|Van Cortlandt Vil...|     241.0|       1|\n|     Pelham Bay Park|     184.0|       1|\n|        East Tremont|      78.0|       1|\n|East Concourse/Co...|      69.0|       1|\n|            Longwood|     147.0|       1|\n|Riverdale/North R...|     200.0|       1|\n|      Pelham Parkway|     185.0|       1|\n|         Parkchester|     182.0|       1|\n|          Pelham Bay|     183.0|       1|\n|Soundview/Castle ...|     213.0|       1|\n|Williamsbridge/Ol...|     254.0|       1|\n|         Eastchester|      81.0|       1|\n|   Crotona Park East|      60.0|       1|\n|Spuyten Duyvil/Ki...|     220.0|       1|\n|West Farms/Bronx ...|     248.0|       1|\n|          Highbridge|     119.0|       1|\n|             Norwood|     174.0|       1|\n+--------------------+----------+--------+\nonly showing top 20 rows\n\n</div>",
       "datasetInfos": [],
       "metadata": {},
       "removedWidgets": [],
       "type": "html"
      }
     },
     "output_type": "display_data"
    }
   ],
   "source": [
    "df.filter(df.borough == \"Bronx\").groupBy('zone', 'locationid').agg(count(\"*\")).filter(df.locationID > 50).show()"
   ]
  },
  {
   "cell_type": "markdown",
   "metadata": {
    "application/vnd.databricks.v1+cell": {
     "inputWidgets": {},
     "nuid": "09b82bab-3b3a-422e-bfdd-2abd57994e87",
     "showTitle": false,
     "title": ""
    }
   },
   "source": [
    "# UDFs \"User defined functions\""
   ]
  },
  {
   "cell_type": "code",
   "execution_count": null,
   "metadata": {
    "application/vnd.databricks.v1+cell": {
     "inputWidgets": {},
     "nuid": "3d3e6d7b-80e4-4c8a-8876-c310d4266d09",
     "showTitle": false,
     "title": ""
    }
   },
   "outputs": [],
   "source": [
    "# A User Defined Functions that takes columns \"zone\" and \"borough\", combines them and returns a string output.\n",
    "\n",
    "def zone_borough (zone, borough):\n",
    "  return zone + \" \" + borough\n",
    "\n",
    "z_b_UDF = udf(lambda x,y: zone_borough(x,y), StringType()) # StringType to specify the return type\n",
    "\n",
    "df.withColumn(\"zone borough\", z_b_UDF(df.zone, df.borough)).show()"
   ]
  },
  {
   "cell_type": "markdown",
   "metadata": {
    "application/vnd.databricks.v1+cell": {
     "inputWidgets": {},
     "nuid": "b61a9ee5-15cc-4f76-ab25-46734f8f67e0",
     "showTitle": false,
     "title": ""
    }
   },
   "source": [
    "# Writing DF to memory"
   ]
  },
  {
   "cell_type": "code",
   "execution_count": 0,
   "metadata": {
    "application/vnd.databricks.v1+cell": {
     "inputWidgets": {},
     "nuid": "768a39b3-7b56-4a0a-88c2-73427b09acdb",
     "showTitle": false,
     "title": ""
    }
   },
   "outputs": [
    {
     "data": {
      "text/html": [
       "<style scoped>\n",
       "  .ansiout {\n",
       "    display: block;\n",
       "    unicode-bidi: embed;\n",
       "    white-space: pre-wrap;\n",
       "    word-wrap: break-word;\n",
       "    word-break: break-all;\n",
       "    font-family: \"Source Code Pro\", \"Menlo\", monospace;;\n",
       "    font-size: 13px;\n",
       "    color: #555;\n",
       "    margin-left: 4px;\n",
       "    line-height: 19px;\n",
       "  }\n",
       "</style>\n",
       "<div class=\"ansiout\"></div>"
      ]
     },
     "metadata": {
      "application/vnd.databricks.v1+output": {
       "addedWidgets": {},
       "arguments": {},
       "data": "<div class=\"ansiout\"></div>",
       "datasetInfos": [],
       "metadata": {},
       "removedWidgets": [],
       "type": "html"
      }
     },
     "output_type": "display_data"
    }
   ],
   "source": [
    "# Specifying the output path\n",
    "\n",
    "output_path  = \"/FileStore/tables/taxi_zones/output/\""
   ]
  },
  {
   "cell_type": "code",
   "execution_count": 0,
   "metadata": {
    "application/vnd.databricks.v1+cell": {
     "inputWidgets": {},
     "nuid": "c49d27e8-9fa2-4e9c-8c66-e161b63d1a70",
     "showTitle": false,
     "title": ""
    }
   },
   "outputs": [
    {
     "data": {
      "text/html": [
       "<style scoped>\n",
       "  .ansiout {\n",
       "    display: block;\n",
       "    unicode-bidi: embed;\n",
       "    white-space: pre-wrap;\n",
       "    word-wrap: break-word;\n",
       "    word-break: break-all;\n",
       "    font-family: \"Source Code Pro\", \"Menlo\", monospace;;\n",
       "    font-size: 13px;\n",
       "    color: #555;\n",
       "    margin-left: 4px;\n",
       "    line-height: 19px;\n",
       "  }\n",
       "</style>\n",
       "<div class=\"ansiout\"></div>"
      ]
     },
     "metadata": {
      "application/vnd.databricks.v1+output": {
       "addedWidgets": {},
       "arguments": {},
       "data": "<div class=\"ansiout\"></div>",
       "datasetInfos": [],
       "metadata": {},
       "removedWidgets": [],
       "type": "html"
      }
     },
     "output_type": "display_data"
    }
   ],
   "source": [
    "# Writing DataFrame to memory or saving DF to memory\n",
    "\n",
    "df.write.csv(output_path, header=True)"
   ]
  },
  {
   "cell_type": "code",
   "execution_count": null,
   "metadata": {},
   "outputs": [],
   "source": []
  }
 ],
 "metadata": {
  "kernelspec": {
   "display_name": "Python 3",
   "language": "python",
   "name": "python3"
  },
  "language_info": {
   "codemirror_mode": {
    "name": "ipython",
    "version": 3
   },
   "file_extension": ".py",
   "mimetype": "text/x-python",
   "name": "python",
   "nbconvert_exporter": "python",
   "pygments_lexer": "ipython3",
   "version": "3.8.5"
  }
 },
 "nbformat": 4,
 "nbformat_minor": 4
}
