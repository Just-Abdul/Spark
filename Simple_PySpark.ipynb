{
 "cells": [
  {
   "cell_type": "markdown",
   "metadata": {},
   "source": [
    "# PySpark"
   ]
  },
  {
   "cell_type": "markdown",
   "metadata": {},
   "source": [
    "This notebook shows a simple data-mining using Databrick's PySpark to analyze a **2.3Gb csv file with around 24million rows**, saved on Amazon S3. "
   ]
  },
  {
   "cell_type": "code",
   "execution_count": 0,
   "metadata": {
    "application/vnd.databricks.v1+cell": {
     "inputWidgets": {},
     "nuid": "944a4984-52a1-4898-a94a-c13205b7564a",
     "showTitle": false,
     "title": ""
    }
   },
   "outputs": [
    {
     "data": {
      "text/html": [
       "<style scoped>\n",
       "  .ansiout {\n",
       "    display: block;\n",
       "    unicode-bidi: embed;\n",
       "    white-space: pre-wrap;\n",
       "    word-wrap: break-word;\n",
       "    word-break: break-all;\n",
       "    font-family: \"Source Code Pro\", \"Menlo\", monospace;;\n",
       "    font-size: 13px;\n",
       "    color: #555;\n",
       "    margin-left: 4px;\n",
       "    line-height: 19px;\n",
       "  }\n",
       "</style>\n",
       "<div class=\"ansiout\">Out[1]: [FileInfo(path=&#39;s3a://just-abdul-aws/us-east-2-bundle.pem&#39;, name=&#39;us-east-2-bundle.pem&#39;, size=7492),\n",
       " FileInfo(path=&#39;s3a://just-abdul-aws/NLP/&#39;, name=&#39;NLP/&#39;, size=0),\n",
       " FileInfo(path=&#39;s3a://just-abdul-aws/NTA/&#39;, name=&#39;NTA/&#39;, size=0),\n",
       " FileInfo(path=&#39;s3a://just-abdul-aws/NewYork/&#39;, name=&#39;NewYork/&#39;, size=0),\n",
       " FileInfo(path=&#39;s3a://just-abdul-aws/Random_CF/&#39;, name=&#39;Random_CF/&#39;, size=0),\n",
       " FileInfo(path=&#39;s3a://just-abdul-aws/TSA/&#39;, name=&#39;TSA/&#39;, size=0),\n",
       " FileInfo(path=&#39;s3a://just-abdul-aws/chap2/&#39;, name=&#39;chap2/&#39;, size=0),\n",
       " FileInfo(path=&#39;s3a://just-abdul-aws/chap3/&#39;, name=&#39;chap3/&#39;, size=0),\n",
       " FileInfo(path=&#39;s3a://just-abdul-aws/elasticmapreduce/&#39;, name=&#39;elasticmapreduce/&#39;, size=0),\n",
       " FileInfo(path=&#39;s3a://just-abdul-aws/pca/&#39;, name=&#39;pca/&#39;, size=0),\n",
       " FileInfo(path=&#39;s3a://just-abdul-aws/practice1/&#39;, name=&#39;practice1/&#39;, size=0),\n",
       " FileInfo(path=&#39;s3a://just-abdul-aws/regression/&#39;, name=&#39;regression/&#39;, size=0)]</div>"
      ]
     },
     "metadata": {
      "application/vnd.databricks.v1+output": {
       "addedWidgets": {},
       "arguments": {},
       "data": "<div class=\"ansiout\">Out[1]: [FileInfo(path=&#39;s3a://just-abdul-aws/us-east-2-bundle.pem&#39;, name=&#39;us-east-2-bundle.pem&#39;, size=7492),\n FileInfo(path=&#39;s3a://just-abdul-aws/NLP/&#39;, name=&#39;NLP/&#39;, size=0),\n FileInfo(path=&#39;s3a://just-abdul-aws/NTA/&#39;, name=&#39;NTA/&#39;, size=0),\n FileInfo(path=&#39;s3a://just-abdul-aws/NewYork/&#39;, name=&#39;NewYork/&#39;, size=0),\n FileInfo(path=&#39;s3a://just-abdul-aws/Random_CF/&#39;, name=&#39;Random_CF/&#39;, size=0),\n FileInfo(path=&#39;s3a://just-abdul-aws/TSA/&#39;, name=&#39;TSA/&#39;, size=0),\n FileInfo(path=&#39;s3a://just-abdul-aws/chap2/&#39;, name=&#39;chap2/&#39;, size=0),\n FileInfo(path=&#39;s3a://just-abdul-aws/chap3/&#39;, name=&#39;chap3/&#39;, size=0),\n FileInfo(path=&#39;s3a://just-abdul-aws/elasticmapreduce/&#39;, name=&#39;elasticmapreduce/&#39;, size=0),\n FileInfo(path=&#39;s3a://just-abdul-aws/pca/&#39;, name=&#39;pca/&#39;, size=0),\n FileInfo(path=&#39;s3a://just-abdul-aws/practice1/&#39;, name=&#39;practice1/&#39;, size=0),\n FileInfo(path=&#39;s3a://just-abdul-aws/regression/&#39;, name=&#39;regression/&#39;, size=0)]</div>",
       "datasetInfos": [],
       "metadata": {},
       "removedWidgets": [],
       "type": "html"
      }
     },
     "output_type": "display_data"
    }
   ],
   "source": [
    "# Lists the folders i have in my Amazon S3 bucket, to ensure there's a connection between Databrick's platform and Amazon S3 storage\n",
    "\n",
    "dbutils.fs.ls(\"s3a://just-abdul-aws/\")"
   ]
  },
  {
   "cell_type": "code",
   "execution_count": 0,
   "metadata": {
    "application/vnd.databricks.v1+cell": {
     "inputWidgets": {},
     "nuid": "f8909762-70d5-4c74-9621-64ca6b53d7fd",
     "showTitle": false,
     "title": ""
    }
   },
   "outputs": [
    {
     "data": {
      "text/html": [
       "<style scoped>\n",
       "  .ansiout {\n",
       "    display: block;\n",
       "    unicode-bidi: embed;\n",
       "    white-space: pre-wrap;\n",
       "    word-wrap: break-word;\n",
       "    word-break: break-all;\n",
       "    font-family: \"Source Code Pro\", \"Menlo\", monospace;;\n",
       "    font-size: 13px;\n",
       "    color: #555;\n",
       "    margin-left: 4px;\n",
       "    line-height: 19px;\n",
       "  }\n",
       "</style>\n",
       "<div class=\"ansiout\"></div>"
      ]
     },
     "metadata": {
      "application/vnd.databricks.v1+output": {
       "addedWidgets": {},
       "arguments": {},
       "data": "<div class=\"ansiout\"></div>",
       "datasetInfos": [],
       "metadata": {},
       "removedWidgets": [],
       "type": "html"
      }
     },
     "output_type": "display_data"
    }
   ],
   "source": [
    "#Importing necessary library\n",
    "\n",
    "from pyspark import SparkConf, SparkContext\n",
    "from pyspark.sql import SparkSession"
   ]
  },
  {
   "cell_type": "code",
   "execution_count": 0,
   "metadata": {
    "application/vnd.databricks.v1+cell": {
     "inputWidgets": {},
     "nuid": "9388b306-0d6b-4c35-9bd9-58d6a830aaf2",
     "showTitle": false,
     "title": ""
    }
   },
   "outputs": [
    {
     "data": {
      "text/html": [
       "<style scoped>\n",
       "  .ansiout {\n",
       "    display: block;\n",
       "    unicode-bidi: embed;\n",
       "    white-space: pre-wrap;\n",
       "    word-wrap: break-word;\n",
       "    word-break: break-all;\n",
       "    font-family: \"Source Code Pro\", \"Menlo\", monospace;;\n",
       "    font-size: 13px;\n",
       "    color: #555;\n",
       "    margin-left: 4px;\n",
       "    line-height: 19px;\n",
       "  }\n",
       "</style>\n",
       "<div class=\"ansiout\"></div>"
      ]
     },
     "metadata": {
      "application/vnd.databricks.v1+output": {
       "addedWidgets": {},
       "arguments": {},
       "data": "<div class=\"ansiout\"></div>",
       "datasetInfos": [],
       "metadata": {},
       "removedWidgets": [],
       "type": "html"
      }
     },
     "output_type": "display_data"
    }
   ],
   "source": [
    "#Sets up spark congif and assigns an app name\n",
    "\n",
    "conf  = SparkConf().setAppName (\"Read File\")"
   ]
  },
  {
   "cell_type": "code",
   "execution_count": 0,
   "metadata": {
    "application/vnd.databricks.v1+cell": {
     "inputWidgets": {},
     "nuid": "669116f2-d60b-4a56-abc0-071c4586997c",
     "showTitle": false,
     "title": ""
    }
   },
   "outputs": [
    {
     "data": {
      "text/html": [
       "<style scoped>\n",
       "  .ansiout {\n",
       "    display: block;\n",
       "    unicode-bidi: embed;\n",
       "    white-space: pre-wrap;\n",
       "    word-wrap: break-word;\n",
       "    word-break: break-all;\n",
       "    font-family: \"Source Code Pro\", \"Menlo\", monospace;;\n",
       "    font-size: 13px;\n",
       "    color: #555;\n",
       "    margin-left: 4px;\n",
       "    line-height: 19px;\n",
       "  }\n",
       "</style>\n",
       "<div class=\"ansiout\"></div>"
      ]
     },
     "metadata": {
      "application/vnd.databricks.v1+output": {
       "addedWidgets": {},
       "arguments": {},
       "data": "<div class=\"ansiout\"></div>",
       "datasetInfos": [],
       "metadata": {},
       "removedWidgets": [],
       "type": "html"
      }
     },
     "output_type": "display_data"
    }
   ],
   "source": [
    "# Creates spark context\n",
    "\n",
    "sc = SparkContext.getOrCreate(conf=conf)"
   ]
  },
  {
   "cell_type": "code",
   "execution_count": 0,
   "metadata": {
    "application/vnd.databricks.v1+cell": {
     "inputWidgets": {},
     "nuid": "8c91d1e4-4165-48b5-9ae0-cf01ed631571",
     "showTitle": false,
     "title": ""
    }
   },
   "outputs": [
    {
     "data": {
      "text/html": [
       "<style scoped>\n",
       "  .ansiout {\n",
       "    display: block;\n",
       "    unicode-bidi: embed;\n",
       "    white-space: pre-wrap;\n",
       "    word-wrap: break-word;\n",
       "    word-break: break-all;\n",
       "    font-family: \"Source Code Pro\", \"Menlo\", monospace;;\n",
       "    font-size: 13px;\n",
       "    color: #555;\n",
       "    margin-left: 4px;\n",
       "    line-height: 19px;\n",
       "  }\n",
       "</style>\n",
       "<div class=\"ansiout\"></div>"
      ]
     },
     "metadata": {
      "application/vnd.databricks.v1+output": {
       "addedWidgets": {},
       "arguments": {},
       "data": "<div class=\"ansiout\"></div>",
       "datasetInfos": [],
       "metadata": {},
       "removedWidgets": [],
       "type": "html"
      }
     },
     "output_type": "display_data"
    }
   ],
   "source": [
    "# File path\n",
    "\n",
    "path='s3a://just-abdul-aws/NTA/Yellow_Taxi_Trip_Data_2020.csv'"
   ]
  },
  {
   "cell_type": "code",
   "execution_count": 0,
   "metadata": {
    "application/vnd.databricks.v1+cell": {
     "inputWidgets": {},
     "nuid": "7ecac5a7-ab59-4451-be52-87f4449ceac3",
     "showTitle": false,
     "title": ""
    }
   },
   "outputs": [
    {
     "data": {
      "text/html": [
       "<style scoped>\n",
       "  .ansiout {\n",
       "    display: block;\n",
       "    unicode-bidi: embed;\n",
       "    white-space: pre-wrap;\n",
       "    word-wrap: break-word;\n",
       "    word-break: break-all;\n",
       "    font-family: \"Source Code Pro\", \"Menlo\", monospace;;\n",
       "    font-size: 13px;\n",
       "    color: #555;\n",
       "    margin-left: 4px;\n",
       "    line-height: 19px;\n",
       "  }\n",
       "</style>\n",
       "<div class=\"ansiout\"></div>"
      ]
     },
     "metadata": {
      "application/vnd.databricks.v1+output": {
       "addedWidgets": {},
       "arguments": {},
       "data": "<div class=\"ansiout\"></div>",
       "datasetInfos": [],
       "metadata": {},
       "removedWidgets": [],
       "type": "html"
      }
     },
     "output_type": "display_data"
    }
   ],
   "source": [
    "# Reading the csv file\n",
    "\n",
    "df = spark.read.csv(path, header=True)"
   ]
  },
  {
   "cell_type": "code",
   "execution_count": 0,
   "metadata": {
    "application/vnd.databricks.v1+cell": {
     "inputWidgets": {},
     "nuid": "83698abb-2b17-407e-ac69-389d7baa84f2",
     "showTitle": false,
     "title": ""
    }
   },
   "outputs": [
    {
     "data": {
      "text/html": [
       "<style scoped>\n",
       "  .ansiout {\n",
       "    display: block;\n",
       "    unicode-bidi: embed;\n",
       "    white-space: pre-wrap;\n",
       "    word-wrap: break-word;\n",
       "    word-break: break-all;\n",
       "    font-family: \"Source Code Pro\", \"Menlo\", monospace;;\n",
       "    font-size: 13px;\n",
       "    color: #555;\n",
       "    margin-left: 4px;\n",
       "    line-height: 19px;\n",
       "  }\n",
       "</style>\n",
       "<div class=\"ansiout\">+--------+--------------------+---------------------+---------------+-------------+----------+------------------+------------+------------+------------+-----------+-----+-------+----------+------------+---------------------+------------+--------------------+\n",
       "VendorID|tpep_pickup_datetime|tpep_dropoff_datetime|passenger_count|trip_distance|RatecodeID|store_and_fwd_flag|PULocationID|DOLocationID|payment_type|fare_amount|extra|mta_tax|tip_amount|tolls_amount|improvement_surcharge|total_amount|congestion_surcharge|\n",
       "+--------+--------------------+---------------------+---------------+-------------+----------+------------------+------------+------------+------------+-----------+-----+-------+----------+------------+---------------------+------------+--------------------+\n",
       "       1|01/01/2020 12:28:...| 01/01/2020 12:33:...|              1|          1.2|         1|                 N|         238|         239|           1|          6|    3|    0.5|      1.47|           0|                  0.3|       11.27|                 2.5|\n",
       "       1|01/01/2020 12:35:...| 01/01/2020 12:43:...|              1|          1.2|         1|                 N|         239|         238|           1|          7|    3|    0.5|       1.5|           0|                  0.3|        12.3|                 2.5|\n",
       "       1|01/01/2020 12:47:...| 01/01/2020 12:53:...|              1|          0.6|         1|                 N|         238|         238|           1|          6|    3|    0.5|         1|           0|                  0.3|        10.8|                 2.5|\n",
       "       1|01/01/2020 12:55:...| 01/01/2020 01:00:...|              1|          0.8|         1|                 N|         238|         151|           1|        5.5|  0.5|    0.5|      1.36|           0|                  0.3|        8.16|                   0|\n",
       "       2|01/01/2020 12:01:...| 01/01/2020 12:04:...|              1|            0|         1|                 N|         193|         193|           2|        3.5|  0.5|    0.5|         0|           0|                  0.3|         4.8|                   0|\n",
       "       2|01/01/2020 12:09:...| 01/01/2020 12:10:...|              1|         0.03|         1|                 N|           7|         193|           2|        2.5|  0.5|    0.5|         0|           0|                  0.3|         3.8|                   0|\n",
       "       2|01/01/2020 12:39:...| 01/01/2020 12:39:...|              1|            0|         1|                 N|         193|         193|           1|        2.5|  0.5|    0.5|      0.01|           0|                  0.3|        3.81|                   0|\n",
       "       2|12/18/2019 03:27:...| 12/18/2019 03:28:...|              1|            0|         5|                 N|         193|         193|           1|       0.01|    0|      0|         0|           0|                  0.3|        2.81|                 2.5|\n",
       "       2|12/18/2019 03:30:...| 12/18/2019 03:31:...|              4|            0|         1|                 N|         193|         193|           1|        2.5|  0.5|    0.5|         0|           0|                  0.3|         6.3|                 2.5|\n",
       "       1|01/01/2020 12:29:...| 01/01/2020 12:40:...|              2|          0.7|         1|                 N|         246|          48|           1|          8|    3|    0.5|      2.35|           0|                  0.3|       14.15|                 2.5|\n",
       "       1|01/01/2020 12:55:...| 01/01/2020 01:12:...|              2|          2.4|         1|                 N|         246|          79|           1|         12|    3|    0.5|      1.75|           0|                  0.3|       17.55|                 2.5|\n",
       "       1|01/01/2020 12:37:...| 01/01/2020 12:51:...|              1|          0.8|         1|                 N|         163|         161|           2|        9.5|    3|    0.5|         0|           0|                  0.3|        13.3|                 2.5|\n",
       "       1|01/01/2020 12:56:...| 01/01/2020 01:21:...|              1|          3.3|         1|                 N|         161|         144|           1|         17|    3|    0.5|      4.15|           0|                  0.3|       24.95|                 2.5|\n",
       "       2|01/01/2020 12:21:...| 01/01/2020 12:27:...|              1|         1.07|         1|                 N|          43|         239|           1|          6|  0.5|    0.5|      1.96|           0|                  0.3|       11.76|                 2.5|\n",
       "       2|01/01/2020 12:38:...| 01/01/2020 01:15:...|              1|         7.76|         1|                 N|         143|          25|           1|       28.5|  0.5|    0.5|      4.84|           0|                  0.3|       37.14|                 2.5|\n",
       "       1|01/01/2020 12:15:...| 01/01/2020 12:27:...|              3|          1.6|         1|                 N|         211|         234|           2|          9|    3|    0.5|         0|           0|                  0.3|        12.8|                 2.5|\n",
       "       1|01/01/2020 12:41:...| 01/01/2020 12:44:...|              1|          0.5|         1|                 Y|         234|          90|           1|          4|    3|    0.5|         1|           0|                  0.3|         8.8|                 2.5|\n",
       "       1|01/01/2020 12:56:...| 01/01/2020 01:13:...|              1|          1.7|         1|                 N|         246|         142|           2|       11.5|    3|    0.5|         0|           0|                  0.3|        15.3|                 2.5|\n",
       "       2|01/01/2020 12:08:...| 01/01/2020 12:25:...|              1|         8.45|         1|                 N|         138|         216|           2|       24.5|  0.5|    0.5|         0|           0|                  0.3|        25.8|                   0|\n",
       "       1|01/01/2020 12:25:...| 01/01/2020 12:27:...|              1|            0|         1|                 N|         170|         162|           4|          3|    3|    0.5|         0|           0|                  0.3|         6.8|                 2.5|\n",
       "+--------+--------------------+---------------------+---------------+-------------+----------+------------------+------------+------------+------------+-----------+-----+-------+----------+------------+---------------------+------------+--------------------+\n",
       "only showing top 20 rows\n",
       "\n",
       "</div>"
      ]
     },
     "metadata": {
      "application/vnd.databricks.v1+output": {
       "addedWidgets": {},
       "arguments": {},
       "data": "<div class=\"ansiout\">+--------+--------------------+---------------------+---------------+-------------+----------+------------------+------------+------------+------------+-----------+-----+-------+----------+------------+---------------------+------------+--------------------+\n|VendorID|tpep_pickup_datetime|tpep_dropoff_datetime|passenger_count|trip_distance|RatecodeID|store_and_fwd_flag|PULocationID|DOLocationID|payment_type|fare_amount|extra|mta_tax|tip_amount|tolls_amount|improvement_surcharge|total_amount|congestion_surcharge|\n+--------+--------------------+---------------------+---------------+-------------+----------+------------------+------------+------------+------------+-----------+-----+-------+----------+------------+---------------------+------------+--------------------+\n|       1|01/01/2020 12:28:...| 01/01/2020 12:33:...|              1|          1.2|         1|                 N|         238|         239|           1|          6|    3|    0.5|      1.47|           0|                  0.3|       11.27|                 2.5|\n|       1|01/01/2020 12:35:...| 01/01/2020 12:43:...|              1|          1.2|         1|                 N|         239|         238|           1|          7|    3|    0.5|       1.5|           0|                  0.3|        12.3|                 2.5|\n|       1|01/01/2020 12:47:...| 01/01/2020 12:53:...|              1|          0.6|         1|                 N|         238|         238|           1|          6|    3|    0.5|         1|           0|                  0.3|        10.8|                 2.5|\n|       1|01/01/2020 12:55:...| 01/01/2020 01:00:...|              1|          0.8|         1|                 N|         238|         151|           1|        5.5|  0.5|    0.5|      1.36|           0|                  0.3|        8.16|                   0|\n|       2|01/01/2020 12:01:...| 01/01/2020 12:04:...|              1|            0|         1|                 N|         193|         193|           2|        3.5|  0.5|    0.5|         0|           0|                  0.3|         4.8|                   0|\n|       2|01/01/2020 12:09:...| 01/01/2020 12:10:...|              1|         0.03|         1|                 N|           7|         193|           2|        2.5|  0.5|    0.5|         0|           0|                  0.3|         3.8|                   0|\n|       2|01/01/2020 12:39:...| 01/01/2020 12:39:...|              1|            0|         1|                 N|         193|         193|           1|        2.5|  0.5|    0.5|      0.01|           0|                  0.3|        3.81|                   0|\n|       2|12/18/2019 03:27:...| 12/18/2019 03:28:...|              1|            0|         5|                 N|         193|         193|           1|       0.01|    0|      0|         0|           0|                  0.3|        2.81|                 2.5|\n|       2|12/18/2019 03:30:...| 12/18/2019 03:31:...|              4|            0|         1|                 N|         193|         193|           1|        2.5|  0.5|    0.5|         0|           0|                  0.3|         6.3|                 2.5|\n|       1|01/01/2020 12:29:...| 01/01/2020 12:40:...|              2|          0.7|         1|                 N|         246|          48|           1|          8|    3|    0.5|      2.35|           0|                  0.3|       14.15|                 2.5|\n|       1|01/01/2020 12:55:...| 01/01/2020 01:12:...|              2|          2.4|         1|                 N|         246|          79|           1|         12|    3|    0.5|      1.75|           0|                  0.3|       17.55|                 2.5|\n|       1|01/01/2020 12:37:...| 01/01/2020 12:51:...|              1|          0.8|         1|                 N|         163|         161|           2|        9.5|    3|    0.5|         0|           0|                  0.3|        13.3|                 2.5|\n|       1|01/01/2020 12:56:...| 01/01/2020 01:21:...|              1|          3.3|         1|                 N|         161|         144|           1|         17|    3|    0.5|      4.15|           0|                  0.3|       24.95|                 2.5|\n|       2|01/01/2020 12:21:...| 01/01/2020 12:27:...|              1|         1.07|         1|                 N|          43|         239|           1|          6|  0.5|    0.5|      1.96|           0|                  0.3|       11.76|                 2.5|\n|       2|01/01/2020 12:38:...| 01/01/2020 01:15:...|              1|         7.76|         1|                 N|         143|          25|           1|       28.5|  0.5|    0.5|      4.84|           0|                  0.3|       37.14|                 2.5|\n|       1|01/01/2020 12:15:...| 01/01/2020 12:27:...|              3|          1.6|         1|                 N|         211|         234|           2|          9|    3|    0.5|         0|           0|                  0.3|        12.8|                 2.5|\n|       1|01/01/2020 12:41:...| 01/01/2020 12:44:...|              1|          0.5|         1|                 Y|         234|          90|           1|          4|    3|    0.5|         1|           0|                  0.3|         8.8|                 2.5|\n|       1|01/01/2020 12:56:...| 01/01/2020 01:13:...|              1|          1.7|         1|                 N|         246|         142|           2|       11.5|    3|    0.5|         0|           0|                  0.3|        15.3|                 2.5|\n|       2|01/01/2020 12:08:...| 01/01/2020 12:25:...|              1|         8.45|         1|                 N|         138|         216|           2|       24.5|  0.5|    0.5|         0|           0|                  0.3|        25.8|                   0|\n|       1|01/01/2020 12:25:...| 01/01/2020 12:27:...|              1|            0|         1|                 N|         170|         162|           4|          3|    3|    0.5|         0|           0|                  0.3|         6.8|                 2.5|\n+--------+--------------------+---------------------+---------------+-------------+----------+------------------+------------+------------+------------+-----------+-----+-------+----------+------------+---------------------+------------+--------------------+\nonly showing top 20 rows\n\n</div>",
       "datasetInfos": [],
       "metadata": {},
       "removedWidgets": [],
       "type": "html"
      }
     },
     "output_type": "display_data"
    }
   ],
   "source": [
    "# Displays the dataframe\n",
    "\n",
    "df.show()"
   ]
  },
  {
   "cell_type": "code",
   "execution_count": 0,
   "metadata": {
    "application/vnd.databricks.v1+cell": {
     "inputWidgets": {},
     "nuid": "c8d3011f-0a42-4866-a139-9766a71aa8ae",
     "showTitle": false,
     "title": ""
    }
   },
   "outputs": [
    {
     "data": {
      "text/html": [
       "<style scoped>\n",
       "  .ansiout {\n",
       "    display: block;\n",
       "    unicode-bidi: embed;\n",
       "    white-space: pre-wrap;\n",
       "    word-wrap: break-word;\n",
       "    word-break: break-all;\n",
       "    font-family: \"Source Code Pro\", \"Menlo\", monospace;;\n",
       "    font-size: 13px;\n",
       "    color: #555;\n",
       "    margin-left: 4px;\n",
       "    line-height: 19px;\n",
       "  }\n",
       "</style>\n",
       "<div class=\"ansiout\">root\n",
       "-- VendorID: string (nullable = true)\n",
       "-- tpep_pickup_datetime: string (nullable = true)\n",
       "-- tpep_dropoff_datetime: string (nullable = true)\n",
       "-- passenger_count: string (nullable = true)\n",
       "-- trip_distance: string (nullable = true)\n",
       "-- RatecodeID: string (nullable = true)\n",
       "-- store_and_fwd_flag: string (nullable = true)\n",
       "-- PULocationID: string (nullable = true)\n",
       "-- DOLocationID: string (nullable = true)\n",
       "-- payment_type: string (nullable = true)\n",
       "-- fare_amount: string (nullable = true)\n",
       "-- extra: string (nullable = true)\n",
       "-- mta_tax: string (nullable = true)\n",
       "-- tip_amount: string (nullable = true)\n",
       "-- tolls_amount: string (nullable = true)\n",
       "-- improvement_surcharge: string (nullable = true)\n",
       "-- total_amount: string (nullable = true)\n",
       "-- congestion_surcharge: string (nullable = true)\n",
       "\n",
       "</div>"
      ]
     },
     "metadata": {
      "application/vnd.databricks.v1+output": {
       "addedWidgets": {},
       "arguments": {},
       "data": "<div class=\"ansiout\">root\n |-- VendorID: string (nullable = true)\n |-- tpep_pickup_datetime: string (nullable = true)\n |-- tpep_dropoff_datetime: string (nullable = true)\n |-- passenger_count: string (nullable = true)\n |-- trip_distance: string (nullable = true)\n |-- RatecodeID: string (nullable = true)\n |-- store_and_fwd_flag: string (nullable = true)\n |-- PULocationID: string (nullable = true)\n |-- DOLocationID: string (nullable = true)\n |-- payment_type: string (nullable = true)\n |-- fare_amount: string (nullable = true)\n |-- extra: string (nullable = true)\n |-- mta_tax: string (nullable = true)\n |-- tip_amount: string (nullable = true)\n |-- tolls_amount: string (nullable = true)\n |-- improvement_surcharge: string (nullable = true)\n |-- total_amount: string (nullable = true)\n |-- congestion_surcharge: string (nullable = true)\n\n</div>",
       "datasetInfos": [],
       "metadata": {},
       "removedWidgets": [],
       "type": "html"
      }
     },
     "output_type": "display_data"
    }
   ],
   "source": [
    "# Prints Schema of the data which is the column name, column type and nullable-status\n",
    "\n",
    "df.printSchema()"
   ]
  },
  {
   "cell_type": "code",
   "execution_count": 0,
   "metadata": {
    "application/vnd.databricks.v1+cell": {
     "inputWidgets": {},
     "nuid": "88e7bee5-d0a4-4418-a238-c0ed27472ab3",
     "showTitle": false,
     "title": ""
    }
   },
   "outputs": [
    {
     "data": {
      "text/html": [
       "<style scoped>\n",
       "  .ansiout {\n",
       "    display: block;\n",
       "    unicode-bidi: embed;\n",
       "    white-space: pre-wrap;\n",
       "    word-wrap: break-word;\n",
       "    word-break: break-all;\n",
       "    font-family: \"Source Code Pro\", \"Menlo\", monospace;;\n",
       "    font-size: 13px;\n",
       "    color: #555;\n",
       "    margin-left: 4px;\n",
       "    line-height: 19px;\n",
       "  }\n",
       "</style>\n",
       "<div class=\"ansiout\">+-------------+\n",
       "trip_distance|\n",
       "+-------------+\n",
       "          1.2|\n",
       "          1.2|\n",
       "          0.6|\n",
       "          0.8|\n",
       "            0|\n",
       "         0.03|\n",
       "            0|\n",
       "            0|\n",
       "            0|\n",
       "          0.7|\n",
       "          2.4|\n",
       "          0.8|\n",
       "          3.3|\n",
       "         1.07|\n",
       "         7.76|\n",
       "          1.6|\n",
       "          0.5|\n",
       "          1.7|\n",
       "         8.45|\n",
       "            0|\n",
       "+-------------+\n",
       "only showing top 20 rows\n",
       "\n",
       "</div>"
      ]
     },
     "metadata": {
      "application/vnd.databricks.v1+output": {
       "addedWidgets": {},
       "arguments": {},
       "data": "<div class=\"ansiout\">+-------------+\n|trip_distance|\n+-------------+\n|          1.2|\n|          1.2|\n|          0.6|\n|          0.8|\n|            0|\n|         0.03|\n|            0|\n|            0|\n|            0|\n|          0.7|\n|          2.4|\n|          0.8|\n|          3.3|\n|         1.07|\n|         7.76|\n|          1.6|\n|          0.5|\n|          1.7|\n|         8.45|\n|            0|\n+-------------+\nonly showing top 20 rows\n\n</div>",
       "datasetInfos": [],
       "metadata": {},
       "removedWidgets": [],
       "type": "html"
      }
     },
     "output_type": "display_data"
    }
   ],
   "source": [
    "# Shows the top 20 rows of a column (trip distance)\n",
    "\n",
    "df.select(\"trip_distance\").show()"
   ]
  },
  {
   "cell_type": "code",
   "execution_count": 0,
   "metadata": {
    "application/vnd.databricks.v1+cell": {
     "inputWidgets": {},
     "nuid": "9beb9393-ee0a-4c8c-89a5-24c18f0e1c31",
     "showTitle": false,
     "title": ""
    }
   },
   "outputs": [
    {
     "data": {
      "text/html": [
       "<style scoped>\n",
       "  .ansiout {\n",
       "    display: block;\n",
       "    unicode-bidi: embed;\n",
       "    white-space: pre-wrap;\n",
       "    word-wrap: break-word;\n",
       "    word-break: break-all;\n",
       "    font-family: \"Source Code Pro\", \"Menlo\", monospace;;\n",
       "    font-size: 13px;\n",
       "    color: #555;\n",
       "    margin-left: 4px;\n",
       "    line-height: 19px;\n",
       "  }\n",
       "</style>\n",
       "<div class=\"ansiout\">+-------------+-----------+\n",
       "trip_distance|fare_amount|\n",
       "+-------------+-----------+\n",
       "          1.2|          6|\n",
       "          1.2|          7|\n",
       "          0.6|          6|\n",
       "          0.8|        5.5|\n",
       "            0|        3.5|\n",
       "         0.03|        2.5|\n",
       "            0|        2.5|\n",
       "            0|       0.01|\n",
       "            0|        2.5|\n",
       "          0.7|          8|\n",
       "          2.4|         12|\n",
       "          0.8|        9.5|\n",
       "          3.3|         17|\n",
       "         1.07|          6|\n",
       "         7.76|       28.5|\n",
       "          1.6|          9|\n",
       "          0.5|          4|\n",
       "          1.7|       11.5|\n",
       "         8.45|       24.5|\n",
       "            0|          3|\n",
       "+-------------+-----------+\n",
       "only showing top 20 rows\n",
       "\n",
       "</div>"
      ]
     },
     "metadata": {
      "application/vnd.databricks.v1+output": {
       "addedWidgets": {},
       "arguments": {},
       "data": "<div class=\"ansiout\">+-------------+-----------+\n|trip_distance|fare_amount|\n+-------------+-----------+\n|          1.2|          6|\n|          1.2|          7|\n|          0.6|          6|\n|          0.8|        5.5|\n|            0|        3.5|\n|         0.03|        2.5|\n|            0|        2.5|\n|            0|       0.01|\n|            0|        2.5|\n|          0.7|          8|\n|          2.4|         12|\n|          0.8|        9.5|\n|          3.3|         17|\n|         1.07|          6|\n|         7.76|       28.5|\n|          1.6|          9|\n|          0.5|          4|\n|          1.7|       11.5|\n|         8.45|       24.5|\n|            0|          3|\n+-------------+-----------+\nonly showing top 20 rows\n\n</div>",
       "datasetInfos": [],
       "metadata": {},
       "removedWidgets": [],
       "type": "html"
      }
     },
     "output_type": "display_data"
    }
   ],
   "source": [
    "# Selects and shows 2 columns \n",
    "\n",
    "df.select(df[\"trip_distance\"], df[\"fare_amount\"]).show()"
   ]
  },
  {
   "cell_type": "code",
   "execution_count": 0,
   "metadata": {
    "application/vnd.databricks.v1+cell": {
     "inputWidgets": {},
     "nuid": "4dea3c27-83b1-428f-a38b-1b2c5cbcf7d3",
     "showTitle": false,
     "title": ""
    },
    "scrolled": true
   },
   "outputs": [
    {
     "data": {
      "text/html": [
       "<style scoped>\n",
       "  .ansiout {\n",
       "    display: block;\n",
       "    unicode-bidi: embed;\n",
       "    white-space: pre-wrap;\n",
       "    word-wrap: break-word;\n",
       "    word-break: break-all;\n",
       "    font-family: \"Source Code Pro\", \"Menlo\", monospace;;\n",
       "    font-size: 13px;\n",
       "    color: #555;\n",
       "    margin-left: 4px;\n",
       "    line-height: 19px;\n",
       "  }\n",
       "</style>\n",
       "<div class=\"ansiout\">+------------------+--------+\n",
       "store_and_fwd_flag|   count|\n",
       "+------------------+--------+\n",
       "                 Y|  245259|\n",
       "                 N|23593672|\n",
       "              null|  809568|\n",
       "+------------------+--------+\n",
       "\n",
       "</div>"
      ]
     },
     "metadata": {
      "application/vnd.databricks.v1+output": {
       "addedWidgets": {},
       "arguments": {},
       "data": "<div class=\"ansiout\">+------------------+--------+\n|store_and_fwd_flag|   count|\n+------------------+--------+\n|                 Y|  245259|\n|                 N|23593672|\n|              null|  809568|\n+------------------+--------+\n\n</div>",
       "datasetInfos": [],
       "metadata": {},
       "removedWidgets": [],
       "type": "html"
      }
     },
     "output_type": "display_data"
    }
   ],
   "source": [
    "# Grouping calues in column (store and fwd flag)\n",
    "\n",
    "df.groupBy(\"store_and_fwd_flag\").count().show()"
   ]
  },
  {
   "cell_type": "code",
   "execution_count": null,
   "metadata": {},
   "outputs": [],
   "source": [
    "# Stops the Spark Context\n",
    "\n",
    "sc.stop"
   ]
  }
 ],
 "metadata": {
  "application/vnd.databricks.v1+notebook": {
   "dashboards": [],
   "language": "python",
   "notebookMetadata": {
    "pythonIndentUnit": 2
   },
   "notebookName": "DB-Notebook",
   "notebookOrigID": 4381018425674983,
   "widgets": {}
  },
  "kernelspec": {
   "display_name": "Python 3",
   "language": "python",
   "name": "python3"
  },
  "language_info": {
   "codemirror_mode": {
    "name": "ipython",
    "version": 3
   },
   "file_extension": ".py",
   "mimetype": "text/x-python",
   "name": "python",
   "nbconvert_exporter": "python",
   "pygments_lexer": "ipython3",
   "version": "3.8.5"
  }
 },
 "nbformat": 4,
 "nbformat_minor": 1
}
